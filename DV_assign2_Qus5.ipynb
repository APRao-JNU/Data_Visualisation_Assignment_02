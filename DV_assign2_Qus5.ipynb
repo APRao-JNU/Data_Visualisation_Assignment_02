{
 "cells": [
  {
   "cell_type": "markdown",
   "id": "f6b8cfba",
   "metadata": {},
   "source": [
    "# Qus.5)   Using the dataset in the below link, create a table and scatter plot, and resize the table and scatter plots using Excel.\n",
    "\n",
    "### https://docs.google.com/spreadsheets/d/1qB3hdMs70S0a-LkccDCxaotGZOw1DyEX/edit?usp=share_link&ouid=102277753013758334835&rtpof=true&sd=true"
   ]
  },
  {
   "cell_type": "code",
   "execution_count": 1,
   "id": "7cb2b7f1",
   "metadata": {},
   "outputs": [],
   "source": [
    "from bokeh.layouts import column\n",
    "from bokeh.models import ColumnDataSource, DataTable, TableColumn\n",
    "from bokeh.plotting import figure, show, output_notebook\n",
    "import pandas"
   ]
  },
  {
   "cell_type": "code",
   "execution_count": 2,
   "id": "36632179",
   "metadata": {},
   "outputs": [
    {
     "data": {
      "text/html": [
       "<style>\n",
       "        .bk-notebook-logo {\n",
       "            display: block;\n",
       "            width: 20px;\n",
       "            height: 20px;\n",
       "            background-image: url(data:image/png;base64,iVBORw0KGgoAAAANSUhEUgAAABQAAAAUCAYAAACNiR0NAAAABHNCSVQICAgIfAhkiAAAAAlwSFlzAAALEgAACxIB0t1+/AAAABx0RVh0U29mdHdhcmUAQWRvYmUgRmlyZXdvcmtzIENTNui8sowAAAOkSURBVDiNjZRtaJVlGMd/1/08zzln5zjP1LWcU9N0NkN8m2CYjpgQYQXqSs0I84OLIC0hkEKoPtiH3gmKoiJDU7QpLgoLjLIQCpEsNJ1vqUOdO7ppbuec5+V+rj4ctwzd8IIbbi6u+8f1539dt3A78eXC7QizUF7gyV1fD1Yqg4JWz84yffhm0qkFqBogB9rM8tZdtwVsPUhWhGcFJngGeWrPzHm5oaMmkfEg1usvLFyc8jLRqDOMru7AyC8saQr7GG7f5fvDeH7Ej8CM66nIF+8yngt6HWaKh7k49Soy9nXurCi1o3qUbS3zWfrYeQDTB/Qj6kX6Ybhw4B+bOYoLKCC9H3Nu/leUTZ1JdRWkkn2ldcCamzrcf47KKXdAJllSlxAOkRgyHsGC/zRday5Qld9DyoM4/q/rUoy/CXh3jzOu3bHUVZeU+DEn8FInkPBFlu3+nW3Nw0mk6vCDiWg8CeJaxEwuHS3+z5RgY+YBR6V1Z1nxSOfoaPa4LASWxxdNp+VWTk7+4vzaou8v8PN+xo+KY2xsw6une2frhw05CTYOmQvsEhjhWjn0bmXPjpE1+kplmmkP3suftwTubK9Vq22qKmrBhpY4jvd5afdRA3wGjFAgcnTK2s4hY0/GPNIb0nErGMCRxWOOX64Z8RAC4oCXdklmEvcL8o0BfkNK4lUg9HTl+oPlQxdNo3Mg4Nv175e/1LDGzZen30MEjRUtmXSfiTVu1kK8W4txyV6BMKlbgk3lMwYCiusNy9fVfvvwMxv8Ynl6vxoByANLTWplvuj/nF9m2+PDtt1eiHPBr1oIfhCChQMBw6Aw0UulqTKZdfVvfG7VcfIqLG9bcldL/+pdWTLxLUy8Qq38heUIjh4XlzZxzQm19lLFlr8vdQ97rjZVOLf8nclzckbcD4wxXMidpX30sFd37Fv/GtwwhzhxGVAprjbg0gCAEeIgwCZyTV2Z1REEW8O4py0wsjeloKoMr6iCY6dP92H6Vw/oTyICIthibxjm/DfN9lVz8IqtqKYLUXfoKVMVQVVJOElGjrnnUt9T9wbgp8AyYKaGlqingHZU/uG2NTZSVqwHQTWkx9hxjkpWDaCg6Ckj5qebgBVbT3V3NNXMSiWSDdGV3hrtzla7J+duwPOToIg42ChPQOQjspnSlp1V+Gjdged7+8UN5CRAV7a5EdFNwCjEaBR27b3W890TE7g24NAP/mMDXRWrGoFPQI9ls/MWO2dWFAar/xcOIImbbpA3zgAAAABJRU5ErkJggg==);\n",
       "        }\n",
       "    </style>\n",
       "    <div>\n",
       "        <a href=\"https://bokeh.org\" target=\"_blank\" class=\"bk-notebook-logo\"></a>\n",
       "        <span id=\"p1001\">Loading BokehJS ...</span>\n",
       "    </div>\n"
      ]
     },
     "metadata": {},
     "output_type": "display_data"
    },
    {
     "data": {
      "application/javascript": [
       "(function(root) {\n",
       "  function now() {\n",
       "    return new Date();\n",
       "  }\n",
       "\n",
       "  const force = true;\n",
       "\n",
       "  if (typeof root._bokeh_onload_callbacks === \"undefined\" || force === true) {\n",
       "    root._bokeh_onload_callbacks = [];\n",
       "    root._bokeh_is_loading = undefined;\n",
       "  }\n",
       "\n",
       "const JS_MIME_TYPE = 'application/javascript';\n",
       "  const HTML_MIME_TYPE = 'text/html';\n",
       "  const EXEC_MIME_TYPE = 'application/vnd.bokehjs_exec.v0+json';\n",
       "  const CLASS_NAME = 'output_bokeh rendered_html';\n",
       "\n",
       "  /**\n",
       "   * Render data to the DOM node\n",
       "   */\n",
       "  function render(props, node) {\n",
       "    const script = document.createElement(\"script\");\n",
       "    node.appendChild(script);\n",
       "  }\n",
       "\n",
       "  /**\n",
       "   * Handle when an output is cleared or removed\n",
       "   */\n",
       "  function handleClearOutput(event, handle) {\n",
       "    const cell = handle.cell;\n",
       "\n",
       "    const id = cell.output_area._bokeh_element_id;\n",
       "    const server_id = cell.output_area._bokeh_server_id;\n",
       "    // Clean up Bokeh references\n",
       "    if (id != null && id in Bokeh.index) {\n",
       "      Bokeh.index[id].model.document.clear();\n",
       "      delete Bokeh.index[id];\n",
       "    }\n",
       "\n",
       "    if (server_id !== undefined) {\n",
       "      // Clean up Bokeh references\n",
       "      const cmd_clean = \"from bokeh.io.state import curstate; print(curstate().uuid_to_server['\" + server_id + \"'].get_sessions()[0].document.roots[0]._id)\";\n",
       "      cell.notebook.kernel.execute(cmd_clean, {\n",
       "        iopub: {\n",
       "          output: function(msg) {\n",
       "            const id = msg.content.text.trim();\n",
       "            if (id in Bokeh.index) {\n",
       "              Bokeh.index[id].model.document.clear();\n",
       "              delete Bokeh.index[id];\n",
       "            }\n",
       "          }\n",
       "        }\n",
       "      });\n",
       "      // Destroy server and session\n",
       "      const cmd_destroy = \"import bokeh.io.notebook as ion; ion.destroy_server('\" + server_id + \"')\";\n",
       "      cell.notebook.kernel.execute(cmd_destroy);\n",
       "    }\n",
       "  }\n",
       "\n",
       "  /**\n",
       "   * Handle when a new output is added\n",
       "   */\n",
       "  function handleAddOutput(event, handle) {\n",
       "    const output_area = handle.output_area;\n",
       "    const output = handle.output;\n",
       "\n",
       "    // limit handleAddOutput to display_data with EXEC_MIME_TYPE content only\n",
       "    if ((output.output_type != \"display_data\") || (!Object.prototype.hasOwnProperty.call(output.data, EXEC_MIME_TYPE))) {\n",
       "      return\n",
       "    }\n",
       "\n",
       "    const toinsert = output_area.element.find(\".\" + CLASS_NAME.split(' ')[0]);\n",
       "\n",
       "    if (output.metadata[EXEC_MIME_TYPE][\"id\"] !== undefined) {\n",
       "      toinsert[toinsert.length - 1].firstChild.textContent = output.data[JS_MIME_TYPE];\n",
       "      // store reference to embed id on output_area\n",
       "      output_area._bokeh_element_id = output.metadata[EXEC_MIME_TYPE][\"id\"];\n",
       "    }\n",
       "    if (output.metadata[EXEC_MIME_TYPE][\"server_id\"] !== undefined) {\n",
       "      const bk_div = document.createElement(\"div\");\n",
       "      bk_div.innerHTML = output.data[HTML_MIME_TYPE];\n",
       "      const script_attrs = bk_div.children[0].attributes;\n",
       "      for (let i = 0; i < script_attrs.length; i++) {\n",
       "        toinsert[toinsert.length - 1].firstChild.setAttribute(script_attrs[i].name, script_attrs[i].value);\n",
       "        toinsert[toinsert.length - 1].firstChild.textContent = bk_div.children[0].textContent\n",
       "      }\n",
       "      // store reference to server id on output_area\n",
       "      output_area._bokeh_server_id = output.metadata[EXEC_MIME_TYPE][\"server_id\"];\n",
       "    }\n",
       "  }\n",
       "\n",
       "  function register_renderer(events, OutputArea) {\n",
       "\n",
       "    function append_mime(data, metadata, element) {\n",
       "      // create a DOM node to render to\n",
       "      const toinsert = this.create_output_subarea(\n",
       "        metadata,\n",
       "        CLASS_NAME,\n",
       "        EXEC_MIME_TYPE\n",
       "      );\n",
       "      this.keyboard_manager.register_events(toinsert);\n",
       "      // Render to node\n",
       "      const props = {data: data, metadata: metadata[EXEC_MIME_TYPE]};\n",
       "      render(props, toinsert[toinsert.length - 1]);\n",
       "      element.append(toinsert);\n",
       "      return toinsert\n",
       "    }\n",
       "\n",
       "    /* Handle when an output is cleared or removed */\n",
       "    events.on('clear_output.CodeCell', handleClearOutput);\n",
       "    events.on('delete.Cell', handleClearOutput);\n",
       "\n",
       "    /* Handle when a new output is added */\n",
       "    events.on('output_added.OutputArea', handleAddOutput);\n",
       "\n",
       "    /**\n",
       "     * Register the mime type and append_mime function with output_area\n",
       "     */\n",
       "    OutputArea.prototype.register_mime_type(EXEC_MIME_TYPE, append_mime, {\n",
       "      /* Is output safe? */\n",
       "      safe: true,\n",
       "      /* Index of renderer in `output_area.display_order` */\n",
       "      index: 0\n",
       "    });\n",
       "  }\n",
       "\n",
       "  // register the mime type if in Jupyter Notebook environment and previously unregistered\n",
       "  if (root.Jupyter !== undefined) {\n",
       "    const events = require('base/js/events');\n",
       "    const OutputArea = require('notebook/js/outputarea').OutputArea;\n",
       "\n",
       "    if (OutputArea.prototype.mime_types().indexOf(EXEC_MIME_TYPE) == -1) {\n",
       "      register_renderer(events, OutputArea);\n",
       "    }\n",
       "  }\n",
       "  if (typeof (root._bokeh_timeout) === \"undefined\" || force === true) {\n",
       "    root._bokeh_timeout = Date.now() + 5000;\n",
       "    root._bokeh_failed_load = false;\n",
       "  }\n",
       "\n",
       "  const NB_LOAD_WARNING = {'data': {'text/html':\n",
       "     \"<div style='background-color: #fdd'>\\n\"+\n",
       "     \"<p>\\n\"+\n",
       "     \"BokehJS does not appear to have successfully loaded. If loading BokehJS from CDN, this \\n\"+\n",
       "     \"may be due to a slow or bad network connection. Possible fixes:\\n\"+\n",
       "     \"</p>\\n\"+\n",
       "     \"<ul>\\n\"+\n",
       "     \"<li>re-rerun `output_notebook()` to attempt to load from CDN again, or</li>\\n\"+\n",
       "     \"<li>use INLINE resources instead, as so:</li>\\n\"+\n",
       "     \"</ul>\\n\"+\n",
       "     \"<code>\\n\"+\n",
       "     \"from bokeh.resources import INLINE\\n\"+\n",
       "     \"output_notebook(resources=INLINE)\\n\"+\n",
       "     \"</code>\\n\"+\n",
       "     \"</div>\"}};\n",
       "\n",
       "  function display_loaded() {\n",
       "    const el = document.getElementById(\"p1001\");\n",
       "    if (el != null) {\n",
       "      el.textContent = \"BokehJS is loading...\";\n",
       "    }\n",
       "    if (root.Bokeh !== undefined) {\n",
       "      if (el != null) {\n",
       "        el.textContent = \"BokehJS \" + root.Bokeh.version + \" successfully loaded.\";\n",
       "      }\n",
       "    } else if (Date.now() < root._bokeh_timeout) {\n",
       "      setTimeout(display_loaded, 100)\n",
       "    }\n",
       "  }\n",
       "\n",
       "  function run_callbacks() {\n",
       "    try {\n",
       "      root._bokeh_onload_callbacks.forEach(function(callback) {\n",
       "        if (callback != null)\n",
       "          callback();\n",
       "      });\n",
       "    } finally {\n",
       "      delete root._bokeh_onload_callbacks\n",
       "    }\n",
       "    console.debug(\"Bokeh: all callbacks have finished\");\n",
       "  }\n",
       "\n",
       "  function load_libs(css_urls, js_urls, callback) {\n",
       "    if (css_urls == null) css_urls = [];\n",
       "    if (js_urls == null) js_urls = [];\n",
       "\n",
       "    root._bokeh_onload_callbacks.push(callback);\n",
       "    if (root._bokeh_is_loading > 0) {\n",
       "      console.debug(\"Bokeh: BokehJS is being loaded, scheduling callback at\", now());\n",
       "      return null;\n",
       "    }\n",
       "    if (js_urls == null || js_urls.length === 0) {\n",
       "      run_callbacks();\n",
       "      return null;\n",
       "    }\n",
       "    console.debug(\"Bokeh: BokehJS not loaded, scheduling load and callback at\", now());\n",
       "    root._bokeh_is_loading = css_urls.length + js_urls.length;\n",
       "\n",
       "    function on_load() {\n",
       "      root._bokeh_is_loading--;\n",
       "      if (root._bokeh_is_loading === 0) {\n",
       "        console.debug(\"Bokeh: all BokehJS libraries/stylesheets loaded\");\n",
       "        run_callbacks()\n",
       "      }\n",
       "    }\n",
       "\n",
       "    function on_error(url) {\n",
       "      console.error(\"failed to load \" + url);\n",
       "    }\n",
       "\n",
       "    for (let i = 0; i < css_urls.length; i++) {\n",
       "      const url = css_urls[i];\n",
       "      const element = document.createElement(\"link\");\n",
       "      element.onload = on_load;\n",
       "      element.onerror = on_error.bind(null, url);\n",
       "      element.rel = \"stylesheet\";\n",
       "      element.type = \"text/css\";\n",
       "      element.href = url;\n",
       "      console.debug(\"Bokeh: injecting link tag for BokehJS stylesheet: \", url);\n",
       "      document.body.appendChild(element);\n",
       "    }\n",
       "\n",
       "    for (let i = 0; i < js_urls.length; i++) {\n",
       "      const url = js_urls[i];\n",
       "      const element = document.createElement('script');\n",
       "      element.onload = on_load;\n",
       "      element.onerror = on_error.bind(null, url);\n",
       "      element.async = false;\n",
       "      element.src = url;\n",
       "      console.debug(\"Bokeh: injecting script tag for BokehJS library: \", url);\n",
       "      document.head.appendChild(element);\n",
       "    }\n",
       "  };\n",
       "\n",
       "  function inject_raw_css(css) {\n",
       "    const element = document.createElement(\"style\");\n",
       "    element.appendChild(document.createTextNode(css));\n",
       "    document.body.appendChild(element);\n",
       "  }\n",
       "\n",
       "  const js_urls = [\"https://cdn.bokeh.org/bokeh/release/bokeh-3.1.0.min.js\", \"https://cdn.bokeh.org/bokeh/release/bokeh-gl-3.1.0.min.js\", \"https://cdn.bokeh.org/bokeh/release/bokeh-widgets-3.1.0.min.js\", \"https://cdn.bokeh.org/bokeh/release/bokeh-tables-3.1.0.min.js\", \"https://cdn.bokeh.org/bokeh/release/bokeh-mathjax-3.1.0.min.js\"];\n",
       "  const css_urls = [];\n",
       "\n",
       "  const inline_js = [    function(Bokeh) {\n",
       "      Bokeh.set_log_level(\"info\");\n",
       "    },\n",
       "function(Bokeh) {\n",
       "    }\n",
       "  ];\n",
       "\n",
       "  function run_inline_js() {\n",
       "    if (root.Bokeh !== undefined || force === true) {\n",
       "          for (let i = 0; i < inline_js.length; i++) {\n",
       "      inline_js[i].call(root, root.Bokeh);\n",
       "    }\n",
       "if (force === true) {\n",
       "        display_loaded();\n",
       "      }} else if (Date.now() < root._bokeh_timeout) {\n",
       "      setTimeout(run_inline_js, 100);\n",
       "    } else if (!root._bokeh_failed_load) {\n",
       "      console.log(\"Bokeh: BokehJS failed to load within specified timeout.\");\n",
       "      root._bokeh_failed_load = true;\n",
       "    } else if (force !== true) {\n",
       "      const cell = $(document.getElementById(\"p1001\")).parents('.cell').data().cell;\n",
       "      cell.output_area.append_execute_result(NB_LOAD_WARNING)\n",
       "    }\n",
       "  }\n",
       "\n",
       "  if (root._bokeh_is_loading === 0) {\n",
       "    console.debug(\"Bokeh: BokehJS loaded, going straight to plotting\");\n",
       "    run_inline_js();\n",
       "  } else {\n",
       "    load_libs(css_urls, js_urls, function() {\n",
       "      console.debug(\"Bokeh: BokehJS plotting callback run at\", now());\n",
       "      run_inline_js();\n",
       "    });\n",
       "  }\n",
       "}(window));"
      ],
      "application/vnd.bokehjs_load.v0+json": "(function(root) {\n  function now() {\n    return new Date();\n  }\n\n  const force = true;\n\n  if (typeof root._bokeh_onload_callbacks === \"undefined\" || force === true) {\n    root._bokeh_onload_callbacks = [];\n    root._bokeh_is_loading = undefined;\n  }\n\n\n  if (typeof (root._bokeh_timeout) === \"undefined\" || force === true) {\n    root._bokeh_timeout = Date.now() + 5000;\n    root._bokeh_failed_load = false;\n  }\n\n  const NB_LOAD_WARNING = {'data': {'text/html':\n     \"<div style='background-color: #fdd'>\\n\"+\n     \"<p>\\n\"+\n     \"BokehJS does not appear to have successfully loaded. If loading BokehJS from CDN, this \\n\"+\n     \"may be due to a slow or bad network connection. Possible fixes:\\n\"+\n     \"</p>\\n\"+\n     \"<ul>\\n\"+\n     \"<li>re-rerun `output_notebook()` to attempt to load from CDN again, or</li>\\n\"+\n     \"<li>use INLINE resources instead, as so:</li>\\n\"+\n     \"</ul>\\n\"+\n     \"<code>\\n\"+\n     \"from bokeh.resources import INLINE\\n\"+\n     \"output_notebook(resources=INLINE)\\n\"+\n     \"</code>\\n\"+\n     \"</div>\"}};\n\n  function display_loaded() {\n    const el = document.getElementById(\"p1001\");\n    if (el != null) {\n      el.textContent = \"BokehJS is loading...\";\n    }\n    if (root.Bokeh !== undefined) {\n      if (el != null) {\n        el.textContent = \"BokehJS \" + root.Bokeh.version + \" successfully loaded.\";\n      }\n    } else if (Date.now() < root._bokeh_timeout) {\n      setTimeout(display_loaded, 100)\n    }\n  }\n\n  function run_callbacks() {\n    try {\n      root._bokeh_onload_callbacks.forEach(function(callback) {\n        if (callback != null)\n          callback();\n      });\n    } finally {\n      delete root._bokeh_onload_callbacks\n    }\n    console.debug(\"Bokeh: all callbacks have finished\");\n  }\n\n  function load_libs(css_urls, js_urls, callback) {\n    if (css_urls == null) css_urls = [];\n    if (js_urls == null) js_urls = [];\n\n    root._bokeh_onload_callbacks.push(callback);\n    if (root._bokeh_is_loading > 0) {\n      console.debug(\"Bokeh: BokehJS is being loaded, scheduling callback at\", now());\n      return null;\n    }\n    if (js_urls == null || js_urls.length === 0) {\n      run_callbacks();\n      return null;\n    }\n    console.debug(\"Bokeh: BokehJS not loaded, scheduling load and callback at\", now());\n    root._bokeh_is_loading = css_urls.length + js_urls.length;\n\n    function on_load() {\n      root._bokeh_is_loading--;\n      if (root._bokeh_is_loading === 0) {\n        console.debug(\"Bokeh: all BokehJS libraries/stylesheets loaded\");\n        run_callbacks()\n      }\n    }\n\n    function on_error(url) {\n      console.error(\"failed to load \" + url);\n    }\n\n    for (let i = 0; i < css_urls.length; i++) {\n      const url = css_urls[i];\n      const element = document.createElement(\"link\");\n      element.onload = on_load;\n      element.onerror = on_error.bind(null, url);\n      element.rel = \"stylesheet\";\n      element.type = \"text/css\";\n      element.href = url;\n      console.debug(\"Bokeh: injecting link tag for BokehJS stylesheet: \", url);\n      document.body.appendChild(element);\n    }\n\n    for (let i = 0; i < js_urls.length; i++) {\n      const url = js_urls[i];\n      const element = document.createElement('script');\n      element.onload = on_load;\n      element.onerror = on_error.bind(null, url);\n      element.async = false;\n      element.src = url;\n      console.debug(\"Bokeh: injecting script tag for BokehJS library: \", url);\n      document.head.appendChild(element);\n    }\n  };\n\n  function inject_raw_css(css) {\n    const element = document.createElement(\"style\");\n    element.appendChild(document.createTextNode(css));\n    document.body.appendChild(element);\n  }\n\n  const js_urls = [\"https://cdn.bokeh.org/bokeh/release/bokeh-3.1.0.min.js\", \"https://cdn.bokeh.org/bokeh/release/bokeh-gl-3.1.0.min.js\", \"https://cdn.bokeh.org/bokeh/release/bokeh-widgets-3.1.0.min.js\", \"https://cdn.bokeh.org/bokeh/release/bokeh-tables-3.1.0.min.js\", \"https://cdn.bokeh.org/bokeh/release/bokeh-mathjax-3.1.0.min.js\"];\n  const css_urls = [];\n\n  const inline_js = [    function(Bokeh) {\n      Bokeh.set_log_level(\"info\");\n    },\nfunction(Bokeh) {\n    }\n  ];\n\n  function run_inline_js() {\n    if (root.Bokeh !== undefined || force === true) {\n          for (let i = 0; i < inline_js.length; i++) {\n      inline_js[i].call(root, root.Bokeh);\n    }\nif (force === true) {\n        display_loaded();\n      }} else if (Date.now() < root._bokeh_timeout) {\n      setTimeout(run_inline_js, 100);\n    } else if (!root._bokeh_failed_load) {\n      console.log(\"Bokeh: BokehJS failed to load within specified timeout.\");\n      root._bokeh_failed_load = true;\n    } else if (force !== true) {\n      const cell = $(document.getElementById(\"p1001\")).parents('.cell').data().cell;\n      cell.output_area.append_execute_result(NB_LOAD_WARNING)\n    }\n  }\n\n  if (root._bokeh_is_loading === 0) {\n    console.debug(\"Bokeh: BokehJS loaded, going straight to plotting\");\n    run_inline_js();\n  } else {\n    load_libs(css_urls, js_urls, function() {\n      console.debug(\"Bokeh: BokehJS plotting callback run at\", now());\n      run_inline_js();\n    });\n  }\n}(window));"
     },
     "metadata": {},
     "output_type": "display_data"
    }
   ],
   "source": [
    "output_notebook()"
   ]
  },
  {
   "cell_type": "code",
   "execution_count": 3,
   "id": "5e681223",
   "metadata": {},
   "outputs": [],
   "source": [
    "data = pandas.read_csv('Qus4&5&6_Cookie Sales dataset.csv')"
   ]
  },
  {
   "cell_type": "code",
   "execution_count": 4,
   "id": "a2dc9df2",
   "metadata": {},
   "outputs": [],
   "source": [
    "source = ColumnDataSource(data = {\n",
    "    'a': data['Canada'],\n",
    "    'b': data[' Chocolate Chip '],\n",
    "    'x': data[' February '],\n",
    "    'y': data['292']\n",
    "})"
   ]
  },
  {
   "cell_type": "code",
   "execution_count": 5,
   "id": "faae78de",
   "metadata": {},
   "outputs": [],
   "source": [
    "columns = [\n",
    "    TableColumn(field = 'a', title = 'Country'),\n",
    "    TableColumn(field = 'b', title = 'Type'),\n",
    "    TableColumn(field = 'x', title = 'Month'),\n",
    "    TableColumn(field = 'y', title = 'Number of Sale')\n",
    "]"
   ]
  },
  {
   "cell_type": "code",
   "execution_count": 6,
   "id": "aaeda91c",
   "metadata": {},
   "outputs": [],
   "source": [
    "data_table = DataTable(source = source, columns = columns, width = 800, index_position = 0, index_header = 'Row Index', index_width = 60)"
   ]
  },
  {
   "cell_type": "code",
   "execution_count": 7,
   "id": "f3c6dee8",
   "metadata": {},
   "outputs": [],
   "source": [
    "p = figure(width = 800, height = 300, x_range = data[' February '].unique(), tools = 'pan, wheel_zoom, xbox_select, lasso_select, reset', active_drag = None)"
   ]
  },
  {
   "cell_type": "code",
   "execution_count": 8,
   "id": "1d6064a1",
   "metadata": {},
   "outputs": [
    {
     "data": {
      "text/html": [
       "<div style=\"display: table;\"><div style=\"display: table-row;\"><div style=\"display: table-cell;\"><b title=\"bokeh.models.renderers.glyph_renderer.GlyphRenderer\">GlyphRenderer</b>(</div><div style=\"display: table-cell;\">id&nbsp;=&nbsp;'p1074', <span id=\"p1078\" style=\"cursor: pointer;\">&hellip;)</span></div></div><div class=\"p1077\" style=\"display: none;\"><div style=\"display: table-cell;\"></div><div style=\"display: table-cell;\">coordinates&nbsp;=&nbsp;None,</div></div><div class=\"p1077\" style=\"display: none;\"><div style=\"display: table-cell;\"></div><div style=\"display: table-cell;\">data_source&nbsp;=&nbsp;ColumnDataSource(id='p1002', ...),</div></div><div class=\"p1077\" style=\"display: none;\"><div style=\"display: table-cell;\"></div><div style=\"display: table-cell;\">glyph&nbsp;=&nbsp;Circle(id='p1071', ...),</div></div><div class=\"p1077\" style=\"display: none;\"><div style=\"display: table-cell;\"></div><div style=\"display: table-cell;\">group&nbsp;=&nbsp;None,</div></div><div class=\"p1077\" style=\"display: none;\"><div style=\"display: table-cell;\"></div><div style=\"display: table-cell;\">hover_glyph&nbsp;=&nbsp;None,</div></div><div class=\"p1077\" style=\"display: none;\"><div style=\"display: table-cell;\"></div><div style=\"display: table-cell;\">js_event_callbacks&nbsp;=&nbsp;{},</div></div><div class=\"p1077\" style=\"display: none;\"><div style=\"display: table-cell;\"></div><div style=\"display: table-cell;\">js_property_callbacks&nbsp;=&nbsp;{},</div></div><div class=\"p1077\" style=\"display: none;\"><div style=\"display: table-cell;\"></div><div style=\"display: table-cell;\">level&nbsp;=&nbsp;'glyph',</div></div><div class=\"p1077\" style=\"display: none;\"><div style=\"display: table-cell;\"></div><div style=\"display: table-cell;\">muted&nbsp;=&nbsp;False,</div></div><div class=\"p1077\" style=\"display: none;\"><div style=\"display: table-cell;\"></div><div style=\"display: table-cell;\">muted_glyph&nbsp;=&nbsp;Circle(id='p1073', ...),</div></div><div class=\"p1077\" style=\"display: none;\"><div style=\"display: table-cell;\"></div><div style=\"display: table-cell;\">name&nbsp;=&nbsp;None,</div></div><div class=\"p1077\" style=\"display: none;\"><div style=\"display: table-cell;\"></div><div style=\"display: table-cell;\">nonselection_glyph&nbsp;=&nbsp;Circle(id='p1072', ...),</div></div><div class=\"p1077\" style=\"display: none;\"><div style=\"display: table-cell;\"></div><div style=\"display: table-cell;\">propagate_hover&nbsp;=&nbsp;False,</div></div><div class=\"p1077\" style=\"display: none;\"><div style=\"display: table-cell;\"></div><div style=\"display: table-cell;\">selection_glyph&nbsp;=&nbsp;'auto',</div></div><div class=\"p1077\" style=\"display: none;\"><div style=\"display: table-cell;\"></div><div style=\"display: table-cell;\">subscribed_events&nbsp;=&nbsp;PropertyValueSet(),</div></div><div class=\"p1077\" style=\"display: none;\"><div style=\"display: table-cell;\"></div><div style=\"display: table-cell;\">syncable&nbsp;=&nbsp;True,</div></div><div class=\"p1077\" style=\"display: none;\"><div style=\"display: table-cell;\"></div><div style=\"display: table-cell;\">tags&nbsp;=&nbsp;[],</div></div><div class=\"p1077\" style=\"display: none;\"><div style=\"display: table-cell;\"></div><div style=\"display: table-cell;\">view&nbsp;=&nbsp;CDSView(id='p1075', ...),</div></div><div class=\"p1077\" style=\"display: none;\"><div style=\"display: table-cell;\"></div><div style=\"display: table-cell;\">visible&nbsp;=&nbsp;True,</div></div><div class=\"p1077\" style=\"display: none;\"><div style=\"display: table-cell;\"></div><div style=\"display: table-cell;\">x_range_name&nbsp;=&nbsp;'default',</div></div><div class=\"p1077\" style=\"display: none;\"><div style=\"display: table-cell;\"></div><div style=\"display: table-cell;\">y_range_name&nbsp;=&nbsp;'default')</div></div></div>\n",
       "<script>\n",
       "(function() {\n",
       "  let expanded = false;\n",
       "  const ellipsis = document.getElementById(\"p1078\");\n",
       "  ellipsis.addEventListener(\"click\", function() {\n",
       "    const rows = document.getElementsByClassName(\"p1077\");\n",
       "    for (let i = 0; i < rows.length; i++) {\n",
       "      const el = rows[i];\n",
       "      el.style.display = expanded ? \"none\" : \"table-row\";\n",
       "    }\n",
       "    ellipsis.innerHTML = expanded ? \"&hellip;)\" : \"&lsaquo;&lsaquo;&lsaquo;\";\n",
       "    expanded = !expanded;\n",
       "  });\n",
       "})();\n",
       "</script>\n"
      ],
      "text/plain": [
       "GlyphRenderer(id='p1074', ...)"
      ]
     },
     "execution_count": 8,
     "metadata": {},
     "output_type": "execute_result"
    }
   ],
   "source": [
    "p.circle(x = 'x', y = 'y', source = source, fill_color = 'red')"
   ]
  },
  {
   "cell_type": "code",
   "execution_count": 9,
   "id": "da87831d",
   "metadata": {
    "scrolled": false
   },
   "outputs": [
    {
     "data": {
      "text/html": [
       "\n",
       "  <div id=\"656c0e79-8505-45ee-bedd-c1e120a78324\" data-root-id=\"p1081\" style=\"display: contents;\"></div>\n"
      ]
     },
     "metadata": {},
     "output_type": "display_data"
    },
    {
     "data": {
      "application/javascript": [
       "(function(root) {\n",
       "  function embed_document(root) {\n",
       "  const docs_json = {\"b42d8805-dae9-40ab-9db1-280cd3c8102b\":{\"version\":\"3.1.0\",\"title\":\"Bokeh Application\",\"defs\":[],\"roots\":[{\"type\":\"object\",\"name\":\"Column\",\"id\":\"p1081\",\"attributes\":{\"children\":[{\"type\":\"object\",\"name\":\"Figure\",\"id\":\"p1023\",\"attributes\":{\"width\":800,\"height\":300,\"x_range\":{\"type\":\"object\",\"name\":\"FactorRange\",\"id\":\"p1032\",\"attributes\":{\"factors\":[\" February \",\" June \",\" July \",\" August \",\" September \",\" October \",\" December \",\" January \",\" May \",\" April \",\" November \",\" March \"]}},\"y_range\":{\"type\":\"object\",\"name\":\"DataRange1d\",\"id\":\"p1025\"},\"x_scale\":{\"type\":\"object\",\"name\":\"CategoricalScale\",\"id\":\"p1036\"},\"y_scale\":{\"type\":\"object\",\"name\":\"LinearScale\",\"id\":\"p1038\"},\"title\":{\"type\":\"object\",\"name\":\"Title\",\"id\":\"p1028\"},\"renderers\":[{\"type\":\"object\",\"name\":\"GlyphRenderer\",\"id\":\"p1074\",\"attributes\":{\"data_source\":{\"type\":\"object\",\"name\":\"ColumnDataSource\",\"id\":\"p1002\",\"attributes\":{\"selected\":{\"type\":\"object\",\"name\":\"Selection\",\"id\":\"p1004\",\"attributes\":{\"indices\":[],\"line_indices\":[]}},\"selection_policy\":{\"type\":\"object\",\"name\":\"UnionRenderers\",\"id\":\"p1003\"},\"data\":{\"type\":\"map\",\"entries\":[[\"a\",{\"type\":\"ndarray\",\"array\":[\"Mexico\",\"Canada\",\"Germany\",\"Germany\",\"Mexico\",\"Mexico\",\"United States\",\"Canada\",\"Germany\",\"France\",\"France\",\"France\",\"United States\",\"United States\",\"United States\",\"France\",\"Mexico\",\"Germany\",\"United States\",\"France\",\"Canada\",\"France\",\"Germany\",\"United States\",\"Mexico\",\"Canada\",\"Canada\",\"Canada\",\"Canada\",\"France\",\"Mexico\",\"France\",\"Canada\",\"France\",\"Germany\",\"Germany\",\"United States\",\"Canada\",\"France\",\"Germany\",\"Mexico\",\"Canada\",\"Germany\",\"Germany\",\"United States\",\"United States\",\"France\",\"Canada\",\"Canada\",\"United States\",\"United States\",\"Mexico\",\"Germany\",\"Mexico\",\"Canada\",\"France\",\"United States\",\"France\",\"Mexico\",\"United States\",\"United States\",\"United States\",\"France\",\"United States\",\"United States\",\"France\",\"France\",\"United States\",\"Germany\",\"United States\",\"Canada\",\"France\",\"Germany\",\"France\",\"France\",\"Canada\",\"Mexico\",\"Germany\",\"Germany\",\"Germany\",\"Mexico\",\"United States\",\"Germany\",\"Germany\",\"Mexico\",\"Mexico\",\"Mexico\",\"Mexico\",\"United States\",\"Canada\",\"France\",\"France\",\"United States\",\"United States\",\"Mexico\",\"Germany\",\"France\",\"Mexico\",\"Germany\",\"France\",\"Canada\",\"Mexico\",\"Canada\",\"Canada\",\"France\",\"Canada\",\"Mexico\",\"France\",\"Canada\",\"United States\",\"Mexico\",\"Mexico\",\"Mexico\",\"France\",\"Germany\",\"Mexico\",\"Mexico\",\"Mexico\",\"Germany\",\"United States\",\"Germany\",\"United States\",\"Germany\",\"Canada\",\"Canada\",\"Mexico\",\"France\",\"Canada\",\"Canada\",\"Germany\",\"Germany\",\"Germany\",\"Canada\",\"United States\",\"France\",\"Mexico\",\"United States\",\"France\",\"Canada\",\"United States\",\"Germany\",\"Canada\",\"Mexico\",\"Mexico\",\"Canada\",\"Germany\",\"Germany\",\"United States\",\"France\",\"Canada\",\"Germany\",\"Canada\",\"France\",\"Germany\",\"Mexico\",\"Canada\",\"Mexico\",\"Germany\",\"United States\",\"Mexico\",\"United States\",\"France\",\"Canada\",\"United States\",\"United States\",\"Mexico\",\"Germany\",\"France\",\"France\",\"France\",\"Germany\",\"Mexico\",\"Canada\",\"Germany\",\"Germany\",\"Mexico\",\"France\",\"United States\",\"Germany\",\"Mexico\",\"Germany\",\"United States\",\"Mexico\",\"France\",\"France\",\"France\",\"Canada\",\"United States\",\"France\",\"Canada\",\"Germany\",\"France\",\"Germany\",\"Canada\",\"France\",\"Canada\",\"United States\",\"United States\",\"United States\",\"France\",\"Germany\",\"Mexico\",\"United States\",\"France\",\"Mexico\",\"Canada\",\"Mexico\",\"United States\",\"United States\",\"Mexico\",\"Mexico\",\"Canada\",\"France\",\"Canada\",\"Germany\",\"Canada\",\"Canada\",\"Canada\",\"Mexico\",\"Mexico\",\"France\",\"United States\",\"Germany\",\"France\",\"Germany\",\"United States\",\"United States\",\"United States\",\"Germany\",\"Mexico\",\"Germany\",\"United States\",\"France\",\"Canada\",\"Mexico\",\"Mexico\",\"Germany\",\"Mexico\",\"Mexico\",\"Germany\",\"Canada\",\"Germany\",\"France\",\"Mexico\",\"Canada\",\"Canada\",\"France\",\"Canada\",\"United States\",\"United States\",\"Canada\",\"United States\",\"Germany\",\"Mexico\",\"Germany\",\"Germany\",\"Mexico\",\"United States\",\"Canada\",\"Mexico\",\"Mexico\",\"Canada\",\"United States\",\"Canada\",\"United States\",\"Canada\",\"Mexico\",\"Germany\",\"Canada\",\"France\",\"France\",\"United States\",\"Germany\",\"Germany\",\"Mexico\",\"France\",\"Mexico\",\"United States\",\"France\",\"Canada\",\"Canada\",\"France\",\"Mexico\",\"France\",\"Canada\",\"United States\",\"France\",\"United States\",\"France\",\"France\",\"Mexico\",\"Canada\",\"Germany\",\"France\",\"Germany\",\"Mexico\",\"Germany\",\"United States\",\"Mexico\",\"United States\",\"Canada\",\"France\",\"Mexico\",\"France\",\"Canada\",\"Canada\",\"Canada\",\"France\",\"Germany\",\"Germany\",\"United States\",\"Canada\",\"Germany\",\"United States\",\"France\",\"Germany\",\"France\",\"United States\",\"Mexico\",\"United States\",\"France\",\"United States\",\"Canada\",\"Mexico\",\"United States\",\"Mexico\",\"Canada\",\"United States\",\"France\",\"France\",\"Mexico\",\"France\",\"Mexico\",\"Canada\",\"Germany\",\"Canada\",\"Germany\",\"Mexico\",\"United States\",\"Canada\",\"Germany\",\"Germany\",\"France\",\"Mexico\",\"Mexico\",\"Canada\",\"France\",\"United States\",\"Canada\",\"France\",\"Mexico\",\"United States\",\"Germany\",\"Mexico\",\"Canada\",\"United States\",\"Germany\",\"Canada\",\"France\",\"Germany\",\"Germany\",\"Canada\",\"Germany\",\"France\",\"Germany\",\"France\",\"Canada\",\"Canada\",\"Germany\",\"Canada\",\"United States\",\"France\",\"Germany\",\"Mexico\",\"France\",\"Mexico\",\"Germany\",\"Canada\",\"United States\",\"Mexico\",\"Germany\",\"Canada\",\"Mexico\",\"Germany\",\"France\",\"France\",\"Mexico\",\"United States\",\"United States\",\"France\",\"Canada\",\"Mexico\",\"United States\",\"France\",\"Canada\",\"Canada\",\"France\",\"Mexico\",\"France\",\"Germany\",\"France\",\"Germany\",\"Canada\",\"United States\",\"United States\",\"Germany\",\"United States\",\"Germany\",\"United States\",\"France\",\"Mexico\",\"Germany\",\"Mexico\",\"Mexico\",\"Mexico\",\"United States\",\"Mexico\",\"Canada\",\"United States\",\"France\",\"Mexico\",\"Canada\",\"France\",\"United States\",\"United States\",\"Mexico\",\"France\",\"Germany\",\"United States\",\"Canada\",\"Canada\",\"Germany\",\"Mexico\",\"United States\",\"Canada\",\"United States\",\"Canada\",\"Germany\",\"Germany\",\"Germany\",\"France\",\"United States\",\"Mexico\",\"France\",\"Germany\",\"Germany\",\"Germany\",\"United States\",\"France\",\"France\",\"Mexico\",\"Canada\",\"United States\",\"Germany\",\"France\",\"Mexico\",\"Canada\",\"Canada\",\"United States\",\"France\",\"Canada\",\"United States\",\"Mexico\",\"Germany\",\"United States\",\"United States\",\"France\",\"United States\",\"Germany\",\"Canada\",\"United States\",\"Germany\",\"France\",\"Mexico\",\"Germany\",\"Mexico\",\"Canada\",\"Canada\",\"United States\",\"Canada\",\"France\",\"Mexico\",\"Germany\",\"France\",\"United States\",\"Canada\",\"United States\",\"Germany\",\"Mexico\",\"Mexico\",\"Canada\",\"Germany\",\"Canada\",\"Mexico\",\"Canada\",\"France\",\"Mexico\",\"Germany\",\"Germany\",\"United States\",\"France\",\"United States\",\"Germany\",\"Germany\",\"France\",\"Canada\",\"Germany\",\"Canada\",\"Mexico\",\"United States\",\"Mexico\",\"France\",\"Canada\",\"France\",\"Mexico\",\"Mexico\",\"Germany\",\"Mexico\",\"United States\",\"United States\",\"Mexico\",\"France\",\"France\",\"United States\"],\"shape\":[524],\"dtype\":\"object\",\"order\":\"little\"}],[\"b\",{\"type\":\"ndarray\",\"array\":[\"Chocolate Chip\",\"Chocolate Chip\",\"Chocolate Chip\",\"Chocolate Chip\",\" Chocolate Chip \",\" Chocolate Chip \",\" Chocolate Chip \",\" Chocolate Chip \",\" Chocolate Chip \",\" Chocolate Chip \",\" Chocolate Chip \",\" Chocolate Chip \",\" Chocolate Chip \",\" Chocolate Chip \",\" Chocolate Chip \",\" Chocolate Chip \",\" Chocolate Chip \",\" Chocolate Chip \",\" Chocolate Chip \",\" Chocolate Chip \",\" Chocolate Chip \",\" Chocolate Chip \",\" Chocolate Chip \",\" Chocolate Chip \",\" Chocolate Chip \",\" Chocolate Chip \",\" Chocolate Chip \",\" Chocolate Chip \",\" Chocolate Chip \",\" Chocolate Chip \",\" Chocolate Chip \",\" Chocolate Chip \",\" Chocolate Chip \",\" Chocolate Chip \",\" Chocolate Chip \",\" Chocolate Chip \",\" Chocolate Chip \",\" Chocolate Chip \",\" Chocolate Chip \",\" Chocolate Chip \",\" Chocolate Chip \",\" Chocolate Chip \",\" Chocolate Chip \",\" Chocolate Chip \",\" Chocolate Chip \",\" Chocolate Chip \",\" Chocolate Chip \",\" Chocolate Chip \",\" Chocolate Chip \",\" Chocolate Chip \",\" Chocolate Chip \",\" Chocolate Chip \",\" Chocolate Chip \",\" Chocolate Chip \",\" Chocolate Chip \",\" Chocolate Chip \",\" Chocolate Chip \",\" Chocolate Chip \",\" Chocolate Chip \",\" Chocolate Chip \",\" Chocolate Chip \",\" Chocolate Chip \",\" Chocolate Chip \",\" Chocolate Chip \",\" Chocolate Chip \",\" Chocolate Chip \",\" Chocolate Chip \",\" Chocolate Chip \",\" Chocolate Chip \",\" Chocolate Chip \",\" Chocolate Chip \",\" Chocolate Chip \",\" Chocolate Chip \",\" Chocolate Chip \",\" Chocolate Chip \",\" Chocolate Chip \",\" Chocolate Chip \",\" Chocolate Chip \",\" Chocolate Chip \",\" Chocolate Chip \",\" Chocolate Chip \",\" Chocolate Chip \",\" Chocolate Chip \",\" Chocolate Chip \",\" Chocolate Chip \",\" Chocolate Chip \",\" Chocolate Chip \",\" Chocolate Chip \",\" Chocolate Chip \",\" Chocolate Chip \",\" Chocolate Chip \",\" Chocolate Chip \",\" Chocolate Chip \",\" Chocolate Chip \",\" Chocolate Chip \",\" Chocolate Chip \",\" Chocolate Chip \",\" Chocolate Chip \",\" Chocolate Chip \",\" Chocolate Chip \",\" Chocolate Chip \",\" Chocolate Chip \",\" Chocolate Chip \",\" Chocolate Chip \",\" Chocolate Chip \",\" Chocolate Chip \",\" Chocolate Chip \",\" Chocolate Chip \",\" Chocolate Chip \",\" Chocolate Chip \",\" Chocolate Chip \",\" Chocolate Chip \",\" Chocolate Chip \",\" Chocolate Chip \",\" Chocolate Chip \",\" Chocolate Chip \",\" Chocolate Chip \",\" Chocolate Chip \",\" Chocolate Chip \",\" Chocolate Chip \",\" Chocolate Chip \",\" Chocolate Chip \",\" Chocolate Chip \",\" Chocolate Chip \",\" Chocolate Chip \",\" Chocolate Chip \",\" Chocolate Chip \",\" Chocolate Chip \",\" Chocolate Chip \",\" Chocolate Chip \",\" Chocolate Chip \",\" Chocolate Chip \",\" Chocolate Chip \",\" Chocolate Chip \",\" Chocolate Chip \",\" Chocolate Chip \",\" Chocolate Chip \",\" Chocolate Chip \",\" Chocolate Chip \",\" Chocolate Chip \",\" Chocolate Chip \",\" Chocolate Chip \",\" Chocolate Chip \",\" Chocolate Chip \",\" Chocolate Chip \",\" Chocolate Chip \",\" Chocolate Chip \",\" Chocolate Chip \",\" Chocolate Chip \",\" Chocolate Chip \",\" Fortune Cookie \",\" Fortune Cookie \",\" Fortune Cookie \",\" Fortune Cookie \",\" Fortune Cookie \",\" Fortune Cookie \",\" Fortune Cookie \",\" Fortune Cookie \",\" Fortune Cookie \",\" Fortune Cookie \",\" Fortune Cookie \",\" Fortune Cookie \",\" Fortune Cookie \",\" Fortune Cookie \",\" Fortune Cookie \",\" Fortune Cookie \",\" Fortune Cookie \",\" Fortune Cookie \",\" Fortune Cookie \",\" Fortune Cookie \",\" Fortune Cookie \",\" Fortune Cookie \",\" Fortune Cookie \",\" Fortune Cookie \",\" Fortune Cookie \",\" Fortune Cookie \",\" Fortune Cookie \",\" Fortune Cookie \",\" Fortune Cookie \",\" Fortune Cookie \",\" Fortune Cookie \",\" Fortune Cookie \",\" Fortune Cookie \",\" Fortune Cookie \",\" Fortune Cookie \",\" Fortune Cookie \",\" Fortune Cookie \",\" Fortune Cookie \",\" Fortune Cookie \",\" Fortune Cookie \",\" Fortune Cookie \",\" Fortune Cookie \",\" Fortune Cookie \",\" Fortune Cookie \",\" Fortune Cookie \",\" Fortune Cookie \",\" Fortune Cookie \",\" Fortune Cookie \",\" Fortune Cookie \",\" Fortune Cookie \",\" Fortune Cookie \",\" Fortune Cookie \",\" Fortune Cookie \",\" Fortune Cookie \",\" Fortune Cookie \",\" Fortune Cookie \",\" Fortune Cookie \",\" Fortune Cookie \",\" Fortune Cookie \",\" Fortune Cookie \",\" Fortune Cookie \",\" Fortune Cookie \",\" Fortune Cookie \",\" Fortune Cookie \",\" Fortune Cookie \",\" Fortune Cookie \",\" Fortune Cookie \",\" Fortune Cookie \",\" Fortune Cookie \",\" Fortune Cookie \",\" Oatmeal Raisin \",\" Oatmeal Raisin \",\" Oatmeal Raisin \",\" Oatmeal Raisin \",\" Oatmeal Raisin \",\" Oatmeal Raisin \",\" Oatmeal Raisin \",\" Oatmeal Raisin \",\" Oatmeal Raisin \",\" Oatmeal Raisin \",\" Oatmeal Raisin \",\" Oatmeal Raisin \",\" Oatmeal Raisin \",\" Oatmeal Raisin \",\" Oatmeal Raisin \",\" Oatmeal Raisin \",\" Oatmeal Raisin \",\" Oatmeal Raisin \",\" Oatmeal Raisin \",\" Oatmeal Raisin \",\" Oatmeal Raisin \",\" Oatmeal Raisin \",\" Oatmeal Raisin \",\" Oatmeal Raisin \",\" Oatmeal Raisin \",\" Oatmeal Raisin \",\" Oatmeal Raisin \",\" Oatmeal Raisin \",\" Oatmeal Raisin \",\" Oatmeal Raisin \",\" Oatmeal Raisin \",\" Oatmeal Raisin \",\" Oatmeal Raisin \",\" Oatmeal Raisin \",\" Oatmeal Raisin \",\" Oatmeal Raisin \",\" Oatmeal Raisin \",\" Oatmeal Raisin \",\" Oatmeal Raisin \",\" Oatmeal Raisin \",\" Oatmeal Raisin \",\" Oatmeal Raisin \",\" Oatmeal Raisin \",\" Oatmeal Raisin \",\" Oatmeal Raisin \",\" Oatmeal Raisin \",\" Oatmeal Raisin \",\" Oatmeal Raisin \",\" Oatmeal Raisin \",\" Oatmeal Raisin \",\" Oatmeal Raisin \",\" Oatmeal Raisin \",\" Oatmeal Raisin \",\" Oatmeal Raisin \",\" Oatmeal Raisin \",\" Oatmeal Raisin \",\" Oatmeal Raisin \",\" Oatmeal Raisin \",\" Oatmeal Raisin \",\" Oatmeal Raisin \",\" Oatmeal Raisin \",\" Oatmeal Raisin \",\" Oatmeal Raisin \",\" Oatmeal Raisin \",\" Oatmeal Raisin \",\" Oatmeal Raisin \",\" Oatmeal Raisin \",\" Oatmeal Raisin \",\" Oatmeal Raisin \",\" Oatmeal Raisin \",\" Oatmeal Raisin \",\" Snickerdoodle \",\" Snickerdoodle \",\" Snickerdoodle \",\" Snickerdoodle \",\" Snickerdoodle \",\" Snickerdoodle \",\" Snickerdoodle \",\" Snickerdoodle \",\" Snickerdoodle \",\" Snickerdoodle \",\" Snickerdoodle \",\" Snickerdoodle \",\" Snickerdoodle \",\" Snickerdoodle \",\" Snickerdoodle \",\" Snickerdoodle \",\" Snickerdoodle \",\" Snickerdoodle \",\" Snickerdoodle \",\" Snickerdoodle \",\" Snickerdoodle \",\" Snickerdoodle \",\" Snickerdoodle \",\" Snickerdoodle \",\" Snickerdoodle \",\" Snickerdoodle \",\" Snickerdoodle \",\" Snickerdoodle \",\" Snickerdoodle \",\" Snickerdoodle \",\" Snickerdoodle \",\" Snickerdoodle \",\" Snickerdoodle \",\" Snickerdoodle \",\" Snickerdoodle \",\" Snickerdoodle \",\" Snickerdoodle \",\" Snickerdoodle \",\" Snickerdoodle \",\" Snickerdoodle \",\" Snickerdoodle \",\" Snickerdoodle \",\" Snickerdoodle \",\" Snickerdoodle \",\" Snickerdoodle \",\" Snickerdoodle \",\" Snickerdoodle \",\" Snickerdoodle \",\" Snickerdoodle \",\" Snickerdoodle \",\" Snickerdoodle \",\" Snickerdoodle \",\" Snickerdoodle \",\" Snickerdoodle \",\" Snickerdoodle \",\" Snickerdoodle \",\" Snickerdoodle \",\" Snickerdoodle \",\" Snickerdoodle \",\" Snickerdoodle \",\" Snickerdoodle \",\" Snickerdoodle \",\" Snickerdoodle \",\" Snickerdoodle \",\" Snickerdoodle \",\" Snickerdoodle \",\" Snickerdoodle \",\" Snickerdoodle \",\" Snickerdoodle \",\" Snickerdoodle \",\" Sugar \",\" Sugar \",\" Sugar \",\" Sugar \",\" Sugar \",\" Sugar \",\" Sugar \",\" Sugar \",\" Sugar \",\" Sugar \",\" Sugar \",\" Sugar \",\" Sugar \",\" Sugar \",\" Sugar \",\" Sugar \",\" Sugar \",\" Sugar \",\" Sugar \",\" Sugar \",\" Sugar \",\" Sugar \",\" Sugar \",\" Sugar \",\" Sugar \",\" Sugar \",\" Sugar \",\" Sugar \",\" Sugar \",\" Sugar \",\" Sugar \",\" Sugar \",\" Sugar \",\" Sugar \",\" Sugar \",\" Sugar \",\" Sugar \",\" Sugar \",\" Sugar \",\" Sugar \",\" Sugar \",\" Sugar \",\" Sugar \",\" Sugar \",\" Sugar \",\" Sugar \",\" Sugar \",\" Sugar \",\" Sugar \",\" Sugar \",\" Sugar \",\" Sugar \",\" Sugar \",\" Sugar \",\" Sugar \",\" Sugar \",\" Sugar \",\" Sugar \",\" Sugar \",\" Sugar \",\" Sugar \",\" Sugar \",\" Sugar \",\" Sugar \",\" Sugar \",\" Sugar \",\" Sugar \",\" Sugar \",\" Sugar \",\" Sugar \",\" Sugar \",\" Sugar \",\" Sugar \",\" Sugar \",\" Sugar \",\" Sugar \",\" Sugar \",\" Sugar \",\" Sugar \",\" Sugar \",\" Sugar \",\" White Chocolate Macadamia Nut \",\" White Chocolate Macadamia Nut \",\" White Chocolate Macadamia Nut \",\" White Chocolate Macadamia Nut \",\" White Chocolate Macadamia Nut \",\" White Chocolate Macadamia Nut \",\" White Chocolate Macadamia Nut \",\" White Chocolate Macadamia Nut \",\" White Chocolate Macadamia Nut \",\" White Chocolate Macadamia Nut \",\" White Chocolate Macadamia Nut \",\" White Chocolate Macadamia Nut \",\" White Chocolate Macadamia Nut \",\" White Chocolate Macadamia Nut \",\" White Chocolate Macadamia Nut \",\" White Chocolate Macadamia Nut \",\" White Chocolate Macadamia Nut \",\" White Chocolate Macadamia Nut \",\" White Chocolate Macadamia Nut \",\" White Chocolate Macadamia Nut \",\" White Chocolate Macadamia Nut \",\" White Chocolate Macadamia Nut \",\" White Chocolate Macadamia Nut \",\" White Chocolate Macadamia Nut \",\" White Chocolate Macadamia Nut \",\" White Chocolate Macadamia Nut \",\" White Chocolate Macadamia Nut \",\" White Chocolate Macadamia Nut \",\" White Chocolate Macadamia Nut \",\" White Chocolate Macadamia Nut \",\" White Chocolate Macadamia Nut \",\" White Chocolate Macadamia Nut \",\" White Chocolate Macadamia Nut \",\" White Chocolate Macadamia Nut \",\" White Chocolate Macadamia Nut \",\" White Chocolate Macadamia Nut \",\" White Chocolate Macadamia Nut \",\" White Chocolate Macadamia Nut \",\" White Chocolate Macadamia Nut \",\" White Chocolate Macadamia Nut \",\" White Chocolate Macadamia Nut \",\" White Chocolate Macadamia Nut \",\" White Chocolate Macadamia Nut \",\" White Chocolate Macadamia Nut \",\" White Chocolate Macadamia Nut \",\" White Chocolate Macadamia Nut \",\" White Chocolate Macadamia Nut \",\" White Chocolate Macadamia Nut \",\" White Chocolate Macadamia Nut \",\" White Chocolate Macadamia Nut \",\" White Chocolate Macadamia Nut \",\" White Chocolate Macadamia Nut \",\" White Chocolate Macadamia Nut \",\" White Chocolate Macadamia Nut \",\" White Chocolate Macadamia Nut \",\" White Chocolate Macadamia Nut \",\" White Chocolate Macadamia Nut \",\" White Chocolate Macadamia Nut \",\" White Chocolate Macadamia Nut \",\" White Chocolate Macadamia Nut \",\" White Chocolate Macadamia Nut \",\" White Chocolate Macadamia Nut \",\" White Chocolate Macadamia Nut \",\" White Chocolate Macadamia Nut \",\" White Chocolate Macadamia Nut \",\" White Chocolate Macadamia Nut \",\" White Chocolate Macadamia Nut \",\" White Chocolate Macadamia Nut \",\" White Chocolate Macadamia Nut \",\" White Chocolate Macadamia Nut \",\" White Chocolate Macadamia Nut \",\" White Chocolate Macadamia Nut \",\" White Chocolate Macadamia Nut \",\" White Chocolate Macadamia Nut \",\" White Chocolate Macadamia Nut \",\" White Chocolate Macadamia Nut \",\" White Chocolate Macadamia Nut \",\" White Chocolate Macadamia Nut \",\" White Chocolate Macadamia Nut \",\" White Chocolate Macadamia Nut \",\" White Chocolate Macadamia Nut \",\" White Chocolate Macadamia Nut \"],\"shape\":[524],\"dtype\":\"object\",\"order\":\"little\"}],[\"x\",{\"type\":\"ndarray\",\"array\":[\" February \",\" June \",\" June \",\" July \",\" August \",\" September \",\" October \",\" December \",\" December \",\" January \",\" February \",\" May \",\" February \",\" April \",\" June \",\" June \",\" July \",\" September \",\" November \",\" December \",\" February \",\" May \",\" May \",\" June \",\" June \",\" October \",\" December \",\" December \",\" December \",\" December \",\" December \",\" January \",\" March \",\" June \",\" June \",\" June \",\" July \",\" October \",\" December \",\" December \",\" October \",\" January \",\" March \",\" April \",\" May \",\" July \",\" July \",\" September \",\" September \",\" September \",\" December \",\" December \",\" January \",\" October \",\" December \",\" February \",\" March \",\" March \",\" April \",\" May \",\" June \",\" June \",\" September \",\" October \",\" December \",\" April \",\" June \",\" August \",\" August \",\" October \",\" May \",\" June \",\" July \",\" August \",\" September \",\" May \",\" March \",\" April \",\" May \",\" June \",\" June \",\" August \",\" August \",\" September \",\" September \",\" December \",\" January \",\" January \",\" April \",\" June \",\" October \",\" November \",\" December \",\" March \",\" June \",\" October \",\" March \",\" May \",\" October \",\" April \",\" January \",\" March \",\" July \",\" July \",\" July \",\" August \",\" August \",\" October \",\" November \",\" January \",\" June \",\" October \",\" October \",\" November \",\" November \",\" November \",\" November \",\" December \",\" December \",\" January \",\" January \",\" February \",\" February \",\" June \",\" June \",\" July \",\" August \",\" October \",\" October \",\" November \",\" December \",\" February \",\" March \",\" September \",\" October \",\" February \",\" October \",\" October \",\" November \",\" November \",\" March \",\" April \",\" April \",\" May \",\" August \",\" October \",\" October \",\" December \",\" December \",\" April \",\" March \",\" June \",\" June \",\" June \",\" June \",\" July \",\" August \",\" September \",\" December \",\" March \",\" April \",\" July \",\" August \",\" June \",\" October \",\" November \",\" February \",\" June \",\" September \",\" December \",\" December \",\" October \",\" March \",\" August \",\" October \",\" December \",\" January \",\" July \",\" November \",\" April \",\" May \",\" November \",\" January \",\" November \",\" October \",\" October \",\" February \",\" June \",\" March \",\" June \",\" July \",\" August \",\" December \",\" April \",\" May \",\" November \",\" December \",\" September \",\" May \",\" December \",\" January \",\" December \",\" March \",\" April \",\" September \",\" October \",\" May \",\" January \",\" February \",\" June \",\" July \",\" October \",\" February \",\" January \",\" April \",\" May \",\" September \",\" December \",\" October \",\" February \",\" February \",\" April \",\" April \",\" June \",\" July \",\" August \",\" October \",\" December \",\" March \",\" March \",\" May \",\" November \",\" November \",\" December \",\" February \",\" April \",\" September \",\" July \",\" August \",\" February \",\" August \",\" December \",\" January \",\" September \",\" June \",\" May \",\" September \",\" November \",\" December \",\" June \",\" June \",\" June \",\" June \",\" June \",\" November \",\" December \",\" December \",\" September \",\" October \",\" November \",\" June \",\" July \",\" January \",\" February \",\" March \",\" April \",\" May \",\" August \",\" September \",\" December \",\" December \",\" July \",\" October \",\" January \",\" January \",\" May \",\" December \",\" February \",\" July \",\" October \",\" January \",\" June \",\" October \",\" October \",\" March \",\" May \",\" August \",\" October \",\" October \",\" March \",\" October \",\" January \",\" January \",\" June \",\" June \",\" June \",\" December \",\" February \",\" March \",\" July \",\" September \",\" September \",\" October \",\" December \",\" April \",\" October \",\" December \",\" April \",\" April \",\" June \",\" September \",\" May \",\" October \",\" December \",\" February \",\" February \",\" May \",\" June \",\" November \",\" December \",\" December \",\" January \",\" June \",\" September \",\" November \",\" February \",\" August \",\" March \",\" June \",\" October \",\" August \",\" November \",\" December \",\" June \",\" May \",\" July \",\" September \",\" December \",\" April \",\" February \",\" March \",\" July \",\" October \",\" June \",\" October \",\" November \",\" January \",\" June \",\" March \",\" March \",\" April \",\" May \",\" December \",\" July \",\" October \",\" October \",\" November \",\" December \",\" August \",\" August \",\" October \",\" February \",\" April \",\" June \",\" June \",\" September \",\" December \",\" March \",\" March \",\" April \",\" June \",\" June \",\" September \",\" October \",\" November \",\" June \",\" October \",\" December \",\" February \",\" April \",\" June \",\" August \",\" August \",\" January \",\" May \",\" October \",\" October \",\" December \",\" December \",\" December \",\" June \",\" June \",\" October \",\" April \",\" December \",\" January \",\" February \",\" February \",\" April \",\" June \",\" August \",\" August \",\" September \",\" July \",\" January \",\" February \",\" April \",\" May \",\" September \",\" October \",\" November \",\" October \",\" December \",\" May \",\" July \",\" August \",\" September \",\" November \",\" March \",\" January \",\" January \",\" May \",\" July \",\" October \",\" November \",\" December \",\" March \",\" December \",\" June \",\" June \",\" October \",\" December \",\" March \",\" August \",\" October \",\" October \",\" July \",\" July \",\" October \",\" November \",\" December \",\" May \",\" January \",\" February \",\" March \",\" June \",\" June \",\" August \",\" November \",\" April \",\" May \",\" August \",\" October \",\" October \",\" December \",\" December \",\" October \",\" April \",\" March \",\" October \",\" December \",\" January \",\" January \",\" February \",\" June \",\" August \",\" August \",\" October \",\" December \",\" February \",\" February \",\" May \",\" June \",\" June \",\" August \",\" November \",\" May \",\" June \",\" November \",\" December \",\" July \",\" August \",\" September \",\" October \",\" December \",\" March \",\" June \",\" June \",\" December \",\" May \",\" July \",\" July \",\" September \",\" September \",\" October \",\" March \",\" April \",\" January \",\" April \",\" May \",\" July \",\" September \",\" October \",\" November \",\" December \",\" January \",\" October \",\" November \",\" July \",\" October \",\" October \",\" January \",\" June \",\" June \",\" June \",\" October \",\" December \",\" February \",\" April \",\" July \",\" March \",\" May \",\" September \",\" December \"],\"shape\":[524],\"dtype\":\"object\",\"order\":\"little\"}],[\"y\",{\"type\":\"ndarray\",\"array\":{\"type\":\"bytes\",\"data\":\"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\"},\"shape\":[524],\"dtype\":\"float64\",\"order\":\"little\"}]]}}},\"view\":{\"type\":\"object\",\"name\":\"CDSView\",\"id\":\"p1075\",\"attributes\":{\"filter\":{\"type\":\"object\",\"name\":\"AllIndices\",\"id\":\"p1076\"}}},\"glyph\":{\"type\":\"object\",\"name\":\"Circle\",\"id\":\"p1071\",\"attributes\":{\"x\":{\"type\":\"field\",\"field\":\"x\"},\"y\":{\"type\":\"field\",\"field\":\"y\"},\"line_color\":{\"type\":\"value\",\"value\":\"#1f77b4\"},\"fill_color\":{\"type\":\"value\",\"value\":\"red\"}}},\"nonselection_glyph\":{\"type\":\"object\",\"name\":\"Circle\",\"id\":\"p1072\",\"attributes\":{\"x\":{\"type\":\"field\",\"field\":\"x\"},\"y\":{\"type\":\"field\",\"field\":\"y\"},\"line_color\":{\"type\":\"value\",\"value\":\"#1f77b4\"},\"line_alpha\":{\"type\":\"value\",\"value\":0.1},\"fill_color\":{\"type\":\"value\",\"value\":\"red\"},\"fill_alpha\":{\"type\":\"value\",\"value\":0.1},\"hatch_alpha\":{\"type\":\"value\",\"value\":0.1}}},\"muted_glyph\":{\"type\":\"object\",\"name\":\"Circle\",\"id\":\"p1073\",\"attributes\":{\"x\":{\"type\":\"field\",\"field\":\"x\"},\"y\":{\"type\":\"field\",\"field\":\"y\"},\"line_color\":{\"type\":\"value\",\"value\":\"#1f77b4\"},\"line_alpha\":{\"type\":\"value\",\"value\":0.2},\"fill_color\":{\"type\":\"value\",\"value\":\"red\"},\"fill_alpha\":{\"type\":\"value\",\"value\":0.2},\"hatch_alpha\":{\"type\":\"value\",\"value\":0.2}}}}}],\"toolbar\":{\"type\":\"object\",\"name\":\"Toolbar\",\"id\":\"p1027\",\"attributes\":{\"tools\":[{\"type\":\"object\",\"name\":\"PanTool\",\"id\":\"p1053\"},{\"type\":\"object\",\"name\":\"WheelZoomTool\",\"id\":\"p1054\"},{\"type\":\"object\",\"name\":\"BoxSelectTool\",\"id\":\"p1055\",\"attributes\":{\"renderers\":\"auto\",\"dimensions\":\"width\",\"overlay\":{\"type\":\"object\",\"name\":\"BoxAnnotation\",\"id\":\"p1056\",\"attributes\":{\"syncable\":false,\"level\":\"overlay\",\"visible\":false,\"editable\":true,\"line_color\":\"black\",\"line_alpha\":1.0,\"line_width\":2,\"line_dash\":[4,4],\"fill_color\":\"lightgrey\",\"fill_alpha\":0.5}}}},{\"type\":\"object\",\"name\":\"LassoSelectTool\",\"id\":\"p1057\",\"attributes\":{\"renderers\":\"auto\",\"overlay\":{\"type\":\"object\",\"name\":\"PolyAnnotation\",\"id\":\"p1058\",\"attributes\":{\"syncable\":false,\"level\":\"overlay\",\"visible\":false,\"xs\":[],\"ys\":[],\"editable\":true,\"line_color\":\"black\",\"line_alpha\":1.0,\"line_width\":2,\"line_dash\":[4,4],\"fill_color\":\"lightgrey\",\"fill_alpha\":0.5}}}},{\"type\":\"object\",\"name\":\"ResetTool\",\"id\":\"p1059\"}],\"active_drag\":null}},\"left\":[{\"type\":\"object\",\"name\":\"LinearAxis\",\"id\":\"p1046\",\"attributes\":{\"ticker\":{\"type\":\"object\",\"name\":\"BasicTicker\",\"id\":\"p1047\",\"attributes\":{\"mantissas\":[1,2,5]}},\"formatter\":{\"type\":\"object\",\"name\":\"BasicTickFormatter\",\"id\":\"p1049\"},\"major_label_policy\":{\"type\":\"object\",\"name\":\"AllLabels\",\"id\":\"p1048\"}}}],\"below\":[{\"type\":\"object\",\"name\":\"CategoricalAxis\",\"id\":\"p1040\",\"attributes\":{\"ticker\":{\"type\":\"object\",\"name\":\"CategoricalTicker\",\"id\":\"p1041\"},\"formatter\":{\"type\":\"object\",\"name\":\"CategoricalTickFormatter\",\"id\":\"p1043\"},\"major_label_policy\":{\"type\":\"object\",\"name\":\"AllLabels\",\"id\":\"p1042\"}}}],\"center\":[{\"type\":\"object\",\"name\":\"Grid\",\"id\":\"p1045\",\"attributes\":{\"axis\":{\"id\":\"p1040\"}}},{\"type\":\"object\",\"name\":\"Grid\",\"id\":\"p1052\",\"attributes\":{\"dimension\":1,\"axis\":{\"id\":\"p1046\"}}}]}},{\"type\":\"object\",\"name\":\"DataTable\",\"id\":\"p1017\",\"attributes\":{\"width\":800,\"source\":{\"id\":\"p1002\"},\"view\":{\"type\":\"object\",\"name\":\"CDSView\",\"id\":\"p1021\",\"attributes\":{\"filter\":{\"type\":\"object\",\"name\":\"AllIndices\",\"id\":\"p1022\"}}},\"columns\":[{\"type\":\"object\",\"name\":\"TableColumn\",\"id\":\"p1005\",\"attributes\":{\"field\":\"a\",\"title\":\"Country\",\"formatter\":{\"type\":\"object\",\"name\":\"StringFormatter\",\"id\":\"p1007\"},\"editor\":{\"type\":\"object\",\"name\":\"StringEditor\",\"id\":\"p1006\"}}},{\"type\":\"object\",\"name\":\"TableColumn\",\"id\":\"p1008\",\"attributes\":{\"field\":\"b\",\"title\":\"Type\",\"formatter\":{\"type\":\"object\",\"name\":\"StringFormatter\",\"id\":\"p1010\"},\"editor\":{\"type\":\"object\",\"name\":\"StringEditor\",\"id\":\"p1009\"}}},{\"type\":\"object\",\"name\":\"TableColumn\",\"id\":\"p1011\",\"attributes\":{\"field\":\"x\",\"title\":\"Month\",\"formatter\":{\"type\":\"object\",\"name\":\"StringFormatter\",\"id\":\"p1013\"},\"editor\":{\"type\":\"object\",\"name\":\"StringEditor\",\"id\":\"p1012\"}}},{\"type\":\"object\",\"name\":\"TableColumn\",\"id\":\"p1014\",\"attributes\":{\"field\":\"y\",\"title\":\"Number of Sale\",\"formatter\":{\"type\":\"object\",\"name\":\"StringFormatter\",\"id\":\"p1016\"},\"editor\":{\"type\":\"object\",\"name\":\"StringEditor\",\"id\":\"p1015\"}}}],\"index_header\":\"Row Index\",\"index_width\":60}}]}}],\"callbacks\":{\"type\":\"map\"}}};\n",
       "  const render_items = [{\"docid\":\"b42d8805-dae9-40ab-9db1-280cd3c8102b\",\"roots\":{\"p1081\":\"656c0e79-8505-45ee-bedd-c1e120a78324\"},\"root_ids\":[\"p1081\"]}];\n",
       "  root.Bokeh.embed.embed_items_notebook(docs_json, render_items);\n",
       "  }\n",
       "  if (root.Bokeh !== undefined) {\n",
       "    embed_document(root);\n",
       "  } else {\n",
       "    let attempts = 0;\n",
       "    const timer = setInterval(function(root) {\n",
       "      if (root.Bokeh !== undefined) {\n",
       "        clearInterval(timer);\n",
       "        embed_document(root);\n",
       "      } else {\n",
       "        attempts++;\n",
       "        if (attempts > 100) {\n",
       "          clearInterval(timer);\n",
       "          console.log(\"Bokeh: ERROR: Unable to run BokehJS code because BokehJS library is missing\");\n",
       "        }\n",
       "      }\n",
       "    }, 10, root)\n",
       "  }\n",
       "})(window);"
      ],
      "application/vnd.bokehjs_exec.v0+json": ""
     },
     "metadata": {
      "application/vnd.bokehjs_exec.v0+json": {
       "id": "p1081"
      }
     },
     "output_type": "display_data"
    }
   ],
   "source": [
    "show(column(p, data_table))"
   ]
  },
  {
   "cell_type": "code",
   "execution_count": 10,
   "id": "b6700102",
   "metadata": {},
   "outputs": [
    {
     "data": {
      "text/html": [
       "\n",
       "  <div id=\"286d37de-960f-4b8d-a6c8-2ccfada9f520\" data-root-id=\"p1299\" style=\"display: contents;\"></div>\n"
      ]
     },
     "metadata": {},
     "output_type": "display_data"
    },
    {
     "data": {
      "application/javascript": [
       "(function(root) {\n",
       "  function embed_document(root) {\n",
       "  const docs_json = {\"5930008a-0810-4214-9a53-0159a9be7991\":{\"version\":\"3.1.0\",\"title\":\"Bokeh Application\",\"defs\":[],\"roots\":[{\"type\":\"object\",\"name\":\"Column\",\"id\":\"p1299\",\"attributes\":{\"children\":[{\"type\":\"object\",\"name\":\"Figure\",\"id\":\"p1245\",\"attributes\":{\"height\":200,\"x_range\":{\"type\":\"object\",\"name\":\"FactorRange\",\"id\":\"p1254\",\"attributes\":{\"factors\":[\" February \",\" June \",\" July \",\" August \",\" September \",\" October \",\" December \",\" January \",\" May \",\" April \",\" November \",\" March \"]}},\"y_range\":{\"type\":\"object\",\"name\":\"DataRange1d\",\"id\":\"p1247\"},\"x_scale\":{\"type\":\"object\",\"name\":\"CategoricalScale\",\"id\":\"p1258\"},\"y_scale\":{\"type\":\"object\",\"name\":\"LinearScale\",\"id\":\"p1260\"},\"title\":{\"type\":\"object\",\"name\":\"Title\",\"id\":\"p1250\"},\"renderers\":[{\"type\":\"object\",\"name\":\"GlyphRenderer\",\"id\":\"p1296\",\"attributes\":{\"data_source\":{\"type\":\"object\",\"name\":\"ColumnDataSource\",\"id\":\"p1002\",\"attributes\":{\"selected\":{\"type\":\"object\",\"name\":\"Selection\",\"id\":\"p1004\",\"attributes\":{\"indices\":[],\"line_indices\":[]}},\"selection_policy\":{\"type\":\"object\",\"name\":\"UnionRenderers\",\"id\":\"p1003\"},\"data\":{\"type\":\"map\",\"entries\":[[\"a\",{\"type\":\"ndarray\",\"array\":[\"Mexico\",\"Canada\",\"Germany\",\"Germany\",\"Mexico\",\"Mexico\",\"United States\",\"Canada\",\"Germany\",\"France\",\"France\",\"France\",\"United States\",\"United States\",\"United States\",\"France\",\"Mexico\",\"Germany\",\"United States\",\"France\",\"Canada\",\"France\",\"Germany\",\"United States\",\"Mexico\",\"Canada\",\"Canada\",\"Canada\",\"Canada\",\"France\",\"Mexico\",\"France\",\"Canada\",\"France\",\"Germany\",\"Germany\",\"United States\",\"Canada\",\"France\",\"Germany\",\"Mexico\",\"Canada\",\"Germany\",\"Germany\",\"United States\",\"United States\",\"France\",\"Canada\",\"Canada\",\"United States\",\"United States\",\"Mexico\",\"Germany\",\"Mexico\",\"Canada\",\"France\",\"United States\",\"France\",\"Mexico\",\"United States\",\"United States\",\"United States\",\"France\",\"United States\",\"United States\",\"France\",\"France\",\"United States\",\"Germany\",\"United States\",\"Canada\",\"France\",\"Germany\",\"France\",\"France\",\"Canada\",\"Mexico\",\"Germany\",\"Germany\",\"Germany\",\"Mexico\",\"United States\",\"Germany\",\"Germany\",\"Mexico\",\"Mexico\",\"Mexico\",\"Mexico\",\"United States\",\"Canada\",\"France\",\"France\",\"United States\",\"United States\",\"Mexico\",\"Germany\",\"France\",\"Mexico\",\"Germany\",\"France\",\"Canada\",\"Mexico\",\"Canada\",\"Canada\",\"France\",\"Canada\",\"Mexico\",\"France\",\"Canada\",\"United States\",\"Mexico\",\"Mexico\",\"Mexico\",\"France\",\"Germany\",\"Mexico\",\"Mexico\",\"Mexico\",\"Germany\",\"United States\",\"Germany\",\"United States\",\"Germany\",\"Canada\",\"Canada\",\"Mexico\",\"France\",\"Canada\",\"Canada\",\"Germany\",\"Germany\",\"Germany\",\"Canada\",\"United States\",\"France\",\"Mexico\",\"United States\",\"France\",\"Canada\",\"United States\",\"Germany\",\"Canada\",\"Mexico\",\"Mexico\",\"Canada\",\"Germany\",\"Germany\",\"United States\",\"France\",\"Canada\",\"Germany\",\"Canada\",\"France\",\"Germany\",\"Mexico\",\"Canada\",\"Mexico\",\"Germany\",\"United States\",\"Mexico\",\"United States\",\"France\",\"Canada\",\"United States\",\"United States\",\"Mexico\",\"Germany\",\"France\",\"France\",\"France\",\"Germany\",\"Mexico\",\"Canada\",\"Germany\",\"Germany\",\"Mexico\",\"France\",\"United States\",\"Germany\",\"Mexico\",\"Germany\",\"United States\",\"Mexico\",\"France\",\"France\",\"France\",\"Canada\",\"United States\",\"France\",\"Canada\",\"Germany\",\"France\",\"Germany\",\"Canada\",\"France\",\"Canada\",\"United States\",\"United States\",\"United States\",\"France\",\"Germany\",\"Mexico\",\"United States\",\"France\",\"Mexico\",\"Canada\",\"Mexico\",\"United States\",\"United States\",\"Mexico\",\"Mexico\",\"Canada\",\"France\",\"Canada\",\"Germany\",\"Canada\",\"Canada\",\"Canada\",\"Mexico\",\"Mexico\",\"France\",\"United States\",\"Germany\",\"France\",\"Germany\",\"United States\",\"United States\",\"United States\",\"Germany\",\"Mexico\",\"Germany\",\"United States\",\"France\",\"Canada\",\"Mexico\",\"Mexico\",\"Germany\",\"Mexico\",\"Mexico\",\"Germany\",\"Canada\",\"Germany\",\"France\",\"Mexico\",\"Canada\",\"Canada\",\"France\",\"Canada\",\"United States\",\"United States\",\"Canada\",\"United States\",\"Germany\",\"Mexico\",\"Germany\",\"Germany\",\"Mexico\",\"United States\",\"Canada\",\"Mexico\",\"Mexico\",\"Canada\",\"United States\",\"Canada\",\"United States\",\"Canada\",\"Mexico\",\"Germany\",\"Canada\",\"France\",\"France\",\"United States\",\"Germany\",\"Germany\",\"Mexico\",\"France\",\"Mexico\",\"United States\",\"France\",\"Canada\",\"Canada\",\"France\",\"Mexico\",\"France\",\"Canada\",\"United States\",\"France\",\"United States\",\"France\",\"France\",\"Mexico\",\"Canada\",\"Germany\",\"France\",\"Germany\",\"Mexico\",\"Germany\",\"United States\",\"Mexico\",\"United States\",\"Canada\",\"France\",\"Mexico\",\"France\",\"Canada\",\"Canada\",\"Canada\",\"France\",\"Germany\",\"Germany\",\"United States\",\"Canada\",\"Germany\",\"United States\",\"France\",\"Germany\",\"France\",\"United States\",\"Mexico\",\"United States\",\"France\",\"United States\",\"Canada\",\"Mexico\",\"United States\",\"Mexico\",\"Canada\",\"United States\",\"France\",\"France\",\"Mexico\",\"France\",\"Mexico\",\"Canada\",\"Germany\",\"Canada\",\"Germany\",\"Mexico\",\"United States\",\"Canada\",\"Germany\",\"Germany\",\"France\",\"Mexico\",\"Mexico\",\"Canada\",\"France\",\"United States\",\"Canada\",\"France\",\"Mexico\",\"United States\",\"Germany\",\"Mexico\",\"Canada\",\"United States\",\"Germany\",\"Canada\",\"France\",\"Germany\",\"Germany\",\"Canada\",\"Germany\",\"France\",\"Germany\",\"France\",\"Canada\",\"Canada\",\"Germany\",\"Canada\",\"United States\",\"France\",\"Germany\",\"Mexico\",\"France\",\"Mexico\",\"Germany\",\"Canada\",\"United States\",\"Mexico\",\"Germany\",\"Canada\",\"Mexico\",\"Germany\",\"France\",\"France\",\"Mexico\",\"United States\",\"United States\",\"France\",\"Canada\",\"Mexico\",\"United States\",\"France\",\"Canada\",\"Canada\",\"France\",\"Mexico\",\"France\",\"Germany\",\"France\",\"Germany\",\"Canada\",\"United States\",\"United States\",\"Germany\",\"United States\",\"Germany\",\"United States\",\"France\",\"Mexico\",\"Germany\",\"Mexico\",\"Mexico\",\"Mexico\",\"United States\",\"Mexico\",\"Canada\",\"United States\",\"France\",\"Mexico\",\"Canada\",\"France\",\"United States\",\"United States\",\"Mexico\",\"France\",\"Germany\",\"United States\",\"Canada\",\"Canada\",\"Germany\",\"Mexico\",\"United States\",\"Canada\",\"United States\",\"Canada\",\"Germany\",\"Germany\",\"Germany\",\"France\",\"United States\",\"Mexico\",\"France\",\"Germany\",\"Germany\",\"Germany\",\"United States\",\"France\",\"France\",\"Mexico\",\"Canada\",\"United States\",\"Germany\",\"France\",\"Mexico\",\"Canada\",\"Canada\",\"United States\",\"France\",\"Canada\",\"United States\",\"Mexico\",\"Germany\",\"United States\",\"United States\",\"France\",\"United States\",\"Germany\",\"Canada\",\"United States\",\"Germany\",\"France\",\"Mexico\",\"Germany\",\"Mexico\",\"Canada\",\"Canada\",\"United States\",\"Canada\",\"France\",\"Mexico\",\"Germany\",\"France\",\"United States\",\"Canada\",\"United States\",\"Germany\",\"Mexico\",\"Mexico\",\"Canada\",\"Germany\",\"Canada\",\"Mexico\",\"Canada\",\"France\",\"Mexico\",\"Germany\",\"Germany\",\"United States\",\"France\",\"United States\",\"Germany\",\"Germany\",\"France\",\"Canada\",\"Germany\",\"Canada\",\"Mexico\",\"United States\",\"Mexico\",\"France\",\"Canada\",\"France\",\"Mexico\",\"Mexico\",\"Germany\",\"Mexico\",\"United States\",\"United States\",\"Mexico\",\"France\",\"France\",\"United States\"],\"shape\":[524],\"dtype\":\"object\",\"order\":\"little\"}],[\"b\",{\"type\":\"ndarray\",\"array\":[\"Chocolate Chip\",\"Chocolate Chip\",\"Chocolate Chip\",\"Chocolate Chip\",\" Chocolate Chip \",\" Chocolate Chip \",\" Chocolate Chip \",\" Chocolate Chip \",\" Chocolate Chip \",\" Chocolate Chip \",\" Chocolate Chip \",\" Chocolate Chip \",\" Chocolate Chip \",\" Chocolate Chip \",\" Chocolate Chip \",\" Chocolate Chip \",\" Chocolate Chip \",\" Chocolate Chip \",\" Chocolate Chip \",\" Chocolate Chip \",\" Chocolate Chip \",\" Chocolate Chip \",\" Chocolate Chip \",\" Chocolate Chip \",\" Chocolate Chip \",\" Chocolate Chip \",\" Chocolate Chip \",\" Chocolate Chip \",\" Chocolate Chip \",\" Chocolate Chip \",\" Chocolate Chip \",\" Chocolate Chip \",\" Chocolate Chip \",\" Chocolate Chip \",\" Chocolate Chip \",\" Chocolate Chip \",\" Chocolate Chip \",\" Chocolate Chip \",\" Chocolate Chip \",\" Chocolate Chip \",\" Chocolate Chip \",\" Chocolate Chip \",\" Chocolate Chip \",\" Chocolate Chip \",\" Chocolate Chip \",\" Chocolate Chip \",\" Chocolate Chip \",\" Chocolate Chip \",\" Chocolate Chip \",\" Chocolate Chip \",\" Chocolate Chip \",\" Chocolate Chip \",\" Chocolate Chip \",\" Chocolate Chip \",\" Chocolate Chip \",\" Chocolate Chip \",\" Chocolate Chip \",\" Chocolate Chip \",\" Chocolate Chip \",\" Chocolate Chip \",\" Chocolate Chip \",\" Chocolate Chip \",\" Chocolate Chip \",\" Chocolate Chip \",\" Chocolate Chip \",\" Chocolate Chip \",\" Chocolate Chip \",\" Chocolate Chip \",\" Chocolate Chip \",\" Chocolate Chip \",\" Chocolate Chip \",\" Chocolate Chip \",\" Chocolate Chip \",\" Chocolate Chip \",\" Chocolate Chip \",\" Chocolate Chip \",\" Chocolate Chip \",\" Chocolate Chip \",\" Chocolate Chip \",\" Chocolate Chip \",\" Chocolate Chip \",\" Chocolate Chip \",\" Chocolate Chip \",\" Chocolate Chip \",\" Chocolate Chip \",\" Chocolate Chip \",\" Chocolate Chip \",\" Chocolate Chip \",\" Chocolate Chip \",\" Chocolate Chip \",\" Chocolate Chip \",\" Chocolate Chip \",\" Chocolate Chip \",\" Chocolate Chip \",\" Chocolate Chip \",\" Chocolate Chip \",\" Chocolate Chip \",\" Chocolate Chip \",\" Chocolate Chip \",\" Chocolate Chip \",\" Chocolate Chip \",\" Chocolate Chip \",\" Chocolate Chip \",\" Chocolate Chip \",\" Chocolate Chip \",\" Chocolate Chip \",\" Chocolate Chip \",\" Chocolate Chip \",\" Chocolate Chip \",\" Chocolate Chip \",\" Chocolate Chip \",\" Chocolate Chip \",\" Chocolate Chip \",\" Chocolate Chip \",\" Chocolate Chip \",\" Chocolate Chip \",\" Chocolate Chip \",\" Chocolate Chip \",\" Chocolate Chip \",\" Chocolate Chip \",\" Chocolate Chip \",\" Chocolate Chip \",\" Chocolate Chip \",\" Chocolate Chip \",\" Chocolate Chip \",\" Chocolate Chip \",\" Chocolate Chip \",\" Chocolate Chip \",\" Chocolate Chip \",\" Chocolate Chip \",\" Chocolate Chip \",\" Chocolate Chip \",\" Chocolate Chip \",\" Chocolate Chip \",\" Chocolate Chip \",\" Chocolate Chip \",\" Chocolate Chip \",\" Chocolate Chip \",\" Chocolate Chip \",\" Chocolate Chip \",\" Chocolate Chip \",\" Chocolate Chip \",\" Chocolate Chip \",\" Chocolate Chip \",\" Chocolate Chip \",\" Chocolate Chip \",\" Chocolate Chip \",\" Chocolate Chip \",\" Chocolate Chip \",\" Chocolate Chip \",\" Fortune Cookie \",\" Fortune Cookie \",\" Fortune Cookie \",\" Fortune Cookie \",\" Fortune Cookie \",\" Fortune Cookie \",\" Fortune Cookie \",\" Fortune Cookie \",\" Fortune Cookie \",\" Fortune Cookie \",\" Fortune Cookie \",\" Fortune Cookie \",\" Fortune Cookie \",\" Fortune Cookie \",\" Fortune Cookie \",\" Fortune Cookie \",\" Fortune Cookie \",\" Fortune Cookie \",\" Fortune Cookie \",\" Fortune Cookie \",\" Fortune Cookie \",\" Fortune Cookie \",\" Fortune Cookie \",\" Fortune Cookie \",\" Fortune Cookie \",\" Fortune Cookie \",\" Fortune Cookie \",\" Fortune Cookie \",\" Fortune Cookie \",\" Fortune Cookie \",\" Fortune Cookie \",\" Fortune Cookie \",\" Fortune Cookie \",\" Fortune Cookie \",\" Fortune Cookie \",\" Fortune Cookie \",\" Fortune Cookie \",\" Fortune Cookie \",\" Fortune Cookie \",\" Fortune Cookie \",\" Fortune Cookie \",\" Fortune Cookie \",\" Fortune Cookie \",\" Fortune Cookie \",\" Fortune Cookie \",\" Fortune Cookie \",\" Fortune Cookie \",\" Fortune Cookie \",\" Fortune Cookie \",\" Fortune Cookie \",\" Fortune Cookie \",\" Fortune Cookie \",\" Fortune Cookie \",\" Fortune Cookie \",\" Fortune Cookie \",\" Fortune Cookie \",\" Fortune Cookie \",\" Fortune Cookie \",\" Fortune Cookie \",\" Fortune Cookie \",\" Fortune Cookie \",\" Fortune Cookie \",\" Fortune Cookie \",\" Fortune Cookie \",\" Fortune Cookie \",\" Fortune Cookie \",\" Fortune Cookie \",\" Fortune Cookie \",\" Fortune Cookie \",\" Fortune Cookie \",\" Oatmeal Raisin \",\" Oatmeal Raisin \",\" Oatmeal Raisin \",\" Oatmeal Raisin \",\" Oatmeal Raisin \",\" Oatmeal Raisin \",\" Oatmeal Raisin \",\" Oatmeal Raisin \",\" Oatmeal Raisin \",\" Oatmeal Raisin \",\" Oatmeal Raisin \",\" Oatmeal Raisin \",\" Oatmeal Raisin \",\" Oatmeal Raisin \",\" Oatmeal Raisin \",\" Oatmeal Raisin \",\" Oatmeal Raisin \",\" Oatmeal Raisin \",\" Oatmeal Raisin \",\" Oatmeal Raisin \",\" Oatmeal Raisin \",\" Oatmeal Raisin \",\" Oatmeal Raisin \",\" Oatmeal Raisin \",\" Oatmeal Raisin \",\" Oatmeal Raisin \",\" Oatmeal Raisin \",\" Oatmeal Raisin \",\" Oatmeal Raisin \",\" Oatmeal Raisin \",\" Oatmeal Raisin \",\" Oatmeal Raisin \",\" Oatmeal Raisin \",\" Oatmeal Raisin \",\" Oatmeal Raisin \",\" Oatmeal Raisin \",\" Oatmeal Raisin \",\" Oatmeal Raisin \",\" Oatmeal Raisin \",\" Oatmeal Raisin \",\" Oatmeal Raisin \",\" Oatmeal Raisin \",\" Oatmeal Raisin \",\" Oatmeal Raisin \",\" Oatmeal Raisin \",\" Oatmeal Raisin \",\" Oatmeal Raisin \",\" Oatmeal Raisin \",\" Oatmeal Raisin \",\" Oatmeal Raisin \",\" Oatmeal Raisin \",\" Oatmeal Raisin \",\" Oatmeal Raisin \",\" Oatmeal Raisin \",\" Oatmeal Raisin \",\" Oatmeal Raisin \",\" Oatmeal Raisin \",\" Oatmeal Raisin \",\" Oatmeal Raisin \",\" Oatmeal Raisin \",\" Oatmeal Raisin \",\" Oatmeal Raisin \",\" Oatmeal Raisin \",\" Oatmeal Raisin \",\" Oatmeal Raisin \",\" Oatmeal Raisin \",\" Oatmeal Raisin \",\" Oatmeal Raisin \",\" Oatmeal Raisin \",\" Oatmeal Raisin \",\" Oatmeal Raisin \",\" Snickerdoodle \",\" Snickerdoodle \",\" Snickerdoodle \",\" Snickerdoodle \",\" Snickerdoodle \",\" Snickerdoodle \",\" Snickerdoodle \",\" Snickerdoodle \",\" Snickerdoodle \",\" Snickerdoodle \",\" Snickerdoodle \",\" Snickerdoodle \",\" Snickerdoodle \",\" Snickerdoodle \",\" Snickerdoodle \",\" Snickerdoodle \",\" Snickerdoodle \",\" Snickerdoodle \",\" Snickerdoodle \",\" Snickerdoodle \",\" Snickerdoodle \",\" Snickerdoodle \",\" Snickerdoodle \",\" Snickerdoodle \",\" Snickerdoodle \",\" Snickerdoodle \",\" Snickerdoodle \",\" Snickerdoodle \",\" Snickerdoodle \",\" Snickerdoodle \",\" Snickerdoodle \",\" Snickerdoodle \",\" Snickerdoodle \",\" Snickerdoodle \",\" Snickerdoodle \",\" Snickerdoodle \",\" Snickerdoodle \",\" Snickerdoodle \",\" Snickerdoodle \",\" Snickerdoodle \",\" Snickerdoodle \",\" Snickerdoodle \",\" Snickerdoodle \",\" Snickerdoodle \",\" Snickerdoodle \",\" Snickerdoodle \",\" Snickerdoodle \",\" Snickerdoodle \",\" Snickerdoodle \",\" Snickerdoodle \",\" Snickerdoodle \",\" Snickerdoodle \",\" Snickerdoodle \",\" Snickerdoodle \",\" Snickerdoodle \",\" Snickerdoodle \",\" Snickerdoodle \",\" Snickerdoodle \",\" Snickerdoodle \",\" Snickerdoodle \",\" Snickerdoodle \",\" Snickerdoodle \",\" Snickerdoodle \",\" Snickerdoodle \",\" Snickerdoodle \",\" Snickerdoodle \",\" Snickerdoodle \",\" Snickerdoodle \",\" Snickerdoodle \",\" Snickerdoodle \",\" Sugar \",\" Sugar \",\" Sugar \",\" Sugar \",\" Sugar \",\" Sugar \",\" Sugar \",\" Sugar \",\" Sugar \",\" Sugar \",\" Sugar \",\" Sugar \",\" Sugar \",\" Sugar \",\" Sugar \",\" Sugar \",\" Sugar \",\" Sugar \",\" Sugar \",\" Sugar \",\" Sugar \",\" Sugar \",\" Sugar \",\" Sugar \",\" Sugar \",\" Sugar \",\" Sugar \",\" Sugar \",\" Sugar \",\" Sugar \",\" Sugar \",\" Sugar \",\" Sugar \",\" Sugar \",\" Sugar \",\" Sugar \",\" Sugar \",\" Sugar \",\" Sugar \",\" Sugar \",\" Sugar \",\" Sugar \",\" Sugar \",\" Sugar \",\" Sugar \",\" Sugar \",\" Sugar \",\" Sugar \",\" Sugar \",\" Sugar \",\" Sugar \",\" Sugar \",\" Sugar \",\" Sugar \",\" Sugar \",\" Sugar \",\" Sugar \",\" Sugar \",\" Sugar \",\" Sugar \",\" Sugar \",\" Sugar \",\" Sugar \",\" Sugar \",\" Sugar \",\" Sugar \",\" Sugar \",\" Sugar \",\" Sugar \",\" Sugar \",\" Sugar \",\" Sugar \",\" Sugar \",\" Sugar \",\" Sugar \",\" Sugar \",\" Sugar \",\" Sugar \",\" Sugar \",\" Sugar \",\" Sugar \",\" White Chocolate Macadamia Nut \",\" White Chocolate Macadamia Nut \",\" White Chocolate Macadamia Nut \",\" White Chocolate Macadamia Nut \",\" White Chocolate Macadamia Nut \",\" White Chocolate Macadamia Nut \",\" White Chocolate Macadamia Nut \",\" White Chocolate Macadamia Nut \",\" White Chocolate Macadamia Nut \",\" White Chocolate Macadamia Nut \",\" White Chocolate Macadamia Nut \",\" White Chocolate Macadamia Nut \",\" White Chocolate Macadamia Nut \",\" White Chocolate Macadamia Nut \",\" White Chocolate Macadamia Nut \",\" White Chocolate Macadamia Nut \",\" White Chocolate Macadamia Nut \",\" White Chocolate Macadamia Nut \",\" White Chocolate Macadamia Nut \",\" White Chocolate Macadamia Nut \",\" White Chocolate Macadamia Nut \",\" White Chocolate Macadamia Nut \",\" White Chocolate Macadamia Nut \",\" White Chocolate Macadamia Nut \",\" White Chocolate Macadamia Nut \",\" White Chocolate Macadamia Nut \",\" White Chocolate Macadamia Nut \",\" White Chocolate Macadamia Nut \",\" White Chocolate Macadamia Nut \",\" White Chocolate Macadamia Nut \",\" White Chocolate Macadamia Nut \",\" White Chocolate Macadamia Nut \",\" White Chocolate Macadamia Nut \",\" White Chocolate Macadamia Nut \",\" White Chocolate Macadamia Nut \",\" White Chocolate Macadamia Nut \",\" White Chocolate Macadamia Nut \",\" White Chocolate Macadamia Nut \",\" White Chocolate Macadamia Nut \",\" White Chocolate Macadamia Nut \",\" White Chocolate Macadamia Nut \",\" White Chocolate Macadamia Nut \",\" White Chocolate Macadamia Nut \",\" White Chocolate Macadamia Nut \",\" White Chocolate Macadamia Nut \",\" White Chocolate Macadamia Nut \",\" White Chocolate Macadamia Nut \",\" White Chocolate Macadamia Nut \",\" White Chocolate Macadamia Nut \",\" White Chocolate Macadamia Nut \",\" White Chocolate Macadamia Nut \",\" White Chocolate Macadamia Nut \",\" White Chocolate Macadamia Nut \",\" White Chocolate Macadamia Nut \",\" White Chocolate Macadamia Nut \",\" White Chocolate Macadamia Nut \",\" White Chocolate Macadamia Nut \",\" White Chocolate Macadamia Nut \",\" White Chocolate Macadamia Nut \",\" White Chocolate Macadamia Nut \",\" White Chocolate Macadamia Nut \",\" White Chocolate Macadamia Nut \",\" White Chocolate Macadamia Nut \",\" White Chocolate Macadamia Nut \",\" White Chocolate Macadamia Nut \",\" White Chocolate Macadamia Nut \",\" White Chocolate Macadamia Nut \",\" White Chocolate Macadamia Nut \",\" White Chocolate Macadamia Nut \",\" White Chocolate Macadamia Nut \",\" White Chocolate Macadamia Nut \",\" White Chocolate Macadamia Nut \",\" White Chocolate Macadamia Nut \",\" White Chocolate Macadamia Nut \",\" White Chocolate Macadamia Nut \",\" White Chocolate Macadamia Nut \",\" White Chocolate Macadamia Nut \",\" White Chocolate Macadamia Nut \",\" White Chocolate Macadamia Nut \",\" White Chocolate Macadamia Nut \",\" White Chocolate Macadamia Nut \",\" White Chocolate Macadamia Nut \"],\"shape\":[524],\"dtype\":\"object\",\"order\":\"little\"}],[\"x\",{\"type\":\"ndarray\",\"array\":[\" February \",\" June \",\" June \",\" July \",\" August \",\" September \",\" October \",\" December \",\" December \",\" January \",\" February \",\" May \",\" February \",\" April \",\" June \",\" June \",\" July \",\" September \",\" November \",\" December \",\" February \",\" May \",\" May \",\" June \",\" June \",\" October \",\" December \",\" December \",\" December \",\" December \",\" December \",\" January \",\" March \",\" June \",\" June \",\" June \",\" July \",\" October \",\" December \",\" December \",\" October \",\" January \",\" March \",\" April \",\" May \",\" July \",\" July \",\" September \",\" September \",\" September \",\" December \",\" December \",\" January \",\" October \",\" December \",\" February \",\" March \",\" March \",\" April \",\" May \",\" June \",\" June \",\" September \",\" October \",\" December \",\" April \",\" June \",\" August \",\" August \",\" October \",\" May \",\" June \",\" July \",\" August \",\" September \",\" May \",\" March \",\" April \",\" May \",\" June \",\" June \",\" August \",\" August \",\" September \",\" September \",\" December \",\" January \",\" January \",\" April \",\" June \",\" October \",\" November \",\" December \",\" March \",\" June \",\" October \",\" March \",\" May \",\" October \",\" April \",\" January \",\" March \",\" July \",\" July \",\" July \",\" August \",\" August \",\" October \",\" November \",\" January \",\" June \",\" October \",\" October \",\" November \",\" November \",\" November \",\" November \",\" December \",\" December \",\" January \",\" January \",\" February \",\" February \",\" June \",\" June \",\" July \",\" August \",\" October \",\" October \",\" November \",\" December \",\" February \",\" March \",\" September \",\" October \",\" February \",\" October \",\" October \",\" November \",\" November \",\" March \",\" April \",\" April \",\" May \",\" August \",\" October \",\" October \",\" December \",\" December \",\" April \",\" March \",\" June \",\" June \",\" June \",\" June \",\" July \",\" August \",\" September \",\" December \",\" March \",\" April \",\" July \",\" August \",\" June \",\" October \",\" November \",\" February \",\" June \",\" September \",\" December \",\" December \",\" October \",\" March \",\" August \",\" October \",\" December \",\" January \",\" July \",\" November \",\" April \",\" May \",\" November \",\" January \",\" November \",\" October \",\" October \",\" February \",\" June \",\" March \",\" June \",\" July \",\" August \",\" December \",\" April \",\" May \",\" November \",\" December \",\" September \",\" May \",\" December \",\" January \",\" December \",\" March \",\" April \",\" September \",\" October \",\" May \",\" January \",\" February \",\" June \",\" July \",\" October \",\" February \",\" January \",\" April \",\" May \",\" September \",\" December \",\" October \",\" February \",\" February \",\" April \",\" April \",\" June \",\" July \",\" August \",\" October \",\" December \",\" March \",\" March \",\" May \",\" November \",\" November \",\" December \",\" February \",\" April \",\" September \",\" July \",\" August \",\" February \",\" August \",\" December \",\" January \",\" September \",\" June \",\" May \",\" September \",\" November \",\" December \",\" June \",\" June \",\" June \",\" June \",\" June \",\" November \",\" December \",\" December \",\" September \",\" October \",\" November \",\" June \",\" July \",\" January \",\" February \",\" March \",\" April \",\" May \",\" August \",\" September \",\" December \",\" December \",\" July \",\" October \",\" January \",\" January \",\" May \",\" December \",\" February \",\" July \",\" October \",\" January \",\" June \",\" October \",\" October \",\" March \",\" May \",\" August \",\" October \",\" October \",\" March \",\" October \",\" January \",\" January \",\" June \",\" June \",\" June \",\" December \",\" February \",\" March \",\" July \",\" September \",\" September \",\" October \",\" December \",\" April \",\" October \",\" December \",\" April \",\" April \",\" June \",\" September \",\" May \",\" October \",\" December \",\" February \",\" February \",\" May \",\" June \",\" November \",\" December \",\" December \",\" January \",\" June \",\" September \",\" November \",\" February \",\" August \",\" March \",\" June \",\" October \",\" August \",\" November \",\" December \",\" June \",\" May \",\" July \",\" September \",\" December \",\" April \",\" February \",\" March \",\" July \",\" October \",\" June \",\" October \",\" November \",\" January \",\" June \",\" March \",\" March \",\" April \",\" May \",\" December \",\" July \",\" October \",\" October \",\" November \",\" December \",\" August \",\" August \",\" October \",\" February \",\" April \",\" June \",\" June \",\" September \",\" December \",\" March \",\" March \",\" April \",\" June \",\" June \",\" September \",\" October \",\" November \",\" June \",\" October \",\" December \",\" February \",\" April \",\" June \",\" August \",\" August \",\" January \",\" May \",\" October \",\" October \",\" December \",\" December \",\" December \",\" June \",\" June \",\" October \",\" April \",\" December \",\" January \",\" February \",\" February \",\" April \",\" June \",\" August \",\" August \",\" September \",\" July \",\" January \",\" February \",\" April \",\" May \",\" September \",\" October \",\" November \",\" October \",\" December \",\" May \",\" July \",\" August \",\" September \",\" November \",\" March \",\" January \",\" January \",\" May \",\" July \",\" October \",\" November \",\" December \",\" March \",\" December \",\" June \",\" June \",\" October \",\" December \",\" March \",\" August \",\" October \",\" October \",\" July \",\" July \",\" October \",\" November \",\" December \",\" May \",\" January \",\" February \",\" March \",\" June \",\" June \",\" August \",\" November \",\" April \",\" May \",\" August \",\" October \",\" October \",\" December \",\" December \",\" October \",\" April \",\" March \",\" October \",\" December \",\" January \",\" January \",\" February \",\" June \",\" August \",\" August \",\" October \",\" December \",\" February \",\" February \",\" May \",\" June \",\" June \",\" August \",\" November \",\" May \",\" June \",\" November \",\" December \",\" July \",\" August \",\" September \",\" October \",\" December \",\" March \",\" June \",\" June \",\" December \",\" May \",\" July \",\" July \",\" September \",\" September \",\" October \",\" March \",\" April \",\" January \",\" April \",\" May \",\" July \",\" September \",\" October \",\" November \",\" December \",\" January \",\" October \",\" November \",\" July \",\" October \",\" October \",\" January \",\" June \",\" June \",\" June \",\" October \",\" December \",\" February \",\" April \",\" July \",\" March \",\" May \",\" September \",\" December \"],\"shape\":[524],\"dtype\":\"object\",\"order\":\"little\"}],[\"y\",{\"type\":\"ndarray\",\"array\":{\"type\":\"bytes\",\"data\":\"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\"},\"shape\":[524],\"dtype\":\"float64\",\"order\":\"little\"}]]}}},\"view\":{\"type\":\"object\",\"name\":\"CDSView\",\"id\":\"p1297\",\"attributes\":{\"filter\":{\"type\":\"object\",\"name\":\"AllIndices\",\"id\":\"p1298\"}}},\"glyph\":{\"type\":\"object\",\"name\":\"Circle\",\"id\":\"p1293\",\"attributes\":{\"x\":{\"type\":\"field\",\"field\":\"x\"},\"y\":{\"type\":\"field\",\"field\":\"y\"},\"line_color\":{\"type\":\"value\",\"value\":\"#1f77b4\"},\"fill_color\":{\"type\":\"value\",\"value\":\"red\"}}},\"nonselection_glyph\":{\"type\":\"object\",\"name\":\"Circle\",\"id\":\"p1294\",\"attributes\":{\"x\":{\"type\":\"field\",\"field\":\"x\"},\"y\":{\"type\":\"field\",\"field\":\"y\"},\"line_color\":{\"type\":\"value\",\"value\":\"#1f77b4\"},\"line_alpha\":{\"type\":\"value\",\"value\":0.1},\"fill_color\":{\"type\":\"value\",\"value\":\"red\"},\"fill_alpha\":{\"type\":\"value\",\"value\":0.1},\"hatch_alpha\":{\"type\":\"value\",\"value\":0.1}}},\"muted_glyph\":{\"type\":\"object\",\"name\":\"Circle\",\"id\":\"p1295\",\"attributes\":{\"x\":{\"type\":\"field\",\"field\":\"x\"},\"y\":{\"type\":\"field\",\"field\":\"y\"},\"line_color\":{\"type\":\"value\",\"value\":\"#1f77b4\"},\"line_alpha\":{\"type\":\"value\",\"value\":0.2},\"fill_color\":{\"type\":\"value\",\"value\":\"red\"},\"fill_alpha\":{\"type\":\"value\",\"value\":0.2},\"hatch_alpha\":{\"type\":\"value\",\"value\":0.2}}}}}],\"toolbar\":{\"type\":\"object\",\"name\":\"Toolbar\",\"id\":\"p1249\",\"attributes\":{\"tools\":[{\"type\":\"object\",\"name\":\"PanTool\",\"id\":\"p1275\"},{\"type\":\"object\",\"name\":\"WheelZoomTool\",\"id\":\"p1276\"},{\"type\":\"object\",\"name\":\"BoxSelectTool\",\"id\":\"p1277\",\"attributes\":{\"renderers\":\"auto\",\"dimensions\":\"width\",\"overlay\":{\"type\":\"object\",\"name\":\"BoxAnnotation\",\"id\":\"p1278\",\"attributes\":{\"syncable\":false,\"level\":\"overlay\",\"visible\":false,\"editable\":true,\"line_color\":\"black\",\"line_alpha\":1.0,\"line_width\":2,\"line_dash\":[4,4],\"fill_color\":\"lightgrey\",\"fill_alpha\":0.5}}}},{\"type\":\"object\",\"name\":\"LassoSelectTool\",\"id\":\"p1279\",\"attributes\":{\"renderers\":\"auto\",\"overlay\":{\"type\":\"object\",\"name\":\"PolyAnnotation\",\"id\":\"p1280\",\"attributes\":{\"syncable\":false,\"level\":\"overlay\",\"visible\":false,\"xs\":[],\"ys\":[],\"editable\":true,\"line_color\":\"black\",\"line_alpha\":1.0,\"line_width\":2,\"line_dash\":[4,4],\"fill_color\":\"lightgrey\",\"fill_alpha\":0.5}}}},{\"type\":\"object\",\"name\":\"ResetTool\",\"id\":\"p1281\"}],\"active_drag\":null}},\"left\":[{\"type\":\"object\",\"name\":\"LinearAxis\",\"id\":\"p1268\",\"attributes\":{\"ticker\":{\"type\":\"object\",\"name\":\"BasicTicker\",\"id\":\"p1269\",\"attributes\":{\"mantissas\":[1,2,5]}},\"formatter\":{\"type\":\"object\",\"name\":\"BasicTickFormatter\",\"id\":\"p1271\"},\"major_label_policy\":{\"type\":\"object\",\"name\":\"AllLabels\",\"id\":\"p1270\"}}}],\"below\":[{\"type\":\"object\",\"name\":\"CategoricalAxis\",\"id\":\"p1262\",\"attributes\":{\"ticker\":{\"type\":\"object\",\"name\":\"CategoricalTicker\",\"id\":\"p1263\"},\"formatter\":{\"type\":\"object\",\"name\":\"CategoricalTickFormatter\",\"id\":\"p1265\"},\"major_label_policy\":{\"type\":\"object\",\"name\":\"AllLabels\",\"id\":\"p1264\"}}}],\"center\":[{\"type\":\"object\",\"name\":\"Grid\",\"id\":\"p1267\",\"attributes\":{\"axis\":{\"id\":\"p1262\"}}},{\"type\":\"object\",\"name\":\"Grid\",\"id\":\"p1274\",\"attributes\":{\"dimension\":1,\"axis\":{\"id\":\"p1268\"}}}]}},{\"type\":\"object\",\"name\":\"DataTable\",\"id\":\"p1239\",\"attributes\":{\"source\":{\"id\":\"p1002\"},\"view\":{\"type\":\"object\",\"name\":\"CDSView\",\"id\":\"p1243\",\"attributes\":{\"filter\":{\"type\":\"object\",\"name\":\"AllIndices\",\"id\":\"p1244\"}}},\"columns\":[{\"type\":\"object\",\"name\":\"TableColumn\",\"id\":\"p1005\",\"attributes\":{\"field\":\"a\",\"title\":\"Country\",\"formatter\":{\"type\":\"object\",\"name\":\"StringFormatter\",\"id\":\"p1007\"},\"editor\":{\"type\":\"object\",\"name\":\"StringEditor\",\"id\":\"p1006\"}}},{\"type\":\"object\",\"name\":\"TableColumn\",\"id\":\"p1008\",\"attributes\":{\"field\":\"b\",\"title\":\"Type\",\"formatter\":{\"type\":\"object\",\"name\":\"StringFormatter\",\"id\":\"p1010\"},\"editor\":{\"type\":\"object\",\"name\":\"StringEditor\",\"id\":\"p1009\"}}},{\"type\":\"object\",\"name\":\"TableColumn\",\"id\":\"p1011\",\"attributes\":{\"field\":\"x\",\"title\":\"Month\",\"formatter\":{\"type\":\"object\",\"name\":\"StringFormatter\",\"id\":\"p1013\"},\"editor\":{\"type\":\"object\",\"name\":\"StringEditor\",\"id\":\"p1012\"}}},{\"type\":\"object\",\"name\":\"TableColumn\",\"id\":\"p1014\",\"attributes\":{\"field\":\"y\",\"title\":\"Number of Sale\",\"formatter\":{\"type\":\"object\",\"name\":\"StringFormatter\",\"id\":\"p1016\"},\"editor\":{\"type\":\"object\",\"name\":\"StringEditor\",\"id\":\"p1015\"}}}],\"index_header\":\"Row Index\"}}]}}],\"callbacks\":{\"type\":\"map\"}}};\n",
       "  const render_items = [{\"docid\":\"5930008a-0810-4214-9a53-0159a9be7991\",\"roots\":{\"p1299\":\"286d37de-960f-4b8d-a6c8-2ccfada9f520\"},\"root_ids\":[\"p1299\"]}];\n",
       "  root.Bokeh.embed.embed_items_notebook(docs_json, render_items);\n",
       "  }\n",
       "  if (root.Bokeh !== undefined) {\n",
       "    embed_document(root);\n",
       "  } else {\n",
       "    let attempts = 0;\n",
       "    const timer = setInterval(function(root) {\n",
       "      if (root.Bokeh !== undefined) {\n",
       "        clearInterval(timer);\n",
       "        embed_document(root);\n",
       "      } else {\n",
       "        attempts++;\n",
       "        if (attempts > 100) {\n",
       "          clearInterval(timer);\n",
       "          console.log(\"Bokeh: ERROR: Unable to run BokehJS code because BokehJS library is missing\");\n",
       "        }\n",
       "      }\n",
       "    }, 10, root)\n",
       "  }\n",
       "})(window);"
      ],
      "application/vnd.bokehjs_exec.v0+json": ""
     },
     "metadata": {
      "application/vnd.bokehjs_exec.v0+json": {
       "id": "p1299"
      }
     },
     "output_type": "display_data"
    }
   ],
   "source": [
    "data_table = DataTable(source = source, columns = columns, width = 600, index_position = 0, index_header = 'Row Index', index_width = 40)\n",
    "p = figure(width = 600, height = 200, x_range = data[' February '].unique(), tools = 'pan, wheel_zoom, xbox_select, lasso_select, reset', active_drag = None)\n",
    "p.circle(x = 'x', y = 'y', source = source, fill_color = 'red')\n",
    "show(column(p, data_table))"
   ]
  }
 ],
 "metadata": {
  "kernelspec": {
   "display_name": "Python 3 (ipykernel)",
   "language": "python",
   "name": "python3"
  },
  "language_info": {
   "codemirror_mode": {
    "name": "ipython",
    "version": 3
   },
   "file_extension": ".py",
   "mimetype": "text/x-python",
   "name": "python",
   "nbconvert_exporter": "python",
   "pygments_lexer": "ipython3",
   "version": "3.10.6"
  }
 },
 "nbformat": 4,
 "nbformat_minor": 5
}
