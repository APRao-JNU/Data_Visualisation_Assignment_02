{
 "cells": [
  {
   "cell_type": "markdown",
   "id": "44353af2",
   "metadata": {},
   "source": [
    "# Qus.6)   Using the dataset in the below link, create scatter plots and re-format the scatter plots using Excel.: Reformat means changing in color, font, styling, etc\n",
    "\n",
    "### https://docs.google.com/spreadsheets/d/1qB3hdMs70S0a-LkccDCxaotGZOw1DyEX/edit?usp=share_link&ouid=102277753013758334835&rtpof=true&sd=true "
   ]
  },
  {
   "cell_type": "code",
   "execution_count": 1,
   "id": "e126da1d",
   "metadata": {},
   "outputs": [],
   "source": [
    "from bokeh.layouts import column\n",
    "from bokeh.models import ColumnDataSource, DataTable, TableColumn\n",
    "from bokeh.plotting import figure, show, output_notebook\n",
    "import pandas"
   ]
  },
  {
   "cell_type": "code",
   "execution_count": 2,
   "id": "32314db5",
   "metadata": {},
   "outputs": [
    {
     "data": {
      "text/html": [
       "<style>\n",
       "        .bk-notebook-logo {\n",
       "            display: block;\n",
       "            width: 20px;\n",
       "            height: 20px;\n",
       "            background-image: url(data:image/png;base64,iVBORw0KGgoAAAANSUhEUgAAABQAAAAUCAYAAACNiR0NAAAABHNCSVQICAgIfAhkiAAAAAlwSFlzAAALEgAACxIB0t1+/AAAABx0RVh0U29mdHdhcmUAQWRvYmUgRmlyZXdvcmtzIENTNui8sowAAAOkSURBVDiNjZRtaJVlGMd/1/08zzln5zjP1LWcU9N0NkN8m2CYjpgQYQXqSs0I84OLIC0hkEKoPtiH3gmKoiJDU7QpLgoLjLIQCpEsNJ1vqUOdO7ppbuec5+V+rj4ctwzd8IIbbi6u+8f1539dt3A78eXC7QizUF7gyV1fD1Yqg4JWz84yffhm0qkFqBogB9rM8tZdtwVsPUhWhGcFJngGeWrPzHm5oaMmkfEg1usvLFyc8jLRqDOMru7AyC8saQr7GG7f5fvDeH7Ej8CM66nIF+8yngt6HWaKh7k49Soy9nXurCi1o3qUbS3zWfrYeQDTB/Qj6kX6Ybhw4B+bOYoLKCC9H3Nu/leUTZ1JdRWkkn2ldcCamzrcf47KKXdAJllSlxAOkRgyHsGC/zRday5Qld9DyoM4/q/rUoy/CXh3jzOu3bHUVZeU+DEn8FInkPBFlu3+nW3Nw0mk6vCDiWg8CeJaxEwuHS3+z5RgY+YBR6V1Z1nxSOfoaPa4LASWxxdNp+VWTk7+4vzaou8v8PN+xo+KY2xsw6une2frhw05CTYOmQvsEhjhWjn0bmXPjpE1+kplmmkP3suftwTubK9Vq22qKmrBhpY4jvd5afdRA3wGjFAgcnTK2s4hY0/GPNIb0nErGMCRxWOOX64Z8RAC4oCXdklmEvcL8o0BfkNK4lUg9HTl+oPlQxdNo3Mg4Nv175e/1LDGzZen30MEjRUtmXSfiTVu1kK8W4txyV6BMKlbgk3lMwYCiusNy9fVfvvwMxv8Ynl6vxoByANLTWplvuj/nF9m2+PDtt1eiHPBr1oIfhCChQMBw6Aw0UulqTKZdfVvfG7VcfIqLG9bcldL/+pdWTLxLUy8Qq38heUIjh4XlzZxzQm19lLFlr8vdQ97rjZVOLf8nclzckbcD4wxXMidpX30sFd37Fv/GtwwhzhxGVAprjbg0gCAEeIgwCZyTV2Z1REEW8O4py0wsjeloKoMr6iCY6dP92H6Vw/oTyICIthibxjm/DfN9lVz8IqtqKYLUXfoKVMVQVVJOElGjrnnUt9T9wbgp8AyYKaGlqingHZU/uG2NTZSVqwHQTWkx9hxjkpWDaCg6Ckj5qebgBVbT3V3NNXMSiWSDdGV3hrtzla7J+duwPOToIg42ChPQOQjspnSlp1V+Gjdged7+8UN5CRAV7a5EdFNwCjEaBR27b3W890TE7g24NAP/mMDXRWrGoFPQI9ls/MWO2dWFAar/xcOIImbbpA3zgAAAABJRU5ErkJggg==);\n",
       "        }\n",
       "    </style>\n",
       "    <div>\n",
       "        <a href=\"https://bokeh.org\" target=\"_blank\" class=\"bk-notebook-logo\"></a>\n",
       "        <span id=\"p1001\">Loading BokehJS ...</span>\n",
       "    </div>\n"
      ]
     },
     "metadata": {},
     "output_type": "display_data"
    },
    {
     "data": {
      "application/javascript": [
       "(function(root) {\n",
       "  function now() {\n",
       "    return new Date();\n",
       "  }\n",
       "\n",
       "  const force = true;\n",
       "\n",
       "  if (typeof root._bokeh_onload_callbacks === \"undefined\" || force === true) {\n",
       "    root._bokeh_onload_callbacks = [];\n",
       "    root._bokeh_is_loading = undefined;\n",
       "  }\n",
       "\n",
       "const JS_MIME_TYPE = 'application/javascript';\n",
       "  const HTML_MIME_TYPE = 'text/html';\n",
       "  const EXEC_MIME_TYPE = 'application/vnd.bokehjs_exec.v0+json';\n",
       "  const CLASS_NAME = 'output_bokeh rendered_html';\n",
       "\n",
       "  /**\n",
       "   * Render data to the DOM node\n",
       "   */\n",
       "  function render(props, node) {\n",
       "    const script = document.createElement(\"script\");\n",
       "    node.appendChild(script);\n",
       "  }\n",
       "\n",
       "  /**\n",
       "   * Handle when an output is cleared or removed\n",
       "   */\n",
       "  function handleClearOutput(event, handle) {\n",
       "    const cell = handle.cell;\n",
       "\n",
       "    const id = cell.output_area._bokeh_element_id;\n",
       "    const server_id = cell.output_area._bokeh_server_id;\n",
       "    // Clean up Bokeh references\n",
       "    if (id != null && id in Bokeh.index) {\n",
       "      Bokeh.index[id].model.document.clear();\n",
       "      delete Bokeh.index[id];\n",
       "    }\n",
       "\n",
       "    if (server_id !== undefined) {\n",
       "      // Clean up Bokeh references\n",
       "      const cmd_clean = \"from bokeh.io.state import curstate; print(curstate().uuid_to_server['\" + server_id + \"'].get_sessions()[0].document.roots[0]._id)\";\n",
       "      cell.notebook.kernel.execute(cmd_clean, {\n",
       "        iopub: {\n",
       "          output: function(msg) {\n",
       "            const id = msg.content.text.trim();\n",
       "            if (id in Bokeh.index) {\n",
       "              Bokeh.index[id].model.document.clear();\n",
       "              delete Bokeh.index[id];\n",
       "            }\n",
       "          }\n",
       "        }\n",
       "      });\n",
       "      // Destroy server and session\n",
       "      const cmd_destroy = \"import bokeh.io.notebook as ion; ion.destroy_server('\" + server_id + \"')\";\n",
       "      cell.notebook.kernel.execute(cmd_destroy);\n",
       "    }\n",
       "  }\n",
       "\n",
       "  /**\n",
       "   * Handle when a new output is added\n",
       "   */\n",
       "  function handleAddOutput(event, handle) {\n",
       "    const output_area = handle.output_area;\n",
       "    const output = handle.output;\n",
       "\n",
       "    // limit handleAddOutput to display_data with EXEC_MIME_TYPE content only\n",
       "    if ((output.output_type != \"display_data\") || (!Object.prototype.hasOwnProperty.call(output.data, EXEC_MIME_TYPE))) {\n",
       "      return\n",
       "    }\n",
       "\n",
       "    const toinsert = output_area.element.find(\".\" + CLASS_NAME.split(' ')[0]);\n",
       "\n",
       "    if (output.metadata[EXEC_MIME_TYPE][\"id\"] !== undefined) {\n",
       "      toinsert[toinsert.length - 1].firstChild.textContent = output.data[JS_MIME_TYPE];\n",
       "      // store reference to embed id on output_area\n",
       "      output_area._bokeh_element_id = output.metadata[EXEC_MIME_TYPE][\"id\"];\n",
       "    }\n",
       "    if (output.metadata[EXEC_MIME_TYPE][\"server_id\"] !== undefined) {\n",
       "      const bk_div = document.createElement(\"div\");\n",
       "      bk_div.innerHTML = output.data[HTML_MIME_TYPE];\n",
       "      const script_attrs = bk_div.children[0].attributes;\n",
       "      for (let i = 0; i < script_attrs.length; i++) {\n",
       "        toinsert[toinsert.length - 1].firstChild.setAttribute(script_attrs[i].name, script_attrs[i].value);\n",
       "        toinsert[toinsert.length - 1].firstChild.textContent = bk_div.children[0].textContent\n",
       "      }\n",
       "      // store reference to server id on output_area\n",
       "      output_area._bokeh_server_id = output.metadata[EXEC_MIME_TYPE][\"server_id\"];\n",
       "    }\n",
       "  }\n",
       "\n",
       "  function register_renderer(events, OutputArea) {\n",
       "\n",
       "    function append_mime(data, metadata, element) {\n",
       "      // create a DOM node to render to\n",
       "      const toinsert = this.create_output_subarea(\n",
       "        metadata,\n",
       "        CLASS_NAME,\n",
       "        EXEC_MIME_TYPE\n",
       "      );\n",
       "      this.keyboard_manager.register_events(toinsert);\n",
       "      // Render to node\n",
       "      const props = {data: data, metadata: metadata[EXEC_MIME_TYPE]};\n",
       "      render(props, toinsert[toinsert.length - 1]);\n",
       "      element.append(toinsert);\n",
       "      return toinsert\n",
       "    }\n",
       "\n",
       "    /* Handle when an output is cleared or removed */\n",
       "    events.on('clear_output.CodeCell', handleClearOutput);\n",
       "    events.on('delete.Cell', handleClearOutput);\n",
       "\n",
       "    /* Handle when a new output is added */\n",
       "    events.on('output_added.OutputArea', handleAddOutput);\n",
       "\n",
       "    /**\n",
       "     * Register the mime type and append_mime function with output_area\n",
       "     */\n",
       "    OutputArea.prototype.register_mime_type(EXEC_MIME_TYPE, append_mime, {\n",
       "      /* Is output safe? */\n",
       "      safe: true,\n",
       "      /* Index of renderer in `output_area.display_order` */\n",
       "      index: 0\n",
       "    });\n",
       "  }\n",
       "\n",
       "  // register the mime type if in Jupyter Notebook environment and previously unregistered\n",
       "  if (root.Jupyter !== undefined) {\n",
       "    const events = require('base/js/events');\n",
       "    const OutputArea = require('notebook/js/outputarea').OutputArea;\n",
       "\n",
       "    if (OutputArea.prototype.mime_types().indexOf(EXEC_MIME_TYPE) == -1) {\n",
       "      register_renderer(events, OutputArea);\n",
       "    }\n",
       "  }\n",
       "  if (typeof (root._bokeh_timeout) === \"undefined\" || force === true) {\n",
       "    root._bokeh_timeout = Date.now() + 5000;\n",
       "    root._bokeh_failed_load = false;\n",
       "  }\n",
       "\n",
       "  const NB_LOAD_WARNING = {'data': {'text/html':\n",
       "     \"<div style='background-color: #fdd'>\\n\"+\n",
       "     \"<p>\\n\"+\n",
       "     \"BokehJS does not appear to have successfully loaded. If loading BokehJS from CDN, this \\n\"+\n",
       "     \"may be due to a slow or bad network connection. Possible fixes:\\n\"+\n",
       "     \"</p>\\n\"+\n",
       "     \"<ul>\\n\"+\n",
       "     \"<li>re-rerun `output_notebook()` to attempt to load from CDN again, or</li>\\n\"+\n",
       "     \"<li>use INLINE resources instead, as so:</li>\\n\"+\n",
       "     \"</ul>\\n\"+\n",
       "     \"<code>\\n\"+\n",
       "     \"from bokeh.resources import INLINE\\n\"+\n",
       "     \"output_notebook(resources=INLINE)\\n\"+\n",
       "     \"</code>\\n\"+\n",
       "     \"</div>\"}};\n",
       "\n",
       "  function display_loaded() {\n",
       "    const el = document.getElementById(\"p1001\");\n",
       "    if (el != null) {\n",
       "      el.textContent = \"BokehJS is loading...\";\n",
       "    }\n",
       "    if (root.Bokeh !== undefined) {\n",
       "      if (el != null) {\n",
       "        el.textContent = \"BokehJS \" + root.Bokeh.version + \" successfully loaded.\";\n",
       "      }\n",
       "    } else if (Date.now() < root._bokeh_timeout) {\n",
       "      setTimeout(display_loaded, 100)\n",
       "    }\n",
       "  }\n",
       "\n",
       "  function run_callbacks() {\n",
       "    try {\n",
       "      root._bokeh_onload_callbacks.forEach(function(callback) {\n",
       "        if (callback != null)\n",
       "          callback();\n",
       "      });\n",
       "    } finally {\n",
       "      delete root._bokeh_onload_callbacks\n",
       "    }\n",
       "    console.debug(\"Bokeh: all callbacks have finished\");\n",
       "  }\n",
       "\n",
       "  function load_libs(css_urls, js_urls, callback) {\n",
       "    if (css_urls == null) css_urls = [];\n",
       "    if (js_urls == null) js_urls = [];\n",
       "\n",
       "    root._bokeh_onload_callbacks.push(callback);\n",
       "    if (root._bokeh_is_loading > 0) {\n",
       "      console.debug(\"Bokeh: BokehJS is being loaded, scheduling callback at\", now());\n",
       "      return null;\n",
       "    }\n",
       "    if (js_urls == null || js_urls.length === 0) {\n",
       "      run_callbacks();\n",
       "      return null;\n",
       "    }\n",
       "    console.debug(\"Bokeh: BokehJS not loaded, scheduling load and callback at\", now());\n",
       "    root._bokeh_is_loading = css_urls.length + js_urls.length;\n",
       "\n",
       "    function on_load() {\n",
       "      root._bokeh_is_loading--;\n",
       "      if (root._bokeh_is_loading === 0) {\n",
       "        console.debug(\"Bokeh: all BokehJS libraries/stylesheets loaded\");\n",
       "        run_callbacks()\n",
       "      }\n",
       "    }\n",
       "\n",
       "    function on_error(url) {\n",
       "      console.error(\"failed to load \" + url);\n",
       "    }\n",
       "\n",
       "    for (let i = 0; i < css_urls.length; i++) {\n",
       "      const url = css_urls[i];\n",
       "      const element = document.createElement(\"link\");\n",
       "      element.onload = on_load;\n",
       "      element.onerror = on_error.bind(null, url);\n",
       "      element.rel = \"stylesheet\";\n",
       "      element.type = \"text/css\";\n",
       "      element.href = url;\n",
       "      console.debug(\"Bokeh: injecting link tag for BokehJS stylesheet: \", url);\n",
       "      document.body.appendChild(element);\n",
       "    }\n",
       "\n",
       "    for (let i = 0; i < js_urls.length; i++) {\n",
       "      const url = js_urls[i];\n",
       "      const element = document.createElement('script');\n",
       "      element.onload = on_load;\n",
       "      element.onerror = on_error.bind(null, url);\n",
       "      element.async = false;\n",
       "      element.src = url;\n",
       "      console.debug(\"Bokeh: injecting script tag for BokehJS library: \", url);\n",
       "      document.head.appendChild(element);\n",
       "    }\n",
       "  };\n",
       "\n",
       "  function inject_raw_css(css) {\n",
       "    const element = document.createElement(\"style\");\n",
       "    element.appendChild(document.createTextNode(css));\n",
       "    document.body.appendChild(element);\n",
       "  }\n",
       "\n",
       "  const js_urls = [\"https://cdn.bokeh.org/bokeh/release/bokeh-3.1.0.min.js\", \"https://cdn.bokeh.org/bokeh/release/bokeh-gl-3.1.0.min.js\", \"https://cdn.bokeh.org/bokeh/release/bokeh-widgets-3.1.0.min.js\", \"https://cdn.bokeh.org/bokeh/release/bokeh-tables-3.1.0.min.js\", \"https://cdn.bokeh.org/bokeh/release/bokeh-mathjax-3.1.0.min.js\"];\n",
       "  const css_urls = [];\n",
       "\n",
       "  const inline_js = [    function(Bokeh) {\n",
       "      Bokeh.set_log_level(\"info\");\n",
       "    },\n",
       "function(Bokeh) {\n",
       "    }\n",
       "  ];\n",
       "\n",
       "  function run_inline_js() {\n",
       "    if (root.Bokeh !== undefined || force === true) {\n",
       "          for (let i = 0; i < inline_js.length; i++) {\n",
       "      inline_js[i].call(root, root.Bokeh);\n",
       "    }\n",
       "if (force === true) {\n",
       "        display_loaded();\n",
       "      }} else if (Date.now() < root._bokeh_timeout) {\n",
       "      setTimeout(run_inline_js, 100);\n",
       "    } else if (!root._bokeh_failed_load) {\n",
       "      console.log(\"Bokeh: BokehJS failed to load within specified timeout.\");\n",
       "      root._bokeh_failed_load = true;\n",
       "    } else if (force !== true) {\n",
       "      const cell = $(document.getElementById(\"p1001\")).parents('.cell').data().cell;\n",
       "      cell.output_area.append_execute_result(NB_LOAD_WARNING)\n",
       "    }\n",
       "  }\n",
       "\n",
       "  if (root._bokeh_is_loading === 0) {\n",
       "    console.debug(\"Bokeh: BokehJS loaded, going straight to plotting\");\n",
       "    run_inline_js();\n",
       "  } else {\n",
       "    load_libs(css_urls, js_urls, function() {\n",
       "      console.debug(\"Bokeh: BokehJS plotting callback run at\", now());\n",
       "      run_inline_js();\n",
       "    });\n",
       "  }\n",
       "}(window));"
      ],
      "application/vnd.bokehjs_load.v0+json": "(function(root) {\n  function now() {\n    return new Date();\n  }\n\n  const force = true;\n\n  if (typeof root._bokeh_onload_callbacks === \"undefined\" || force === true) {\n    root._bokeh_onload_callbacks = [];\n    root._bokeh_is_loading = undefined;\n  }\n\n\n  if (typeof (root._bokeh_timeout) === \"undefined\" || force === true) {\n    root._bokeh_timeout = Date.now() + 5000;\n    root._bokeh_failed_load = false;\n  }\n\n  const NB_LOAD_WARNING = {'data': {'text/html':\n     \"<div style='background-color: #fdd'>\\n\"+\n     \"<p>\\n\"+\n     \"BokehJS does not appear to have successfully loaded. If loading BokehJS from CDN, this \\n\"+\n     \"may be due to a slow or bad network connection. Possible fixes:\\n\"+\n     \"</p>\\n\"+\n     \"<ul>\\n\"+\n     \"<li>re-rerun `output_notebook()` to attempt to load from CDN again, or</li>\\n\"+\n     \"<li>use INLINE resources instead, as so:</li>\\n\"+\n     \"</ul>\\n\"+\n     \"<code>\\n\"+\n     \"from bokeh.resources import INLINE\\n\"+\n     \"output_notebook(resources=INLINE)\\n\"+\n     \"</code>\\n\"+\n     \"</div>\"}};\n\n  function display_loaded() {\n    const el = document.getElementById(\"p1001\");\n    if (el != null) {\n      el.textContent = \"BokehJS is loading...\";\n    }\n    if (root.Bokeh !== undefined) {\n      if (el != null) {\n        el.textContent = \"BokehJS \" + root.Bokeh.version + \" successfully loaded.\";\n      }\n    } else if (Date.now() < root._bokeh_timeout) {\n      setTimeout(display_loaded, 100)\n    }\n  }\n\n  function run_callbacks() {\n    try {\n      root._bokeh_onload_callbacks.forEach(function(callback) {\n        if (callback != null)\n          callback();\n      });\n    } finally {\n      delete root._bokeh_onload_callbacks\n    }\n    console.debug(\"Bokeh: all callbacks have finished\");\n  }\n\n  function load_libs(css_urls, js_urls, callback) {\n    if (css_urls == null) css_urls = [];\n    if (js_urls == null) js_urls = [];\n\n    root._bokeh_onload_callbacks.push(callback);\n    if (root._bokeh_is_loading > 0) {\n      console.debug(\"Bokeh: BokehJS is being loaded, scheduling callback at\", now());\n      return null;\n    }\n    if (js_urls == null || js_urls.length === 0) {\n      run_callbacks();\n      return null;\n    }\n    console.debug(\"Bokeh: BokehJS not loaded, scheduling load and callback at\", now());\n    root._bokeh_is_loading = css_urls.length + js_urls.length;\n\n    function on_load() {\n      root._bokeh_is_loading--;\n      if (root._bokeh_is_loading === 0) {\n        console.debug(\"Bokeh: all BokehJS libraries/stylesheets loaded\");\n        run_callbacks()\n      }\n    }\n\n    function on_error(url) {\n      console.error(\"failed to load \" + url);\n    }\n\n    for (let i = 0; i < css_urls.length; i++) {\n      const url = css_urls[i];\n      const element = document.createElement(\"link\");\n      element.onload = on_load;\n      element.onerror = on_error.bind(null, url);\n      element.rel = \"stylesheet\";\n      element.type = \"text/css\";\n      element.href = url;\n      console.debug(\"Bokeh: injecting link tag for BokehJS stylesheet: \", url);\n      document.body.appendChild(element);\n    }\n\n    for (let i = 0; i < js_urls.length; i++) {\n      const url = js_urls[i];\n      const element = document.createElement('script');\n      element.onload = on_load;\n      element.onerror = on_error.bind(null, url);\n      element.async = false;\n      element.src = url;\n      console.debug(\"Bokeh: injecting script tag for BokehJS library: \", url);\n      document.head.appendChild(element);\n    }\n  };\n\n  function inject_raw_css(css) {\n    const element = document.createElement(\"style\");\n    element.appendChild(document.createTextNode(css));\n    document.body.appendChild(element);\n  }\n\n  const js_urls = [\"https://cdn.bokeh.org/bokeh/release/bokeh-3.1.0.min.js\", \"https://cdn.bokeh.org/bokeh/release/bokeh-gl-3.1.0.min.js\", \"https://cdn.bokeh.org/bokeh/release/bokeh-widgets-3.1.0.min.js\", \"https://cdn.bokeh.org/bokeh/release/bokeh-tables-3.1.0.min.js\", \"https://cdn.bokeh.org/bokeh/release/bokeh-mathjax-3.1.0.min.js\"];\n  const css_urls = [];\n\n  const inline_js = [    function(Bokeh) {\n      Bokeh.set_log_level(\"info\");\n    },\nfunction(Bokeh) {\n    }\n  ];\n\n  function run_inline_js() {\n    if (root.Bokeh !== undefined || force === true) {\n          for (let i = 0; i < inline_js.length; i++) {\n      inline_js[i].call(root, root.Bokeh);\n    }\nif (force === true) {\n        display_loaded();\n      }} else if (Date.now() < root._bokeh_timeout) {\n      setTimeout(run_inline_js, 100);\n    } else if (!root._bokeh_failed_load) {\n      console.log(\"Bokeh: BokehJS failed to load within specified timeout.\");\n      root._bokeh_failed_load = true;\n    } else if (force !== true) {\n      const cell = $(document.getElementById(\"p1001\")).parents('.cell').data().cell;\n      cell.output_area.append_execute_result(NB_LOAD_WARNING)\n    }\n  }\n\n  if (root._bokeh_is_loading === 0) {\n    console.debug(\"Bokeh: BokehJS loaded, going straight to plotting\");\n    run_inline_js();\n  } else {\n    load_libs(css_urls, js_urls, function() {\n      console.debug(\"Bokeh: BokehJS plotting callback run at\", now());\n      run_inline_js();\n    });\n  }\n}(window));"
     },
     "metadata": {},
     "output_type": "display_data"
    }
   ],
   "source": [
    "output_notebook()"
   ]
  },
  {
   "cell_type": "code",
   "execution_count": 3,
   "id": "fb4ee8f5",
   "metadata": {},
   "outputs": [],
   "source": [
    "data = pandas.read_csv('Qus4&5&6_Cookie Sales dataset.csv')"
   ]
  },
  {
   "cell_type": "code",
   "execution_count": 4,
   "id": "81b85a46",
   "metadata": {},
   "outputs": [],
   "source": [
    "source = ColumnDataSource(data = {\n",
    "    'a': data['Canada'],\n",
    "    'b': data[' Chocolate Chip '],\n",
    "    'x': data[' February '],\n",
    "    'y': data['292']\n",
    "})"
   ]
  },
  {
   "cell_type": "code",
   "execution_count": 5,
   "id": "34a206b5",
   "metadata": {},
   "outputs": [],
   "source": [
    "p1 = figure(width = 800, height = 300, x_range = data[' February '].unique(), tools = 'pan, wheel_zoom, xbox_select, lasso_select, reset', active_drag = None)"
   ]
  },
  {
   "cell_type": "code",
   "execution_count": 6,
   "id": "ae82540f",
   "metadata": {},
   "outputs": [
    {
     "data": {
      "text/html": [
       "<div style=\"display: table;\"><div style=\"display: table-row;\"><div style=\"display: table-cell;\"><b title=\"bokeh.models.renderers.glyph_renderer.GlyphRenderer\">GlyphRenderer</b>(</div><div style=\"display: table-cell;\">id&nbsp;=&nbsp;'p1056', <span id=\"p1060\" style=\"cursor: pointer;\">&hellip;)</span></div></div><div class=\"p1059\" style=\"display: none;\"><div style=\"display: table-cell;\"></div><div style=\"display: table-cell;\">coordinates&nbsp;=&nbsp;None,</div></div><div class=\"p1059\" style=\"display: none;\"><div style=\"display: table-cell;\"></div><div style=\"display: table-cell;\">data_source&nbsp;=&nbsp;ColumnDataSource(id='p1002', ...),</div></div><div class=\"p1059\" style=\"display: none;\"><div style=\"display: table-cell;\"></div><div style=\"display: table-cell;\">glyph&nbsp;=&nbsp;Circle(id='p1053', ...),</div></div><div class=\"p1059\" style=\"display: none;\"><div style=\"display: table-cell;\"></div><div style=\"display: table-cell;\">group&nbsp;=&nbsp;None,</div></div><div class=\"p1059\" style=\"display: none;\"><div style=\"display: table-cell;\"></div><div style=\"display: table-cell;\">hover_glyph&nbsp;=&nbsp;None,</div></div><div class=\"p1059\" style=\"display: none;\"><div style=\"display: table-cell;\"></div><div style=\"display: table-cell;\">js_event_callbacks&nbsp;=&nbsp;{},</div></div><div class=\"p1059\" style=\"display: none;\"><div style=\"display: table-cell;\"></div><div style=\"display: table-cell;\">js_property_callbacks&nbsp;=&nbsp;{},</div></div><div class=\"p1059\" style=\"display: none;\"><div style=\"display: table-cell;\"></div><div style=\"display: table-cell;\">level&nbsp;=&nbsp;'glyph',</div></div><div class=\"p1059\" style=\"display: none;\"><div style=\"display: table-cell;\"></div><div style=\"display: table-cell;\">muted&nbsp;=&nbsp;False,</div></div><div class=\"p1059\" style=\"display: none;\"><div style=\"display: table-cell;\"></div><div style=\"display: table-cell;\">muted_glyph&nbsp;=&nbsp;Circle(id='p1055', ...),</div></div><div class=\"p1059\" style=\"display: none;\"><div style=\"display: table-cell;\"></div><div style=\"display: table-cell;\">name&nbsp;=&nbsp;None,</div></div><div class=\"p1059\" style=\"display: none;\"><div style=\"display: table-cell;\"></div><div style=\"display: table-cell;\">nonselection_glyph&nbsp;=&nbsp;Circle(id='p1054', ...),</div></div><div class=\"p1059\" style=\"display: none;\"><div style=\"display: table-cell;\"></div><div style=\"display: table-cell;\">propagate_hover&nbsp;=&nbsp;False,</div></div><div class=\"p1059\" style=\"display: none;\"><div style=\"display: table-cell;\"></div><div style=\"display: table-cell;\">selection_glyph&nbsp;=&nbsp;'auto',</div></div><div class=\"p1059\" style=\"display: none;\"><div style=\"display: table-cell;\"></div><div style=\"display: table-cell;\">subscribed_events&nbsp;=&nbsp;PropertyValueSet(),</div></div><div class=\"p1059\" style=\"display: none;\"><div style=\"display: table-cell;\"></div><div style=\"display: table-cell;\">syncable&nbsp;=&nbsp;True,</div></div><div class=\"p1059\" style=\"display: none;\"><div style=\"display: table-cell;\"></div><div style=\"display: table-cell;\">tags&nbsp;=&nbsp;[],</div></div><div class=\"p1059\" style=\"display: none;\"><div style=\"display: table-cell;\"></div><div style=\"display: table-cell;\">view&nbsp;=&nbsp;CDSView(id='p1057', ...),</div></div><div class=\"p1059\" style=\"display: none;\"><div style=\"display: table-cell;\"></div><div style=\"display: table-cell;\">visible&nbsp;=&nbsp;True,</div></div><div class=\"p1059\" style=\"display: none;\"><div style=\"display: table-cell;\"></div><div style=\"display: table-cell;\">x_range_name&nbsp;=&nbsp;'default',</div></div><div class=\"p1059\" style=\"display: none;\"><div style=\"display: table-cell;\"></div><div style=\"display: table-cell;\">y_range_name&nbsp;=&nbsp;'default')</div></div></div>\n",
       "<script>\n",
       "(function() {\n",
       "  let expanded = false;\n",
       "  const ellipsis = document.getElementById(\"p1060\");\n",
       "  ellipsis.addEventListener(\"click\", function() {\n",
       "    const rows = document.getElementsByClassName(\"p1059\");\n",
       "    for (let i = 0; i < rows.length; i++) {\n",
       "      const el = rows[i];\n",
       "      el.style.display = expanded ? \"none\" : \"table-row\";\n",
       "    }\n",
       "    ellipsis.innerHTML = expanded ? \"&hellip;)\" : \"&lsaquo;&lsaquo;&lsaquo;\";\n",
       "    expanded = !expanded;\n",
       "  });\n",
       "})();\n",
       "</script>\n"
      ],
      "text/plain": [
       "GlyphRenderer(id='p1056', ...)"
      ]
     },
     "execution_count": 6,
     "metadata": {},
     "output_type": "execute_result"
    }
   ],
   "source": [
    "p1.circle(x = 'x', y = 'y', source = source, fill_color = 'red')"
   ]
  },
  {
   "cell_type": "code",
   "execution_count": 7,
   "id": "79e8f4c3",
   "metadata": {},
   "outputs": [
    {
     "data": {
      "text/html": [
       "<div style=\"display: table;\"><div style=\"display: table-row;\"><div style=\"display: table-cell;\"><b title=\"bokeh.models.renderers.glyph_renderer.GlyphRenderer\">GlyphRenderer</b>(</div><div style=\"display: table-cell;\">id&nbsp;=&nbsp;'p1114', <span id=\"p1118\" style=\"cursor: pointer;\">&hellip;)</span></div></div><div class=\"p1117\" style=\"display: none;\"><div style=\"display: table-cell;\"></div><div style=\"display: table-cell;\">coordinates&nbsp;=&nbsp;None,</div></div><div class=\"p1117\" style=\"display: none;\"><div style=\"display: table-cell;\"></div><div style=\"display: table-cell;\">data_source&nbsp;=&nbsp;ColumnDataSource(id='p1002', ...),</div></div><div class=\"p1117\" style=\"display: none;\"><div style=\"display: table-cell;\"></div><div style=\"display: table-cell;\">glyph&nbsp;=&nbsp;Circle(id='p1111', ...),</div></div><div class=\"p1117\" style=\"display: none;\"><div style=\"display: table-cell;\"></div><div style=\"display: table-cell;\">group&nbsp;=&nbsp;None,</div></div><div class=\"p1117\" style=\"display: none;\"><div style=\"display: table-cell;\"></div><div style=\"display: table-cell;\">hover_glyph&nbsp;=&nbsp;None,</div></div><div class=\"p1117\" style=\"display: none;\"><div style=\"display: table-cell;\"></div><div style=\"display: table-cell;\">js_event_callbacks&nbsp;=&nbsp;{},</div></div><div class=\"p1117\" style=\"display: none;\"><div style=\"display: table-cell;\"></div><div style=\"display: table-cell;\">js_property_callbacks&nbsp;=&nbsp;{},</div></div><div class=\"p1117\" style=\"display: none;\"><div style=\"display: table-cell;\"></div><div style=\"display: table-cell;\">level&nbsp;=&nbsp;'glyph',</div></div><div class=\"p1117\" style=\"display: none;\"><div style=\"display: table-cell;\"></div><div style=\"display: table-cell;\">muted&nbsp;=&nbsp;False,</div></div><div class=\"p1117\" style=\"display: none;\"><div style=\"display: table-cell;\"></div><div style=\"display: table-cell;\">muted_glyph&nbsp;=&nbsp;Circle(id='p1113', ...),</div></div><div class=\"p1117\" style=\"display: none;\"><div style=\"display: table-cell;\"></div><div style=\"display: table-cell;\">name&nbsp;=&nbsp;None,</div></div><div class=\"p1117\" style=\"display: none;\"><div style=\"display: table-cell;\"></div><div style=\"display: table-cell;\">nonselection_glyph&nbsp;=&nbsp;Circle(id='p1112', ...),</div></div><div class=\"p1117\" style=\"display: none;\"><div style=\"display: table-cell;\"></div><div style=\"display: table-cell;\">propagate_hover&nbsp;=&nbsp;False,</div></div><div class=\"p1117\" style=\"display: none;\"><div style=\"display: table-cell;\"></div><div style=\"display: table-cell;\">selection_glyph&nbsp;=&nbsp;'auto',</div></div><div class=\"p1117\" style=\"display: none;\"><div style=\"display: table-cell;\"></div><div style=\"display: table-cell;\">subscribed_events&nbsp;=&nbsp;PropertyValueSet(),</div></div><div class=\"p1117\" style=\"display: none;\"><div style=\"display: table-cell;\"></div><div style=\"display: table-cell;\">syncable&nbsp;=&nbsp;True,</div></div><div class=\"p1117\" style=\"display: none;\"><div style=\"display: table-cell;\"></div><div style=\"display: table-cell;\">tags&nbsp;=&nbsp;[],</div></div><div class=\"p1117\" style=\"display: none;\"><div style=\"display: table-cell;\"></div><div style=\"display: table-cell;\">view&nbsp;=&nbsp;CDSView(id='p1115', ...),</div></div><div class=\"p1117\" style=\"display: none;\"><div style=\"display: table-cell;\"></div><div style=\"display: table-cell;\">visible&nbsp;=&nbsp;True,</div></div><div class=\"p1117\" style=\"display: none;\"><div style=\"display: table-cell;\"></div><div style=\"display: table-cell;\">x_range_name&nbsp;=&nbsp;'default',</div></div><div class=\"p1117\" style=\"display: none;\"><div style=\"display: table-cell;\"></div><div style=\"display: table-cell;\">y_range_name&nbsp;=&nbsp;'default')</div></div></div>\n",
       "<script>\n",
       "(function() {\n",
       "  let expanded = false;\n",
       "  const ellipsis = document.getElementById(\"p1118\");\n",
       "  ellipsis.addEventListener(\"click\", function() {\n",
       "    const rows = document.getElementsByClassName(\"p1117\");\n",
       "    for (let i = 0; i < rows.length; i++) {\n",
       "      const el = rows[i];\n",
       "      el.style.display = expanded ? \"none\" : \"table-row\";\n",
       "    }\n",
       "    ellipsis.innerHTML = expanded ? \"&hellip;)\" : \"&lsaquo;&lsaquo;&lsaquo;\";\n",
       "    expanded = !expanded;\n",
       "  });\n",
       "})();\n",
       "</script>\n"
      ],
      "text/plain": [
       "GlyphRenderer(id='p1114', ...)"
      ]
     },
     "execution_count": 7,
     "metadata": {},
     "output_type": "execute_result"
    }
   ],
   "source": [
    "p2 = figure(width = 800, height = 300, x_range = data[' Chocolate Chip '].unique(), tools = 'pan, wheel_zoom, xbox_select, lasso_select, reset', active_drag = None)\n",
    "p2.circle(x = 'b', y = 'y', source = source, fill_color = 'red')"
   ]
  },
  {
   "cell_type": "code",
   "execution_count": 8,
   "id": "296e2743",
   "metadata": {},
   "outputs": [
    {
     "data": {
      "text/html": [
       "\n",
       "  <div id=\"e2c358d7-227d-450c-902f-5af1445a700d\" data-root-id=\"p1121\" style=\"display: contents;\"></div>\n"
      ]
     },
     "metadata": {},
     "output_type": "display_data"
    },
    {
     "data": {
      "application/javascript": [
       "(function(root) {\n",
       "  function embed_document(root) {\n",
       "  const docs_json = {\"14a9dfe9-823a-4310-955d-769ba864f7d6\":{\"version\":\"3.1.0\",\"title\":\"Bokeh Application\",\"defs\":[],\"roots\":[{\"type\":\"object\",\"name\":\"Column\",\"id\":\"p1121\",\"attributes\":{\"children\":[{\"type\":\"object\",\"name\":\"Figure\",\"id\":\"p1005\",\"attributes\":{\"width\":800,\"height\":300,\"x_range\":{\"type\":\"object\",\"name\":\"FactorRange\",\"id\":\"p1014\",\"attributes\":{\"factors\":[\" February \",\" June \",\" July \",\" August \",\" September \",\" October \",\" December \",\" January \",\" May \",\" April \",\" November \",\" March \"]}},\"y_range\":{\"type\":\"object\",\"name\":\"DataRange1d\",\"id\":\"p1007\"},\"x_scale\":{\"type\":\"object\",\"name\":\"CategoricalScale\",\"id\":\"p1018\"},\"y_scale\":{\"type\":\"object\",\"name\":\"LinearScale\",\"id\":\"p1020\"},\"title\":{\"type\":\"object\",\"name\":\"Title\",\"id\":\"p1013\"},\"renderers\":[{\"type\":\"object\",\"name\":\"GlyphRenderer\",\"id\":\"p1056\",\"attributes\":{\"data_source\":{\"type\":\"object\",\"name\":\"ColumnDataSource\",\"id\":\"p1002\",\"attributes\":{\"selected\":{\"type\":\"object\",\"name\":\"Selection\",\"id\":\"p1003\",\"attributes\":{\"indices\":[],\"line_indices\":[]}},\"selection_policy\":{\"type\":\"object\",\"name\":\"UnionRenderers\",\"id\":\"p1004\"},\"data\":{\"type\":\"map\",\"entries\":[[\"a\",{\"type\":\"ndarray\",\"array\":[\"Mexico\",\"Canada\",\"Germany\",\"Germany\",\"Mexico\",\"Mexico\",\"United States\",\"Canada\",\"Germany\",\"France\",\"France\",\"France\",\"United States\",\"United States\",\"United States\",\"France\",\"Mexico\",\"Germany\",\"United States\",\"France\",\"Canada\",\"France\",\"Germany\",\"United States\",\"Mexico\",\"Canada\",\"Canada\",\"Canada\",\"Canada\",\"France\",\"Mexico\",\"France\",\"Canada\",\"France\",\"Germany\",\"Germany\",\"United States\",\"Canada\",\"France\",\"Germany\",\"Mexico\",\"Canada\",\"Germany\",\"Germany\",\"United States\",\"United States\",\"France\",\"Canada\",\"Canada\",\"United States\",\"United States\",\"Mexico\",\"Germany\",\"Mexico\",\"Canada\",\"France\",\"United States\",\"France\",\"Mexico\",\"United States\",\"United States\",\"United States\",\"France\",\"United States\",\"United States\",\"France\",\"France\",\"United States\",\"Germany\",\"United States\",\"Canada\",\"France\",\"Germany\",\"France\",\"France\",\"Canada\",\"Mexico\",\"Germany\",\"Germany\",\"Germany\",\"Mexico\",\"United States\",\"Germany\",\"Germany\",\"Mexico\",\"Mexico\",\"Mexico\",\"Mexico\",\"United States\",\"Canada\",\"France\",\"France\",\"United States\",\"United States\",\"Mexico\",\"Germany\",\"France\",\"Mexico\",\"Germany\",\"France\",\"Canada\",\"Mexico\",\"Canada\",\"Canada\",\"France\",\"Canada\",\"Mexico\",\"France\",\"Canada\",\"United States\",\"Mexico\",\"Mexico\",\"Mexico\",\"France\",\"Germany\",\"Mexico\",\"Mexico\",\"Mexico\",\"Germany\",\"United States\",\"Germany\",\"United States\",\"Germany\",\"Canada\",\"Canada\",\"Mexico\",\"France\",\"Canada\",\"Canada\",\"Germany\",\"Germany\",\"Germany\",\"Canada\",\"United States\",\"France\",\"Mexico\",\"United States\",\"France\",\"Canada\",\"United States\",\"Germany\",\"Canada\",\"Mexico\",\"Mexico\",\"Canada\",\"Germany\",\"Germany\",\"United States\",\"France\",\"Canada\",\"Germany\",\"Canada\",\"France\",\"Germany\",\"Mexico\",\"Canada\",\"Mexico\",\"Germany\",\"United States\",\"Mexico\",\"United States\",\"France\",\"Canada\",\"United States\",\"United States\",\"Mexico\",\"Germany\",\"France\",\"France\",\"France\",\"Germany\",\"Mexico\",\"Canada\",\"Germany\",\"Germany\",\"Mexico\",\"France\",\"United States\",\"Germany\",\"Mexico\",\"Germany\",\"United States\",\"Mexico\",\"France\",\"France\",\"France\",\"Canada\",\"United States\",\"France\",\"Canada\",\"Germany\",\"France\",\"Germany\",\"Canada\",\"France\",\"Canada\",\"United States\",\"United States\",\"United States\",\"France\",\"Germany\",\"Mexico\",\"United States\",\"France\",\"Mexico\",\"Canada\",\"Mexico\",\"United States\",\"United States\",\"Mexico\",\"Mexico\",\"Canada\",\"France\",\"Canada\",\"Germany\",\"Canada\",\"Canada\",\"Canada\",\"Mexico\",\"Mexico\",\"France\",\"United States\",\"Germany\",\"France\",\"Germany\",\"United States\",\"United States\",\"United States\",\"Germany\",\"Mexico\",\"Germany\",\"United States\",\"France\",\"Canada\",\"Mexico\",\"Mexico\",\"Germany\",\"Mexico\",\"Mexico\",\"Germany\",\"Canada\",\"Germany\",\"France\",\"Mexico\",\"Canada\",\"Canada\",\"France\",\"Canada\",\"United States\",\"United States\",\"Canada\",\"United States\",\"Germany\",\"Mexico\",\"Germany\",\"Germany\",\"Mexico\",\"United States\",\"Canada\",\"Mexico\",\"Mexico\",\"Canada\",\"United States\",\"Canada\",\"United States\",\"Canada\",\"Mexico\",\"Germany\",\"Canada\",\"France\",\"France\",\"United States\",\"Germany\",\"Germany\",\"Mexico\",\"France\",\"Mexico\",\"United States\",\"France\",\"Canada\",\"Canada\",\"France\",\"Mexico\",\"France\",\"Canada\",\"United States\",\"France\",\"United States\",\"France\",\"France\",\"Mexico\",\"Canada\",\"Germany\",\"France\",\"Germany\",\"Mexico\",\"Germany\",\"United States\",\"Mexico\",\"United States\",\"Canada\",\"France\",\"Mexico\",\"France\",\"Canada\",\"Canada\",\"Canada\",\"France\",\"Germany\",\"Germany\",\"United States\",\"Canada\",\"Germany\",\"United States\",\"France\",\"Germany\",\"France\",\"United States\",\"Mexico\",\"United States\",\"France\",\"United States\",\"Canada\",\"Mexico\",\"United States\",\"Mexico\",\"Canada\",\"United States\",\"France\",\"France\",\"Mexico\",\"France\",\"Mexico\",\"Canada\",\"Germany\",\"Canada\",\"Germany\",\"Mexico\",\"United States\",\"Canada\",\"Germany\",\"Germany\",\"France\",\"Mexico\",\"Mexico\",\"Canada\",\"France\",\"United States\",\"Canada\",\"France\",\"Mexico\",\"United States\",\"Germany\",\"Mexico\",\"Canada\",\"United States\",\"Germany\",\"Canada\",\"France\",\"Germany\",\"Germany\",\"Canada\",\"Germany\",\"France\",\"Germany\",\"France\",\"Canada\",\"Canada\",\"Germany\",\"Canada\",\"United States\",\"France\",\"Germany\",\"Mexico\",\"France\",\"Mexico\",\"Germany\",\"Canada\",\"United States\",\"Mexico\",\"Germany\",\"Canada\",\"Mexico\",\"Germany\",\"France\",\"France\",\"Mexico\",\"United States\",\"United States\",\"France\",\"Canada\",\"Mexico\",\"United States\",\"France\",\"Canada\",\"Canada\",\"France\",\"Mexico\",\"France\",\"Germany\",\"France\",\"Germany\",\"Canada\",\"United States\",\"United States\",\"Germany\",\"United States\",\"Germany\",\"United States\",\"France\",\"Mexico\",\"Germany\",\"Mexico\",\"Mexico\",\"Mexico\",\"United States\",\"Mexico\",\"Canada\",\"United States\",\"France\",\"Mexico\",\"Canada\",\"France\",\"United States\",\"United States\",\"Mexico\",\"France\",\"Germany\",\"United States\",\"Canada\",\"Canada\",\"Germany\",\"Mexico\",\"United States\",\"Canada\",\"United States\",\"Canada\",\"Germany\",\"Germany\",\"Germany\",\"France\",\"United States\",\"Mexico\",\"France\",\"Germany\",\"Germany\",\"Germany\",\"United States\",\"France\",\"France\",\"Mexico\",\"Canada\",\"United States\",\"Germany\",\"France\",\"Mexico\",\"Canada\",\"Canada\",\"United States\",\"France\",\"Canada\",\"United States\",\"Mexico\",\"Germany\",\"United States\",\"United States\",\"France\",\"United States\",\"Germany\",\"Canada\",\"United States\",\"Germany\",\"France\",\"Mexico\",\"Germany\",\"Mexico\",\"Canada\",\"Canada\",\"United States\",\"Canada\",\"France\",\"Mexico\",\"Germany\",\"France\",\"United States\",\"Canada\",\"United States\",\"Germany\",\"Mexico\",\"Mexico\",\"Canada\",\"Germany\",\"Canada\",\"Mexico\",\"Canada\",\"France\",\"Mexico\",\"Germany\",\"Germany\",\"United States\",\"France\",\"United States\",\"Germany\",\"Germany\",\"France\",\"Canada\",\"Germany\",\"Canada\",\"Mexico\",\"United States\",\"Mexico\",\"France\",\"Canada\",\"France\",\"Mexico\",\"Mexico\",\"Germany\",\"Mexico\",\"United States\",\"United States\",\"Mexico\",\"France\",\"France\",\"United States\"],\"shape\":[524],\"dtype\":\"object\",\"order\":\"little\"}],[\"b\",{\"type\":\"ndarray\",\"array\":[\"Chocolate Chip\",\"Chocolate Chip\",\"Chocolate Chip\",\"Chocolate Chip\",\" Chocolate Chip \",\" Chocolate Chip \",\" Chocolate Chip \",\" Chocolate Chip \",\" Chocolate Chip \",\" Chocolate Chip \",\" Chocolate Chip \",\" Chocolate Chip \",\" Chocolate Chip \",\" Chocolate Chip \",\" Chocolate Chip \",\" Chocolate Chip \",\" Chocolate Chip \",\" Chocolate Chip \",\" Chocolate Chip \",\" Chocolate Chip \",\" Chocolate Chip \",\" Chocolate Chip \",\" Chocolate Chip \",\" Chocolate Chip \",\" Chocolate Chip \",\" Chocolate Chip \",\" Chocolate Chip \",\" Chocolate Chip \",\" Chocolate Chip \",\" Chocolate Chip \",\" Chocolate Chip \",\" Chocolate Chip \",\" Chocolate Chip \",\" Chocolate Chip \",\" Chocolate Chip \",\" Chocolate Chip \",\" Chocolate Chip \",\" Chocolate Chip \",\" Chocolate Chip \",\" Chocolate Chip \",\" Chocolate Chip \",\" Chocolate Chip \",\" Chocolate Chip \",\" Chocolate Chip \",\" Chocolate Chip \",\" Chocolate Chip \",\" Chocolate Chip \",\" Chocolate Chip \",\" Chocolate Chip \",\" Chocolate Chip \",\" Chocolate Chip \",\" Chocolate Chip \",\" Chocolate Chip \",\" Chocolate Chip \",\" Chocolate Chip \",\" Chocolate Chip \",\" Chocolate Chip \",\" Chocolate Chip \",\" Chocolate Chip \",\" Chocolate Chip \",\" Chocolate Chip \",\" Chocolate Chip \",\" Chocolate Chip \",\" Chocolate Chip \",\" Chocolate Chip \",\" Chocolate Chip \",\" Chocolate Chip \",\" Chocolate Chip \",\" Chocolate Chip \",\" Chocolate Chip \",\" Chocolate Chip \",\" Chocolate Chip \",\" Chocolate Chip \",\" Chocolate Chip \",\" Chocolate Chip \",\" Chocolate Chip \",\" Chocolate Chip \",\" Chocolate Chip \",\" Chocolate Chip \",\" Chocolate Chip \",\" Chocolate Chip \",\" Chocolate Chip \",\" Chocolate Chip \",\" Chocolate Chip \",\" Chocolate Chip \",\" Chocolate Chip \",\" Chocolate Chip \",\" Chocolate Chip \",\" Chocolate Chip \",\" Chocolate Chip \",\" Chocolate Chip \",\" Chocolate Chip \",\" Chocolate Chip \",\" Chocolate Chip \",\" Chocolate Chip \",\" Chocolate Chip \",\" Chocolate Chip \",\" Chocolate Chip \",\" Chocolate Chip \",\" Chocolate Chip \",\" Chocolate Chip \",\" Chocolate Chip \",\" Chocolate Chip \",\" Chocolate Chip \",\" Chocolate Chip \",\" Chocolate Chip \",\" Chocolate Chip \",\" Chocolate Chip \",\" Chocolate Chip \",\" Chocolate Chip \",\" Chocolate Chip \",\" Chocolate Chip \",\" Chocolate Chip \",\" Chocolate Chip \",\" Chocolate Chip \",\" Chocolate Chip \",\" Chocolate Chip \",\" Chocolate Chip \",\" Chocolate Chip \",\" Chocolate Chip \",\" Chocolate Chip \",\" Chocolate Chip \",\" Chocolate Chip \",\" Chocolate Chip \",\" Chocolate Chip \",\" Chocolate Chip \",\" Chocolate Chip \",\" Chocolate Chip \",\" Chocolate Chip \",\" Chocolate Chip \",\" Chocolate Chip \",\" Chocolate Chip \",\" Chocolate Chip \",\" Chocolate Chip \",\" Chocolate Chip \",\" Chocolate Chip \",\" Chocolate Chip \",\" Chocolate Chip \",\" Chocolate Chip \",\" Chocolate Chip \",\" Chocolate Chip \",\" Chocolate Chip \",\" Chocolate Chip \",\" Chocolate Chip \",\" Chocolate Chip \",\" Chocolate Chip \",\" Chocolate Chip \",\" Chocolate Chip \",\" Chocolate Chip \",\" Chocolate Chip \",\" Fortune Cookie \",\" Fortune Cookie \",\" Fortune Cookie \",\" Fortune Cookie \",\" Fortune Cookie \",\" Fortune Cookie \",\" Fortune Cookie \",\" Fortune Cookie \",\" Fortune Cookie \",\" Fortune Cookie \",\" Fortune Cookie \",\" Fortune Cookie \",\" Fortune Cookie \",\" Fortune Cookie \",\" Fortune Cookie \",\" Fortune Cookie \",\" Fortune Cookie \",\" Fortune Cookie \",\" Fortune Cookie \",\" Fortune Cookie \",\" Fortune Cookie \",\" Fortune Cookie \",\" Fortune Cookie \",\" Fortune Cookie \",\" Fortune Cookie \",\" Fortune Cookie \",\" Fortune Cookie \",\" Fortune Cookie \",\" Fortune Cookie \",\" Fortune Cookie \",\" Fortune Cookie \",\" Fortune Cookie \",\" Fortune Cookie \",\" Fortune Cookie \",\" Fortune Cookie \",\" Fortune Cookie \",\" Fortune Cookie \",\" Fortune Cookie \",\" Fortune Cookie \",\" Fortune Cookie \",\" Fortune Cookie \",\" Fortune Cookie \",\" Fortune Cookie \",\" Fortune Cookie \",\" Fortune Cookie \",\" Fortune Cookie \",\" Fortune Cookie \",\" Fortune Cookie \",\" Fortune Cookie \",\" Fortune Cookie \",\" Fortune Cookie \",\" Fortune Cookie \",\" Fortune Cookie \",\" Fortune Cookie \",\" Fortune Cookie \",\" Fortune Cookie \",\" Fortune Cookie \",\" Fortune Cookie \",\" Fortune Cookie \",\" Fortune Cookie \",\" Fortune Cookie \",\" Fortune Cookie \",\" Fortune Cookie \",\" Fortune Cookie \",\" Fortune Cookie \",\" Fortune Cookie \",\" Fortune Cookie \",\" Fortune Cookie \",\" Fortune Cookie \",\" Fortune Cookie \",\" Oatmeal Raisin \",\" Oatmeal Raisin \",\" Oatmeal Raisin \",\" Oatmeal Raisin \",\" Oatmeal Raisin \",\" Oatmeal Raisin \",\" Oatmeal Raisin \",\" Oatmeal Raisin \",\" Oatmeal Raisin \",\" Oatmeal Raisin \",\" Oatmeal Raisin \",\" Oatmeal Raisin \",\" Oatmeal Raisin \",\" Oatmeal Raisin \",\" Oatmeal Raisin \",\" Oatmeal Raisin \",\" Oatmeal Raisin \",\" Oatmeal Raisin \",\" Oatmeal Raisin \",\" Oatmeal Raisin \",\" Oatmeal Raisin \",\" Oatmeal Raisin \",\" Oatmeal Raisin \",\" Oatmeal Raisin \",\" Oatmeal Raisin \",\" Oatmeal Raisin \",\" Oatmeal Raisin \",\" Oatmeal Raisin \",\" Oatmeal Raisin \",\" Oatmeal Raisin \",\" Oatmeal Raisin \",\" Oatmeal Raisin \",\" Oatmeal Raisin \",\" Oatmeal Raisin \",\" Oatmeal Raisin \",\" Oatmeal Raisin \",\" Oatmeal Raisin \",\" Oatmeal Raisin \",\" Oatmeal Raisin \",\" Oatmeal Raisin \",\" Oatmeal Raisin \",\" Oatmeal Raisin \",\" Oatmeal Raisin \",\" Oatmeal Raisin \",\" Oatmeal Raisin \",\" Oatmeal Raisin \",\" Oatmeal Raisin \",\" Oatmeal Raisin \",\" Oatmeal Raisin \",\" Oatmeal Raisin \",\" Oatmeal Raisin \",\" Oatmeal Raisin \",\" Oatmeal Raisin \",\" Oatmeal Raisin \",\" Oatmeal Raisin \",\" Oatmeal Raisin \",\" Oatmeal Raisin \",\" Oatmeal Raisin \",\" Oatmeal Raisin \",\" Oatmeal Raisin \",\" Oatmeal Raisin \",\" Oatmeal Raisin \",\" Oatmeal Raisin \",\" Oatmeal Raisin \",\" Oatmeal Raisin \",\" Oatmeal Raisin \",\" Oatmeal Raisin \",\" Oatmeal Raisin \",\" Oatmeal Raisin \",\" Oatmeal Raisin \",\" Oatmeal Raisin \",\" Snickerdoodle \",\" Snickerdoodle \",\" Snickerdoodle \",\" Snickerdoodle \",\" Snickerdoodle \",\" Snickerdoodle \",\" Snickerdoodle \",\" Snickerdoodle \",\" Snickerdoodle \",\" Snickerdoodle \",\" Snickerdoodle \",\" Snickerdoodle \",\" Snickerdoodle \",\" Snickerdoodle \",\" Snickerdoodle \",\" Snickerdoodle \",\" Snickerdoodle \",\" Snickerdoodle \",\" Snickerdoodle \",\" Snickerdoodle \",\" Snickerdoodle \",\" Snickerdoodle \",\" Snickerdoodle \",\" Snickerdoodle \",\" Snickerdoodle \",\" Snickerdoodle \",\" Snickerdoodle \",\" Snickerdoodle \",\" Snickerdoodle \",\" Snickerdoodle \",\" Snickerdoodle \",\" Snickerdoodle \",\" Snickerdoodle \",\" Snickerdoodle \",\" Snickerdoodle \",\" Snickerdoodle \",\" Snickerdoodle \",\" Snickerdoodle \",\" Snickerdoodle \",\" Snickerdoodle \",\" Snickerdoodle \",\" Snickerdoodle \",\" Snickerdoodle \",\" Snickerdoodle \",\" Snickerdoodle \",\" Snickerdoodle \",\" Snickerdoodle \",\" Snickerdoodle \",\" Snickerdoodle \",\" Snickerdoodle \",\" Snickerdoodle \",\" Snickerdoodle \",\" Snickerdoodle \",\" Snickerdoodle \",\" Snickerdoodle \",\" Snickerdoodle \",\" Snickerdoodle \",\" Snickerdoodle \",\" Snickerdoodle \",\" Snickerdoodle \",\" Snickerdoodle \",\" Snickerdoodle \",\" Snickerdoodle \",\" Snickerdoodle \",\" Snickerdoodle \",\" Snickerdoodle \",\" Snickerdoodle \",\" Snickerdoodle \",\" Snickerdoodle \",\" Snickerdoodle \",\" Sugar \",\" Sugar \",\" Sugar \",\" Sugar \",\" Sugar \",\" Sugar \",\" Sugar \",\" Sugar \",\" Sugar \",\" Sugar \",\" Sugar \",\" Sugar \",\" Sugar \",\" Sugar \",\" Sugar \",\" Sugar \",\" Sugar \",\" Sugar \",\" Sugar \",\" Sugar \",\" Sugar \",\" Sugar \",\" Sugar \",\" Sugar \",\" Sugar \",\" Sugar \",\" Sugar \",\" Sugar \",\" Sugar \",\" Sugar \",\" Sugar \",\" Sugar \",\" Sugar \",\" Sugar \",\" Sugar \",\" Sugar \",\" Sugar \",\" Sugar \",\" Sugar \",\" Sugar \",\" Sugar \",\" Sugar \",\" Sugar \",\" Sugar \",\" Sugar \",\" Sugar \",\" Sugar \",\" Sugar \",\" Sugar \",\" Sugar \",\" Sugar \",\" Sugar \",\" Sugar \",\" Sugar \",\" Sugar \",\" Sugar \",\" Sugar \",\" Sugar \",\" Sugar \",\" Sugar \",\" Sugar \",\" Sugar \",\" Sugar \",\" Sugar \",\" Sugar \",\" Sugar \",\" Sugar \",\" Sugar \",\" Sugar \",\" Sugar \",\" Sugar \",\" Sugar \",\" Sugar \",\" Sugar \",\" Sugar \",\" Sugar \",\" Sugar \",\" Sugar \",\" Sugar \",\" Sugar \",\" Sugar \",\" White Chocolate Macadamia Nut \",\" White Chocolate Macadamia Nut \",\" White Chocolate Macadamia Nut \",\" White Chocolate Macadamia Nut \",\" White Chocolate Macadamia Nut \",\" White Chocolate Macadamia Nut \",\" White Chocolate Macadamia Nut \",\" White Chocolate Macadamia Nut \",\" White Chocolate Macadamia Nut \",\" White Chocolate Macadamia Nut \",\" White Chocolate Macadamia Nut \",\" White Chocolate Macadamia Nut \",\" White Chocolate Macadamia Nut \",\" White Chocolate Macadamia Nut \",\" White Chocolate Macadamia Nut \",\" White Chocolate Macadamia Nut \",\" White Chocolate Macadamia Nut \",\" White Chocolate Macadamia Nut \",\" White Chocolate Macadamia Nut \",\" White Chocolate Macadamia Nut \",\" White Chocolate Macadamia Nut \",\" White Chocolate Macadamia Nut \",\" White Chocolate Macadamia Nut \",\" White Chocolate Macadamia Nut \",\" White Chocolate Macadamia Nut \",\" White Chocolate Macadamia Nut \",\" White Chocolate Macadamia Nut \",\" White Chocolate Macadamia Nut \",\" White Chocolate Macadamia Nut \",\" White Chocolate Macadamia Nut \",\" White Chocolate Macadamia Nut \",\" White Chocolate Macadamia Nut \",\" White Chocolate Macadamia Nut \",\" White Chocolate Macadamia Nut \",\" White Chocolate Macadamia Nut \",\" White Chocolate Macadamia Nut \",\" White Chocolate Macadamia Nut \",\" White Chocolate Macadamia Nut \",\" White Chocolate Macadamia Nut \",\" White Chocolate Macadamia Nut \",\" White Chocolate Macadamia Nut \",\" White Chocolate Macadamia Nut \",\" White Chocolate Macadamia Nut \",\" White Chocolate Macadamia Nut \",\" White Chocolate Macadamia Nut \",\" White Chocolate Macadamia Nut \",\" White Chocolate Macadamia Nut \",\" White Chocolate Macadamia Nut \",\" White Chocolate Macadamia Nut \",\" White Chocolate Macadamia Nut \",\" White Chocolate Macadamia Nut \",\" White Chocolate Macadamia Nut \",\" White Chocolate Macadamia Nut \",\" White Chocolate Macadamia Nut \",\" White Chocolate Macadamia Nut \",\" White Chocolate Macadamia Nut \",\" White Chocolate Macadamia Nut \",\" White Chocolate Macadamia Nut \",\" White Chocolate Macadamia Nut \",\" White Chocolate Macadamia Nut \",\" White Chocolate Macadamia Nut \",\" White Chocolate Macadamia Nut \",\" White Chocolate Macadamia Nut \",\" White Chocolate Macadamia Nut \",\" White Chocolate Macadamia Nut \",\" White Chocolate Macadamia Nut \",\" White Chocolate Macadamia Nut \",\" White Chocolate Macadamia Nut \",\" White Chocolate Macadamia Nut \",\" White Chocolate Macadamia Nut \",\" White Chocolate Macadamia Nut \",\" White Chocolate Macadamia Nut \",\" White Chocolate Macadamia Nut \",\" White Chocolate Macadamia Nut \",\" White Chocolate Macadamia Nut \",\" White Chocolate Macadamia Nut \",\" White Chocolate Macadamia Nut \",\" White Chocolate Macadamia Nut \",\" White Chocolate Macadamia Nut \",\" White Chocolate Macadamia Nut \",\" White Chocolate Macadamia Nut \",\" White Chocolate Macadamia Nut \"],\"shape\":[524],\"dtype\":\"object\",\"order\":\"little\"}],[\"x\",{\"type\":\"ndarray\",\"array\":[\" February \",\" June \",\" June \",\" July \",\" August \",\" September \",\" October \",\" December \",\" December \",\" January \",\" February \",\" May \",\" February \",\" April \",\" June \",\" June \",\" July \",\" September \",\" November \",\" December \",\" February \",\" May \",\" May \",\" June \",\" June \",\" October \",\" December \",\" December \",\" December \",\" December \",\" December \",\" January \",\" March \",\" June \",\" June \",\" June \",\" July \",\" October \",\" December \",\" December \",\" October \",\" January \",\" March \",\" April \",\" May \",\" July \",\" July \",\" September \",\" September \",\" September \",\" December \",\" December \",\" January \",\" October \",\" December \",\" February \",\" March \",\" March \",\" April \",\" May \",\" June \",\" June \",\" September \",\" October \",\" December \",\" April \",\" June \",\" August \",\" August \",\" October \",\" May \",\" June \",\" July \",\" August \",\" September \",\" May \",\" March \",\" April \",\" May \",\" June \",\" June \",\" August \",\" August \",\" September \",\" September \",\" December \",\" January \",\" January \",\" April \",\" June \",\" October \",\" November \",\" December \",\" March \",\" June \",\" October \",\" March \",\" May \",\" October \",\" April \",\" January \",\" March \",\" July \",\" July \",\" July \",\" August \",\" August \",\" October \",\" November \",\" January \",\" June \",\" October \",\" October \",\" November \",\" November \",\" November \",\" November \",\" December \",\" December \",\" January \",\" January \",\" February \",\" February \",\" June \",\" June \",\" July \",\" August \",\" October \",\" October \",\" November \",\" December \",\" February \",\" March \",\" September \",\" October \",\" February \",\" October \",\" October \",\" November \",\" November \",\" March \",\" April \",\" April \",\" May \",\" August \",\" October \",\" October \",\" December \",\" December \",\" April \",\" March \",\" June \",\" June \",\" June \",\" June \",\" July \",\" August \",\" September \",\" December \",\" March \",\" April \",\" July \",\" August \",\" June \",\" October \",\" November \",\" February \",\" June \",\" September \",\" December \",\" December \",\" October \",\" March \",\" August \",\" October \",\" December \",\" January \",\" July \",\" November \",\" April \",\" May \",\" November \",\" January \",\" November \",\" October \",\" October \",\" February \",\" June \",\" March \",\" June \",\" July \",\" August \",\" December \",\" April \",\" May \",\" November \",\" December \",\" September \",\" May \",\" December \",\" January \",\" December \",\" March \",\" April \",\" September \",\" October \",\" May \",\" January \",\" February \",\" June \",\" July \",\" October \",\" February \",\" January \",\" April \",\" May \",\" September \",\" December \",\" October \",\" February \",\" February \",\" April \",\" April \",\" June \",\" July \",\" August \",\" October \",\" December \",\" March \",\" March \",\" May \",\" November \",\" November \",\" December \",\" February \",\" April \",\" September \",\" July \",\" August \",\" February \",\" August \",\" December \",\" January \",\" September \",\" June \",\" May \",\" September \",\" November \",\" December \",\" June \",\" June \",\" June \",\" June \",\" June \",\" November \",\" December \",\" December \",\" September \",\" October \",\" November \",\" June \",\" July \",\" January \",\" February \",\" March \",\" April \",\" May \",\" August \",\" September \",\" December \",\" December \",\" July \",\" October \",\" January \",\" January \",\" May \",\" December \",\" February \",\" July \",\" October \",\" January \",\" June \",\" October \",\" October \",\" March \",\" May \",\" August \",\" October \",\" October \",\" March \",\" October \",\" January \",\" January \",\" June \",\" June \",\" June \",\" December \",\" February \",\" March \",\" July \",\" September \",\" September \",\" October \",\" December \",\" April \",\" October \",\" December \",\" April \",\" April \",\" June \",\" September \",\" May \",\" October \",\" December \",\" February \",\" February \",\" May \",\" June \",\" November \",\" December \",\" December \",\" January \",\" June \",\" September \",\" November \",\" February \",\" August \",\" March \",\" June \",\" October \",\" August \",\" November \",\" December \",\" June \",\" May \",\" July \",\" September \",\" December \",\" April \",\" February \",\" March \",\" July \",\" October \",\" June \",\" October \",\" November \",\" January \",\" June \",\" March \",\" March \",\" April \",\" May \",\" December \",\" July \",\" October \",\" October \",\" November \",\" December \",\" August \",\" August \",\" October \",\" February \",\" April \",\" June \",\" June \",\" September \",\" December \",\" March \",\" March \",\" April \",\" June \",\" June \",\" September \",\" October \",\" November \",\" June \",\" October \",\" December \",\" February \",\" April \",\" June \",\" August \",\" August \",\" January \",\" May \",\" October \",\" October \",\" December \",\" December \",\" December \",\" June \",\" June \",\" October \",\" April \",\" December \",\" January \",\" February \",\" February \",\" April \",\" June \",\" August \",\" August \",\" September \",\" July \",\" January \",\" February \",\" April \",\" May \",\" September \",\" October \",\" November \",\" October \",\" December \",\" May \",\" July \",\" August \",\" September \",\" November \",\" March \",\" January \",\" January \",\" May \",\" July \",\" October \",\" November \",\" December \",\" March \",\" December \",\" June \",\" June \",\" October \",\" December \",\" March \",\" August \",\" October \",\" October \",\" July \",\" July \",\" October \",\" November \",\" December \",\" May \",\" January \",\" February \",\" March \",\" June \",\" June \",\" August \",\" November \",\" April \",\" May \",\" August \",\" October \",\" October \",\" December \",\" December \",\" October \",\" April \",\" March \",\" October \",\" December \",\" January \",\" January \",\" February \",\" June \",\" August \",\" August \",\" October \",\" December \",\" February \",\" February \",\" May \",\" June \",\" June \",\" August \",\" November \",\" May \",\" June \",\" November \",\" December \",\" July \",\" August \",\" September \",\" October \",\" December \",\" March \",\" June \",\" June \",\" December \",\" May \",\" July \",\" July \",\" September \",\" September \",\" October \",\" March \",\" April \",\" January \",\" April \",\" May \",\" July \",\" September \",\" October \",\" November \",\" December \",\" January \",\" October \",\" November \",\" July \",\" October \",\" October \",\" January \",\" June \",\" June \",\" June \",\" October \",\" December \",\" February \",\" April \",\" July \",\" March \",\" May \",\" September \",\" December \"],\"shape\":[524],\"dtype\":\"object\",\"order\":\"little\"}],[\"y\",{\"type\":\"ndarray\",\"array\":{\"type\":\"bytes\",\"data\":\"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\"},\"shape\":[524],\"dtype\":\"float64\",\"order\":\"little\"}]]}}},\"view\":{\"type\":\"object\",\"name\":\"CDSView\",\"id\":\"p1057\",\"attributes\":{\"filter\":{\"type\":\"object\",\"name\":\"AllIndices\",\"id\":\"p1058\"}}},\"glyph\":{\"type\":\"object\",\"name\":\"Circle\",\"id\":\"p1053\",\"attributes\":{\"x\":{\"type\":\"field\",\"field\":\"x\"},\"y\":{\"type\":\"field\",\"field\":\"y\"},\"line_color\":{\"type\":\"value\",\"value\":\"#1f77b4\"},\"fill_color\":{\"type\":\"value\",\"value\":\"red\"}}},\"nonselection_glyph\":{\"type\":\"object\",\"name\":\"Circle\",\"id\":\"p1054\",\"attributes\":{\"x\":{\"type\":\"field\",\"field\":\"x\"},\"y\":{\"type\":\"field\",\"field\":\"y\"},\"line_color\":{\"type\":\"value\",\"value\":\"#1f77b4\"},\"line_alpha\":{\"type\":\"value\",\"value\":0.1},\"fill_color\":{\"type\":\"value\",\"value\":\"red\"},\"fill_alpha\":{\"type\":\"value\",\"value\":0.1},\"hatch_alpha\":{\"type\":\"value\",\"value\":0.1}}},\"muted_glyph\":{\"type\":\"object\",\"name\":\"Circle\",\"id\":\"p1055\",\"attributes\":{\"x\":{\"type\":\"field\",\"field\":\"x\"},\"y\":{\"type\":\"field\",\"field\":\"y\"},\"line_color\":{\"type\":\"value\",\"value\":\"#1f77b4\"},\"line_alpha\":{\"type\":\"value\",\"value\":0.2},\"fill_color\":{\"type\":\"value\",\"value\":\"red\"},\"fill_alpha\":{\"type\":\"value\",\"value\":0.2},\"hatch_alpha\":{\"type\":\"value\",\"value\":0.2}}}}}],\"toolbar\":{\"type\":\"object\",\"name\":\"Toolbar\",\"id\":\"p1008\",\"attributes\":{\"tools\":[{\"type\":\"object\",\"name\":\"PanTool\",\"id\":\"p1035\"},{\"type\":\"object\",\"name\":\"WheelZoomTool\",\"id\":\"p1036\"},{\"type\":\"object\",\"name\":\"BoxSelectTool\",\"id\":\"p1037\",\"attributes\":{\"renderers\":\"auto\",\"dimensions\":\"width\",\"overlay\":{\"type\":\"object\",\"name\":\"BoxAnnotation\",\"id\":\"p1038\",\"attributes\":{\"syncable\":false,\"level\":\"overlay\",\"visible\":false,\"editable\":true,\"line_color\":\"black\",\"line_alpha\":1.0,\"line_width\":2,\"line_dash\":[4,4],\"fill_color\":\"lightgrey\",\"fill_alpha\":0.5}}}},{\"type\":\"object\",\"name\":\"LassoSelectTool\",\"id\":\"p1039\",\"attributes\":{\"renderers\":\"auto\",\"overlay\":{\"type\":\"object\",\"name\":\"PolyAnnotation\",\"id\":\"p1040\",\"attributes\":{\"syncable\":false,\"level\":\"overlay\",\"visible\":false,\"xs\":[],\"ys\":[],\"editable\":true,\"line_color\":\"black\",\"line_alpha\":1.0,\"line_width\":2,\"line_dash\":[4,4],\"fill_color\":\"lightgrey\",\"fill_alpha\":0.5}}}},{\"type\":\"object\",\"name\":\"ResetTool\",\"id\":\"p1041\"}],\"active_drag\":null}},\"left\":[{\"type\":\"object\",\"name\":\"LinearAxis\",\"id\":\"p1028\",\"attributes\":{\"ticker\":{\"type\":\"object\",\"name\":\"BasicTicker\",\"id\":\"p1029\",\"attributes\":{\"mantissas\":[1,2,5]}},\"formatter\":{\"type\":\"object\",\"name\":\"BasicTickFormatter\",\"id\":\"p1030\"},\"major_label_policy\":{\"type\":\"object\",\"name\":\"AllLabels\",\"id\":\"p1031\"}}}],\"below\":[{\"type\":\"object\",\"name\":\"CategoricalAxis\",\"id\":\"p1022\",\"attributes\":{\"ticker\":{\"type\":\"object\",\"name\":\"CategoricalTicker\",\"id\":\"p1023\"},\"formatter\":{\"type\":\"object\",\"name\":\"CategoricalTickFormatter\",\"id\":\"p1024\"},\"major_label_policy\":{\"type\":\"object\",\"name\":\"AllLabels\",\"id\":\"p1025\"}}}],\"center\":[{\"type\":\"object\",\"name\":\"Grid\",\"id\":\"p1027\",\"attributes\":{\"axis\":{\"id\":\"p1022\"}}},{\"type\":\"object\",\"name\":\"Grid\",\"id\":\"p1034\",\"attributes\":{\"dimension\":1,\"axis\":{\"id\":\"p1028\"}}}]}},{\"type\":\"object\",\"name\":\"Figure\",\"id\":\"p1063\",\"attributes\":{\"width\":800,\"height\":300,\"x_range\":{\"type\":\"object\",\"name\":\"FactorRange\",\"id\":\"p1072\",\"attributes\":{\"factors\":[\"Chocolate Chip\",\" Chocolate Chip \",\" Fortune Cookie \",\" Oatmeal Raisin \",\" Snickerdoodle \",\" Sugar \",\" White Chocolate Macadamia Nut \"]}},\"y_range\":{\"type\":\"object\",\"name\":\"DataRange1d\",\"id\":\"p1065\"},\"x_scale\":{\"type\":\"object\",\"name\":\"CategoricalScale\",\"id\":\"p1076\"},\"y_scale\":{\"type\":\"object\",\"name\":\"LinearScale\",\"id\":\"p1078\"},\"title\":{\"type\":\"object\",\"name\":\"Title\",\"id\":\"p1071\"},\"renderers\":[{\"type\":\"object\",\"name\":\"GlyphRenderer\",\"id\":\"p1114\",\"attributes\":{\"data_source\":{\"id\":\"p1002\"},\"view\":{\"type\":\"object\",\"name\":\"CDSView\",\"id\":\"p1115\",\"attributes\":{\"filter\":{\"type\":\"object\",\"name\":\"AllIndices\",\"id\":\"p1116\"}}},\"glyph\":{\"type\":\"object\",\"name\":\"Circle\",\"id\":\"p1111\",\"attributes\":{\"x\":{\"type\":\"field\",\"field\":\"b\"},\"y\":{\"type\":\"field\",\"field\":\"y\"},\"line_color\":{\"type\":\"value\",\"value\":\"#1f77b4\"},\"fill_color\":{\"type\":\"value\",\"value\":\"red\"}}},\"nonselection_glyph\":{\"type\":\"object\",\"name\":\"Circle\",\"id\":\"p1112\",\"attributes\":{\"x\":{\"type\":\"field\",\"field\":\"b\"},\"y\":{\"type\":\"field\",\"field\":\"y\"},\"line_color\":{\"type\":\"value\",\"value\":\"#1f77b4\"},\"line_alpha\":{\"type\":\"value\",\"value\":0.1},\"fill_color\":{\"type\":\"value\",\"value\":\"red\"},\"fill_alpha\":{\"type\":\"value\",\"value\":0.1},\"hatch_alpha\":{\"type\":\"value\",\"value\":0.1}}},\"muted_glyph\":{\"type\":\"object\",\"name\":\"Circle\",\"id\":\"p1113\",\"attributes\":{\"x\":{\"type\":\"field\",\"field\":\"b\"},\"y\":{\"type\":\"field\",\"field\":\"y\"},\"line_color\":{\"type\":\"value\",\"value\":\"#1f77b4\"},\"line_alpha\":{\"type\":\"value\",\"value\":0.2},\"fill_color\":{\"type\":\"value\",\"value\":\"red\"},\"fill_alpha\":{\"type\":\"value\",\"value\":0.2},\"hatch_alpha\":{\"type\":\"value\",\"value\":0.2}}}}}],\"toolbar\":{\"type\":\"object\",\"name\":\"Toolbar\",\"id\":\"p1066\",\"attributes\":{\"tools\":[{\"type\":\"object\",\"name\":\"PanTool\",\"id\":\"p1093\"},{\"type\":\"object\",\"name\":\"WheelZoomTool\",\"id\":\"p1094\"},{\"type\":\"object\",\"name\":\"BoxSelectTool\",\"id\":\"p1095\",\"attributes\":{\"renderers\":\"auto\",\"dimensions\":\"width\",\"overlay\":{\"type\":\"object\",\"name\":\"BoxAnnotation\",\"id\":\"p1096\",\"attributes\":{\"syncable\":false,\"level\":\"overlay\",\"visible\":false,\"editable\":true,\"line_color\":\"black\",\"line_alpha\":1.0,\"line_width\":2,\"line_dash\":[4,4],\"fill_color\":\"lightgrey\",\"fill_alpha\":0.5}}}},{\"type\":\"object\",\"name\":\"LassoSelectTool\",\"id\":\"p1097\",\"attributes\":{\"renderers\":\"auto\",\"overlay\":{\"type\":\"object\",\"name\":\"PolyAnnotation\",\"id\":\"p1098\",\"attributes\":{\"syncable\":false,\"level\":\"overlay\",\"visible\":false,\"xs\":[],\"ys\":[],\"editable\":true,\"line_color\":\"black\",\"line_alpha\":1.0,\"line_width\":2,\"line_dash\":[4,4],\"fill_color\":\"lightgrey\",\"fill_alpha\":0.5}}}},{\"type\":\"object\",\"name\":\"ResetTool\",\"id\":\"p1099\"}],\"active_drag\":null}},\"left\":[{\"type\":\"object\",\"name\":\"LinearAxis\",\"id\":\"p1086\",\"attributes\":{\"ticker\":{\"type\":\"object\",\"name\":\"BasicTicker\",\"id\":\"p1087\",\"attributes\":{\"mantissas\":[1,2,5]}},\"formatter\":{\"type\":\"object\",\"name\":\"BasicTickFormatter\",\"id\":\"p1088\"},\"major_label_policy\":{\"type\":\"object\",\"name\":\"AllLabels\",\"id\":\"p1089\"}}}],\"below\":[{\"type\":\"object\",\"name\":\"CategoricalAxis\",\"id\":\"p1080\",\"attributes\":{\"ticker\":{\"type\":\"object\",\"name\":\"CategoricalTicker\",\"id\":\"p1081\"},\"formatter\":{\"type\":\"object\",\"name\":\"CategoricalTickFormatter\",\"id\":\"p1082\"},\"major_label_policy\":{\"type\":\"object\",\"name\":\"AllLabels\",\"id\":\"p1083\"}}}],\"center\":[{\"type\":\"object\",\"name\":\"Grid\",\"id\":\"p1085\",\"attributes\":{\"axis\":{\"id\":\"p1080\"}}},{\"type\":\"object\",\"name\":\"Grid\",\"id\":\"p1092\",\"attributes\":{\"dimension\":1,\"axis\":{\"id\":\"p1086\"}}}]}}]}}],\"callbacks\":{\"type\":\"map\"}}};\n",
       "  const render_items = [{\"docid\":\"14a9dfe9-823a-4310-955d-769ba864f7d6\",\"roots\":{\"p1121\":\"e2c358d7-227d-450c-902f-5af1445a700d\"},\"root_ids\":[\"p1121\"]}];\n",
       "  root.Bokeh.embed.embed_items_notebook(docs_json, render_items);\n",
       "  }\n",
       "  if (root.Bokeh !== undefined) {\n",
       "    embed_document(root);\n",
       "  } else {\n",
       "    let attempts = 0;\n",
       "    const timer = setInterval(function(root) {\n",
       "      if (root.Bokeh !== undefined) {\n",
       "        clearInterval(timer);\n",
       "        embed_document(root);\n",
       "      } else {\n",
       "        attempts++;\n",
       "        if (attempts > 100) {\n",
       "          clearInterval(timer);\n",
       "          console.log(\"Bokeh: ERROR: Unable to run BokehJS code because BokehJS library is missing\");\n",
       "        }\n",
       "      }\n",
       "    }, 10, root)\n",
       "  }\n",
       "})(window);"
      ],
      "application/vnd.bokehjs_exec.v0+json": ""
     },
     "metadata": {
      "application/vnd.bokehjs_exec.v0+json": {
       "id": "p1121"
      }
     },
     "output_type": "display_data"
    }
   ],
   "source": [
    "show(column(p1, p2))"
   ]
  },
  {
   "cell_type": "code",
   "execution_count": 9,
   "id": "f055e2ff",
   "metadata": {},
   "outputs": [
    {
     "data": {
      "text/html": [
       "\n",
       "  <div id=\"4f0f6e0f-4984-4d2d-b75c-f0d877aaa3f0\" data-root-id=\"p1399\" style=\"display: contents;\"></div>\n"
      ]
     },
     "metadata": {},
     "output_type": "display_data"
    },
    {
     "data": {
      "application/javascript": [
       "(function(root) {\n",
       "  function embed_document(root) {\n",
       "  const docs_json = {\"e99240e4-8389-4991-84d2-0553f24b3790\":{\"version\":\"3.1.0\",\"title\":\"Bokeh Application\",\"defs\":[],\"roots\":[{\"type\":\"object\",\"name\":\"Column\",\"id\":\"p1399\",\"attributes\":{\"children\":[{\"type\":\"object\",\"name\":\"Figure\",\"id\":\"p1291\",\"attributes\":{\"width\":800,\"height\":300,\"x_range\":{\"type\":\"object\",\"name\":\"FactorRange\",\"id\":\"p1300\",\"attributes\":{\"factors\":[\" February \",\" June \",\" July \",\" August \",\" September \",\" October \",\" December \",\" January \",\" May \",\" April \",\" November \",\" March \"]}},\"y_range\":{\"type\":\"object\",\"name\":\"DataRange1d\",\"id\":\"p1293\"},\"x_scale\":{\"type\":\"object\",\"name\":\"CategoricalScale\",\"id\":\"p1304\"},\"y_scale\":{\"type\":\"object\",\"name\":\"LinearScale\",\"id\":\"p1306\"},\"title\":{\"type\":\"object\",\"name\":\"Title\",\"id\":\"p1299\"},\"renderers\":[{\"type\":\"object\",\"name\":\"GlyphRenderer\",\"id\":\"p1342\",\"attributes\":{\"data_source\":{\"type\":\"object\",\"name\":\"ColumnDataSource\",\"id\":\"p1002\",\"attributes\":{\"selected\":{\"type\":\"object\",\"name\":\"Selection\",\"id\":\"p1003\",\"attributes\":{\"indices\":[],\"line_indices\":[]}},\"selection_policy\":{\"type\":\"object\",\"name\":\"UnionRenderers\",\"id\":\"p1004\"},\"data\":{\"type\":\"map\",\"entries\":[[\"a\",{\"type\":\"ndarray\",\"array\":[\"Mexico\",\"Canada\",\"Germany\",\"Germany\",\"Mexico\",\"Mexico\",\"United States\",\"Canada\",\"Germany\",\"France\",\"France\",\"France\",\"United States\",\"United States\",\"United States\",\"France\",\"Mexico\",\"Germany\",\"United States\",\"France\",\"Canada\",\"France\",\"Germany\",\"United States\",\"Mexico\",\"Canada\",\"Canada\",\"Canada\",\"Canada\",\"France\",\"Mexico\",\"France\",\"Canada\",\"France\",\"Germany\",\"Germany\",\"United States\",\"Canada\",\"France\",\"Germany\",\"Mexico\",\"Canada\",\"Germany\",\"Germany\",\"United States\",\"United States\",\"France\",\"Canada\",\"Canada\",\"United States\",\"United States\",\"Mexico\",\"Germany\",\"Mexico\",\"Canada\",\"France\",\"United States\",\"France\",\"Mexico\",\"United States\",\"United States\",\"United States\",\"France\",\"United States\",\"United States\",\"France\",\"France\",\"United States\",\"Germany\",\"United States\",\"Canada\",\"France\",\"Germany\",\"France\",\"France\",\"Canada\",\"Mexico\",\"Germany\",\"Germany\",\"Germany\",\"Mexico\",\"United States\",\"Germany\",\"Germany\",\"Mexico\",\"Mexico\",\"Mexico\",\"Mexico\",\"United States\",\"Canada\",\"France\",\"France\",\"United States\",\"United States\",\"Mexico\",\"Germany\",\"France\",\"Mexico\",\"Germany\",\"France\",\"Canada\",\"Mexico\",\"Canada\",\"Canada\",\"France\",\"Canada\",\"Mexico\",\"France\",\"Canada\",\"United States\",\"Mexico\",\"Mexico\",\"Mexico\",\"France\",\"Germany\",\"Mexico\",\"Mexico\",\"Mexico\",\"Germany\",\"United States\",\"Germany\",\"United States\",\"Germany\",\"Canada\",\"Canada\",\"Mexico\",\"France\",\"Canada\",\"Canada\",\"Germany\",\"Germany\",\"Germany\",\"Canada\",\"United States\",\"France\",\"Mexico\",\"United States\",\"France\",\"Canada\",\"United States\",\"Germany\",\"Canada\",\"Mexico\",\"Mexico\",\"Canada\",\"Germany\",\"Germany\",\"United States\",\"France\",\"Canada\",\"Germany\",\"Canada\",\"France\",\"Germany\",\"Mexico\",\"Canada\",\"Mexico\",\"Germany\",\"United States\",\"Mexico\",\"United States\",\"France\",\"Canada\",\"United States\",\"United States\",\"Mexico\",\"Germany\",\"France\",\"France\",\"France\",\"Germany\",\"Mexico\",\"Canada\",\"Germany\",\"Germany\",\"Mexico\",\"France\",\"United States\",\"Germany\",\"Mexico\",\"Germany\",\"United States\",\"Mexico\",\"France\",\"France\",\"France\",\"Canada\",\"United States\",\"France\",\"Canada\",\"Germany\",\"France\",\"Germany\",\"Canada\",\"France\",\"Canada\",\"United States\",\"United States\",\"United States\",\"France\",\"Germany\",\"Mexico\",\"United States\",\"France\",\"Mexico\",\"Canada\",\"Mexico\",\"United States\",\"United States\",\"Mexico\",\"Mexico\",\"Canada\",\"France\",\"Canada\",\"Germany\",\"Canada\",\"Canada\",\"Canada\",\"Mexico\",\"Mexico\",\"France\",\"United States\",\"Germany\",\"France\",\"Germany\",\"United States\",\"United States\",\"United States\",\"Germany\",\"Mexico\",\"Germany\",\"United States\",\"France\",\"Canada\",\"Mexico\",\"Mexico\",\"Germany\",\"Mexico\",\"Mexico\",\"Germany\",\"Canada\",\"Germany\",\"France\",\"Mexico\",\"Canada\",\"Canada\",\"France\",\"Canada\",\"United States\",\"United States\",\"Canada\",\"United States\",\"Germany\",\"Mexico\",\"Germany\",\"Germany\",\"Mexico\",\"United States\",\"Canada\",\"Mexico\",\"Mexico\",\"Canada\",\"United States\",\"Canada\",\"United States\",\"Canada\",\"Mexico\",\"Germany\",\"Canada\",\"France\",\"France\",\"United States\",\"Germany\",\"Germany\",\"Mexico\",\"France\",\"Mexico\",\"United States\",\"France\",\"Canada\",\"Canada\",\"France\",\"Mexico\",\"France\",\"Canada\",\"United States\",\"France\",\"United States\",\"France\",\"France\",\"Mexico\",\"Canada\",\"Germany\",\"France\",\"Germany\",\"Mexico\",\"Germany\",\"United States\",\"Mexico\",\"United States\",\"Canada\",\"France\",\"Mexico\",\"France\",\"Canada\",\"Canada\",\"Canada\",\"France\",\"Germany\",\"Germany\",\"United States\",\"Canada\",\"Germany\",\"United States\",\"France\",\"Germany\",\"France\",\"United States\",\"Mexico\",\"United States\",\"France\",\"United States\",\"Canada\",\"Mexico\",\"United States\",\"Mexico\",\"Canada\",\"United States\",\"France\",\"France\",\"Mexico\",\"France\",\"Mexico\",\"Canada\",\"Germany\",\"Canada\",\"Germany\",\"Mexico\",\"United States\",\"Canada\",\"Germany\",\"Germany\",\"France\",\"Mexico\",\"Mexico\",\"Canada\",\"France\",\"United States\",\"Canada\",\"France\",\"Mexico\",\"United States\",\"Germany\",\"Mexico\",\"Canada\",\"United States\",\"Germany\",\"Canada\",\"France\",\"Germany\",\"Germany\",\"Canada\",\"Germany\",\"France\",\"Germany\",\"France\",\"Canada\",\"Canada\",\"Germany\",\"Canada\",\"United States\",\"France\",\"Germany\",\"Mexico\",\"France\",\"Mexico\",\"Germany\",\"Canada\",\"United States\",\"Mexico\",\"Germany\",\"Canada\",\"Mexico\",\"Germany\",\"France\",\"France\",\"Mexico\",\"United States\",\"United States\",\"France\",\"Canada\",\"Mexico\",\"United States\",\"France\",\"Canada\",\"Canada\",\"France\",\"Mexico\",\"France\",\"Germany\",\"France\",\"Germany\",\"Canada\",\"United States\",\"United States\",\"Germany\",\"United States\",\"Germany\",\"United States\",\"France\",\"Mexico\",\"Germany\",\"Mexico\",\"Mexico\",\"Mexico\",\"United States\",\"Mexico\",\"Canada\",\"United States\",\"France\",\"Mexico\",\"Canada\",\"France\",\"United States\",\"United States\",\"Mexico\",\"France\",\"Germany\",\"United States\",\"Canada\",\"Canada\",\"Germany\",\"Mexico\",\"United States\",\"Canada\",\"United States\",\"Canada\",\"Germany\",\"Germany\",\"Germany\",\"France\",\"United States\",\"Mexico\",\"France\",\"Germany\",\"Germany\",\"Germany\",\"United States\",\"France\",\"France\",\"Mexico\",\"Canada\",\"United States\",\"Germany\",\"France\",\"Mexico\",\"Canada\",\"Canada\",\"United States\",\"France\",\"Canada\",\"United States\",\"Mexico\",\"Germany\",\"United States\",\"United States\",\"France\",\"United States\",\"Germany\",\"Canada\",\"United States\",\"Germany\",\"France\",\"Mexico\",\"Germany\",\"Mexico\",\"Canada\",\"Canada\",\"United States\",\"Canada\",\"France\",\"Mexico\",\"Germany\",\"France\",\"United States\",\"Canada\",\"United States\",\"Germany\",\"Mexico\",\"Mexico\",\"Canada\",\"Germany\",\"Canada\",\"Mexico\",\"Canada\",\"France\",\"Mexico\",\"Germany\",\"Germany\",\"United States\",\"France\",\"United States\",\"Germany\",\"Germany\",\"France\",\"Canada\",\"Germany\",\"Canada\",\"Mexico\",\"United States\",\"Mexico\",\"France\",\"Canada\",\"France\",\"Mexico\",\"Mexico\",\"Germany\",\"Mexico\",\"United States\",\"United States\",\"Mexico\",\"France\",\"France\",\"United States\"],\"shape\":[524],\"dtype\":\"object\",\"order\":\"little\"}],[\"b\",{\"type\":\"ndarray\",\"array\":[\"Chocolate Chip\",\"Chocolate Chip\",\"Chocolate Chip\",\"Chocolate Chip\",\" Chocolate Chip \",\" Chocolate Chip \",\" Chocolate Chip \",\" Chocolate Chip \",\" Chocolate Chip \",\" Chocolate Chip \",\" Chocolate Chip \",\" Chocolate Chip \",\" Chocolate Chip \",\" Chocolate Chip \",\" Chocolate Chip \",\" Chocolate Chip \",\" Chocolate Chip \",\" Chocolate Chip \",\" Chocolate Chip \",\" Chocolate Chip \",\" Chocolate Chip \",\" Chocolate Chip \",\" Chocolate Chip \",\" Chocolate Chip \",\" Chocolate Chip \",\" Chocolate Chip \",\" Chocolate Chip \",\" Chocolate Chip \",\" Chocolate Chip \",\" Chocolate Chip \",\" Chocolate Chip \",\" Chocolate Chip \",\" Chocolate Chip \",\" Chocolate Chip \",\" Chocolate Chip \",\" Chocolate Chip \",\" Chocolate Chip \",\" Chocolate Chip \",\" Chocolate Chip \",\" Chocolate Chip \",\" Chocolate Chip \",\" Chocolate Chip \",\" Chocolate Chip \",\" Chocolate Chip \",\" Chocolate Chip \",\" Chocolate Chip \",\" Chocolate Chip \",\" Chocolate Chip \",\" Chocolate Chip \",\" Chocolate Chip \",\" Chocolate Chip \",\" Chocolate Chip \",\" Chocolate Chip \",\" Chocolate Chip \",\" Chocolate Chip \",\" Chocolate Chip \",\" Chocolate Chip \",\" Chocolate Chip \",\" Chocolate Chip \",\" Chocolate Chip \",\" Chocolate Chip \",\" Chocolate Chip \",\" Chocolate Chip \",\" Chocolate Chip \",\" Chocolate Chip \",\" Chocolate Chip \",\" Chocolate Chip \",\" Chocolate Chip \",\" Chocolate Chip \",\" Chocolate Chip \",\" Chocolate Chip \",\" Chocolate Chip \",\" Chocolate Chip \",\" Chocolate Chip \",\" Chocolate Chip \",\" Chocolate Chip \",\" Chocolate Chip \",\" Chocolate Chip \",\" Chocolate Chip \",\" Chocolate Chip \",\" Chocolate Chip \",\" Chocolate Chip \",\" Chocolate Chip \",\" Chocolate Chip \",\" Chocolate Chip \",\" Chocolate Chip \",\" Chocolate Chip \",\" Chocolate Chip \",\" Chocolate Chip \",\" Chocolate Chip \",\" Chocolate Chip \",\" Chocolate Chip \",\" Chocolate Chip \",\" Chocolate Chip \",\" Chocolate Chip \",\" Chocolate Chip \",\" Chocolate Chip \",\" Chocolate Chip \",\" Chocolate Chip \",\" Chocolate Chip \",\" Chocolate Chip \",\" Chocolate Chip \",\" Chocolate Chip \",\" Chocolate Chip \",\" Chocolate Chip \",\" Chocolate Chip \",\" Chocolate Chip \",\" Chocolate Chip \",\" Chocolate Chip \",\" Chocolate Chip \",\" Chocolate Chip \",\" Chocolate Chip \",\" Chocolate Chip \",\" Chocolate Chip \",\" Chocolate Chip \",\" Chocolate Chip \",\" Chocolate Chip \",\" Chocolate Chip \",\" Chocolate Chip \",\" Chocolate Chip \",\" Chocolate Chip \",\" Chocolate Chip \",\" Chocolate Chip \",\" Chocolate Chip \",\" Chocolate Chip \",\" Chocolate Chip \",\" Chocolate Chip \",\" Chocolate Chip \",\" Chocolate Chip \",\" Chocolate Chip \",\" Chocolate Chip \",\" Chocolate Chip \",\" Chocolate Chip \",\" Chocolate Chip \",\" Chocolate Chip \",\" Chocolate Chip \",\" Chocolate Chip \",\" Chocolate Chip \",\" Chocolate Chip \",\" Chocolate Chip \",\" Chocolate Chip \",\" Chocolate Chip \",\" Chocolate Chip \",\" Chocolate Chip \",\" Chocolate Chip \",\" Chocolate Chip \",\" Chocolate Chip \",\" Chocolate Chip \",\" Chocolate Chip \",\" Chocolate Chip \",\" Fortune Cookie \",\" Fortune Cookie \",\" Fortune Cookie \",\" Fortune Cookie \",\" Fortune Cookie \",\" Fortune Cookie \",\" Fortune Cookie \",\" Fortune Cookie \",\" Fortune Cookie \",\" Fortune Cookie \",\" Fortune Cookie \",\" Fortune Cookie \",\" Fortune Cookie \",\" Fortune Cookie \",\" Fortune Cookie \",\" Fortune Cookie \",\" Fortune Cookie \",\" Fortune Cookie \",\" Fortune Cookie \",\" Fortune Cookie \",\" Fortune Cookie \",\" Fortune Cookie \",\" Fortune Cookie \",\" Fortune Cookie \",\" Fortune Cookie \",\" Fortune Cookie \",\" Fortune Cookie \",\" Fortune Cookie \",\" Fortune Cookie \",\" Fortune Cookie \",\" Fortune Cookie \",\" Fortune Cookie \",\" Fortune Cookie \",\" Fortune Cookie \",\" Fortune Cookie \",\" Fortune Cookie \",\" Fortune Cookie \",\" Fortune Cookie \",\" Fortune Cookie \",\" Fortune Cookie \",\" Fortune Cookie \",\" Fortune Cookie \",\" Fortune Cookie \",\" Fortune Cookie \",\" Fortune Cookie \",\" Fortune Cookie \",\" Fortune Cookie \",\" Fortune Cookie \",\" Fortune Cookie \",\" Fortune Cookie \",\" Fortune Cookie \",\" Fortune Cookie \",\" Fortune Cookie \",\" Fortune Cookie \",\" Fortune Cookie \",\" Fortune Cookie \",\" Fortune Cookie \",\" Fortune Cookie \",\" Fortune Cookie \",\" Fortune Cookie \",\" Fortune Cookie \",\" Fortune Cookie \",\" Fortune Cookie \",\" Fortune Cookie \",\" Fortune Cookie \",\" Fortune Cookie \",\" Fortune Cookie \",\" Fortune Cookie \",\" Fortune Cookie \",\" Fortune Cookie \",\" Oatmeal Raisin \",\" Oatmeal Raisin \",\" Oatmeal Raisin \",\" Oatmeal Raisin \",\" Oatmeal Raisin \",\" Oatmeal Raisin \",\" Oatmeal Raisin \",\" Oatmeal Raisin \",\" Oatmeal Raisin \",\" Oatmeal Raisin \",\" Oatmeal Raisin \",\" Oatmeal Raisin \",\" Oatmeal Raisin \",\" Oatmeal Raisin \",\" Oatmeal Raisin \",\" Oatmeal Raisin \",\" Oatmeal Raisin \",\" Oatmeal Raisin \",\" Oatmeal Raisin \",\" Oatmeal Raisin \",\" Oatmeal Raisin \",\" Oatmeal Raisin \",\" Oatmeal Raisin \",\" Oatmeal Raisin \",\" Oatmeal Raisin \",\" Oatmeal Raisin \",\" Oatmeal Raisin \",\" Oatmeal Raisin \",\" Oatmeal Raisin \",\" Oatmeal Raisin \",\" Oatmeal Raisin \",\" Oatmeal Raisin \",\" Oatmeal Raisin \",\" Oatmeal Raisin \",\" Oatmeal Raisin \",\" Oatmeal Raisin \",\" Oatmeal Raisin \",\" Oatmeal Raisin \",\" Oatmeal Raisin \",\" Oatmeal Raisin \",\" Oatmeal Raisin \",\" Oatmeal Raisin \",\" Oatmeal Raisin \",\" Oatmeal Raisin \",\" Oatmeal Raisin \",\" Oatmeal Raisin \",\" Oatmeal Raisin \",\" Oatmeal Raisin \",\" Oatmeal Raisin \",\" Oatmeal Raisin \",\" Oatmeal Raisin \",\" Oatmeal Raisin \",\" Oatmeal Raisin \",\" Oatmeal Raisin \",\" Oatmeal Raisin \",\" Oatmeal Raisin \",\" Oatmeal Raisin \",\" Oatmeal Raisin \",\" Oatmeal Raisin \",\" Oatmeal Raisin \",\" Oatmeal Raisin \",\" Oatmeal Raisin \",\" Oatmeal Raisin \",\" Oatmeal Raisin \",\" Oatmeal Raisin \",\" Oatmeal Raisin \",\" Oatmeal Raisin \",\" Oatmeal Raisin \",\" Oatmeal Raisin \",\" Oatmeal Raisin \",\" Oatmeal Raisin \",\" Snickerdoodle \",\" Snickerdoodle \",\" Snickerdoodle \",\" Snickerdoodle \",\" Snickerdoodle \",\" Snickerdoodle \",\" Snickerdoodle \",\" Snickerdoodle \",\" Snickerdoodle \",\" Snickerdoodle \",\" Snickerdoodle \",\" Snickerdoodle \",\" Snickerdoodle \",\" Snickerdoodle \",\" Snickerdoodle \",\" Snickerdoodle \",\" Snickerdoodle \",\" Snickerdoodle \",\" Snickerdoodle \",\" Snickerdoodle \",\" Snickerdoodle \",\" Snickerdoodle \",\" Snickerdoodle \",\" Snickerdoodle \",\" Snickerdoodle \",\" Snickerdoodle \",\" Snickerdoodle \",\" Snickerdoodle \",\" Snickerdoodle \",\" Snickerdoodle \",\" Snickerdoodle \",\" Snickerdoodle \",\" Snickerdoodle \",\" Snickerdoodle \",\" Snickerdoodle \",\" Snickerdoodle \",\" Snickerdoodle \",\" Snickerdoodle \",\" Snickerdoodle \",\" Snickerdoodle \",\" Snickerdoodle \",\" Snickerdoodle \",\" Snickerdoodle \",\" Snickerdoodle \",\" Snickerdoodle \",\" Snickerdoodle \",\" Snickerdoodle \",\" Snickerdoodle \",\" Snickerdoodle \",\" Snickerdoodle \",\" Snickerdoodle \",\" Snickerdoodle \",\" Snickerdoodle \",\" Snickerdoodle \",\" Snickerdoodle \",\" Snickerdoodle \",\" Snickerdoodle \",\" Snickerdoodle \",\" Snickerdoodle \",\" Snickerdoodle \",\" Snickerdoodle \",\" Snickerdoodle \",\" Snickerdoodle \",\" Snickerdoodle \",\" Snickerdoodle \",\" Snickerdoodle \",\" Snickerdoodle \",\" Snickerdoodle \",\" Snickerdoodle \",\" Snickerdoodle \",\" Sugar \",\" Sugar \",\" Sugar \",\" Sugar \",\" Sugar \",\" Sugar \",\" Sugar \",\" Sugar \",\" Sugar \",\" Sugar \",\" Sugar \",\" Sugar \",\" Sugar \",\" Sugar \",\" Sugar \",\" Sugar \",\" Sugar \",\" Sugar \",\" Sugar \",\" Sugar \",\" Sugar \",\" Sugar \",\" Sugar \",\" Sugar \",\" Sugar \",\" Sugar \",\" Sugar \",\" Sugar \",\" Sugar \",\" Sugar \",\" Sugar \",\" Sugar \",\" Sugar \",\" Sugar \",\" Sugar \",\" Sugar \",\" Sugar \",\" Sugar \",\" Sugar \",\" Sugar \",\" Sugar \",\" Sugar \",\" Sugar \",\" Sugar \",\" Sugar \",\" Sugar \",\" Sugar \",\" Sugar \",\" Sugar \",\" Sugar \",\" Sugar \",\" Sugar \",\" Sugar \",\" Sugar \",\" Sugar \",\" Sugar \",\" Sugar \",\" Sugar \",\" Sugar \",\" Sugar \",\" Sugar \",\" Sugar \",\" Sugar \",\" Sugar \",\" Sugar \",\" Sugar \",\" Sugar \",\" Sugar \",\" Sugar \",\" Sugar \",\" Sugar \",\" Sugar \",\" Sugar \",\" Sugar \",\" Sugar \",\" Sugar \",\" Sugar \",\" Sugar \",\" Sugar \",\" Sugar \",\" Sugar \",\" White Chocolate Macadamia Nut \",\" White Chocolate Macadamia Nut \",\" White Chocolate Macadamia Nut \",\" White Chocolate Macadamia Nut \",\" White Chocolate Macadamia Nut \",\" White Chocolate Macadamia Nut \",\" White Chocolate Macadamia Nut \",\" White Chocolate Macadamia Nut \",\" White Chocolate Macadamia Nut \",\" White Chocolate Macadamia Nut \",\" White Chocolate Macadamia Nut \",\" White Chocolate Macadamia Nut \",\" White Chocolate Macadamia Nut \",\" White Chocolate Macadamia Nut \",\" White Chocolate Macadamia Nut \",\" White Chocolate Macadamia Nut \",\" White Chocolate Macadamia Nut \",\" White Chocolate Macadamia Nut \",\" White Chocolate Macadamia Nut \",\" White Chocolate Macadamia Nut \",\" White Chocolate Macadamia Nut \",\" White Chocolate Macadamia Nut \",\" White Chocolate Macadamia Nut \",\" White Chocolate Macadamia Nut \",\" White Chocolate Macadamia Nut \",\" White Chocolate Macadamia Nut \",\" White Chocolate Macadamia Nut \",\" White Chocolate Macadamia Nut \",\" White Chocolate Macadamia Nut \",\" White Chocolate Macadamia Nut \",\" White Chocolate Macadamia Nut \",\" White Chocolate Macadamia Nut \",\" White Chocolate Macadamia Nut \",\" White Chocolate Macadamia Nut \",\" White Chocolate Macadamia Nut \",\" White Chocolate Macadamia Nut \",\" White Chocolate Macadamia Nut \",\" White Chocolate Macadamia Nut \",\" White Chocolate Macadamia Nut \",\" White Chocolate Macadamia Nut \",\" White Chocolate Macadamia Nut \",\" White Chocolate Macadamia Nut \",\" White Chocolate Macadamia Nut \",\" White Chocolate Macadamia Nut \",\" White Chocolate Macadamia Nut \",\" White Chocolate Macadamia Nut \",\" White Chocolate Macadamia Nut \",\" White Chocolate Macadamia Nut \",\" White Chocolate Macadamia Nut \",\" White Chocolate Macadamia Nut \",\" White Chocolate Macadamia Nut \",\" White Chocolate Macadamia Nut \",\" White Chocolate Macadamia Nut \",\" White Chocolate Macadamia Nut \",\" White Chocolate Macadamia Nut \",\" White Chocolate Macadamia Nut \",\" White Chocolate Macadamia Nut \",\" White Chocolate Macadamia Nut \",\" White Chocolate Macadamia Nut \",\" White Chocolate Macadamia Nut \",\" White Chocolate Macadamia Nut \",\" White Chocolate Macadamia Nut \",\" White Chocolate Macadamia Nut \",\" White Chocolate Macadamia Nut \",\" White Chocolate Macadamia Nut \",\" White Chocolate Macadamia Nut \",\" White Chocolate Macadamia Nut \",\" White Chocolate Macadamia Nut \",\" White Chocolate Macadamia Nut \",\" White Chocolate Macadamia Nut \",\" White Chocolate Macadamia Nut \",\" White Chocolate Macadamia Nut \",\" White Chocolate Macadamia Nut \",\" White Chocolate Macadamia Nut \",\" White Chocolate Macadamia Nut \",\" White Chocolate Macadamia Nut \",\" White Chocolate Macadamia Nut \",\" White Chocolate Macadamia Nut \",\" White Chocolate Macadamia Nut \",\" White Chocolate Macadamia Nut \",\" White Chocolate Macadamia Nut \",\" White Chocolate Macadamia Nut \"],\"shape\":[524],\"dtype\":\"object\",\"order\":\"little\"}],[\"x\",{\"type\":\"ndarray\",\"array\":[\" February \",\" June \",\" June \",\" July \",\" August \",\" September \",\" October \",\" December \",\" December \",\" January \",\" February \",\" May \",\" February \",\" April \",\" June \",\" June \",\" July \",\" September \",\" November \",\" December \",\" February \",\" May \",\" May \",\" June \",\" June \",\" October \",\" December \",\" December \",\" December \",\" December \",\" December \",\" January \",\" March \",\" June \",\" June \",\" June \",\" July \",\" October \",\" December \",\" December \",\" October \",\" January \",\" March \",\" April \",\" May \",\" July \",\" July \",\" September \",\" September \",\" September \",\" December \",\" December \",\" January \",\" October \",\" December \",\" February \",\" March \",\" March \",\" April \",\" May \",\" June \",\" June \",\" September \",\" October \",\" December \",\" April \",\" June \",\" August \",\" August \",\" October \",\" May \",\" June \",\" July \",\" August \",\" September \",\" May \",\" March \",\" April \",\" May \",\" June \",\" June \",\" August \",\" August \",\" September \",\" September \",\" December \",\" January \",\" January \",\" April \",\" June \",\" October \",\" November \",\" December \",\" March \",\" June \",\" October \",\" March \",\" May \",\" October \",\" April \",\" January \",\" March \",\" July \",\" July \",\" July \",\" August \",\" August \",\" October \",\" November \",\" January \",\" June \",\" October \",\" October \",\" November \",\" November \",\" November \",\" November \",\" December \",\" December \",\" January \",\" January \",\" February \",\" February \",\" June \",\" June \",\" July \",\" August \",\" October \",\" October \",\" November \",\" December \",\" February \",\" March \",\" September \",\" October \",\" February \",\" October \",\" October \",\" November \",\" November \",\" March \",\" April \",\" April \",\" May \",\" August \",\" October \",\" October \",\" December \",\" December \",\" April \",\" March \",\" June \",\" June \",\" June \",\" June \",\" July \",\" August \",\" September \",\" December \",\" March \",\" April \",\" July \",\" August \",\" June \",\" October \",\" November \",\" February \",\" June \",\" September \",\" December \",\" December \",\" October \",\" March \",\" August \",\" October \",\" December \",\" January \",\" July \",\" November \",\" April \",\" May \",\" November \",\" January \",\" November \",\" October \",\" October \",\" February \",\" June \",\" March \",\" June \",\" July \",\" August \",\" December \",\" April \",\" May \",\" November \",\" December \",\" September \",\" May \",\" December \",\" January \",\" December \",\" March \",\" April \",\" September \",\" October \",\" May \",\" January \",\" February \",\" June \",\" July \",\" October \",\" February \",\" January \",\" April \",\" May \",\" September \",\" December \",\" October \",\" February \",\" February \",\" April \",\" April \",\" June \",\" July \",\" August \",\" October \",\" December \",\" March \",\" March \",\" May \",\" November \",\" November \",\" December \",\" February \",\" April \",\" September \",\" July \",\" August \",\" February \",\" August \",\" December \",\" January \",\" September \",\" June \",\" May \",\" September \",\" November \",\" December \",\" June \",\" June \",\" June \",\" June \",\" June \",\" November \",\" December \",\" December \",\" September \",\" October \",\" November \",\" June \",\" July \",\" January \",\" February \",\" March \",\" April \",\" May \",\" August \",\" September \",\" December \",\" December \",\" July \",\" October \",\" January \",\" January \",\" May \",\" December \",\" February \",\" July \",\" October \",\" January \",\" June \",\" October \",\" October \",\" March \",\" May \",\" August \",\" October \",\" October \",\" March \",\" October \",\" January \",\" January \",\" June \",\" June \",\" June \",\" December \",\" February \",\" March \",\" July \",\" September \",\" September \",\" October \",\" December \",\" April \",\" October \",\" December \",\" April \",\" April \",\" June \",\" September \",\" May \",\" October \",\" December \",\" February \",\" February \",\" May \",\" June \",\" November \",\" December \",\" December \",\" January \",\" June \",\" September \",\" November \",\" February \",\" August \",\" March \",\" June \",\" October \",\" August \",\" November \",\" December \",\" June \",\" May \",\" July \",\" September \",\" December \",\" April \",\" February \",\" March \",\" July \",\" October \",\" June \",\" October \",\" November \",\" January \",\" June \",\" March \",\" March \",\" April \",\" May \",\" December \",\" July \",\" October \",\" October \",\" November \",\" December \",\" August \",\" August \",\" October \",\" February \",\" April \",\" June \",\" June \",\" September \",\" December \",\" March \",\" March \",\" April \",\" June \",\" June \",\" September \",\" October \",\" November \",\" June \",\" October \",\" December \",\" February \",\" April \",\" June \",\" August \",\" August \",\" January \",\" May \",\" October \",\" October \",\" December \",\" December \",\" December \",\" June \",\" June \",\" October \",\" April \",\" December \",\" January \",\" February \",\" February \",\" April \",\" June \",\" August \",\" August \",\" September \",\" July \",\" January \",\" February \",\" April \",\" May \",\" September \",\" October \",\" November \",\" October \",\" December \",\" May \",\" July \",\" August \",\" September \",\" November \",\" March \",\" January \",\" January \",\" May \",\" July \",\" October \",\" November \",\" December \",\" March \",\" December \",\" June \",\" June \",\" October \",\" December \",\" March \",\" August \",\" October \",\" October \",\" July \",\" July \",\" October \",\" November \",\" December \",\" May \",\" January \",\" February \",\" March \",\" June \",\" June \",\" August \",\" November \",\" April \",\" May \",\" August \",\" October \",\" October \",\" December \",\" December \",\" October \",\" April \",\" March \",\" October \",\" December \",\" January \",\" January \",\" February \",\" June \",\" August \",\" August \",\" October \",\" December \",\" February \",\" February \",\" May \",\" June \",\" June \",\" August \",\" November \",\" May \",\" June \",\" November \",\" December \",\" July \",\" August \",\" September \",\" October \",\" December \",\" March \",\" June \",\" June \",\" December \",\" May \",\" July \",\" July \",\" September \",\" September \",\" October \",\" March \",\" April \",\" January \",\" April \",\" May \",\" July \",\" September \",\" October \",\" November \",\" December \",\" January \",\" October \",\" November \",\" July \",\" October \",\" October \",\" January \",\" June \",\" June \",\" June \",\" October \",\" December \",\" February \",\" April \",\" July \",\" March \",\" May \",\" September \",\" December \"],\"shape\":[524],\"dtype\":\"object\",\"order\":\"little\"}],[\"y\",{\"type\":\"ndarray\",\"array\":{\"type\":\"bytes\",\"data\":\"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\"},\"shape\":[524],\"dtype\":\"float64\",\"order\":\"little\"}]]}}},\"view\":{\"type\":\"object\",\"name\":\"CDSView\",\"id\":\"p1343\",\"attributes\":{\"filter\":{\"type\":\"object\",\"name\":\"AllIndices\",\"id\":\"p1344\"}}},\"glyph\":{\"type\":\"object\",\"name\":\"Circle\",\"id\":\"p1339\",\"attributes\":{\"x\":{\"type\":\"field\",\"field\":\"x\"},\"y\":{\"type\":\"field\",\"field\":\"y\"},\"line_color\":{\"type\":\"value\",\"value\":\"#1f77b4\"},\"fill_color\":{\"type\":\"value\",\"value\":\"green\"}}},\"nonselection_glyph\":{\"type\":\"object\",\"name\":\"Circle\",\"id\":\"p1340\",\"attributes\":{\"x\":{\"type\":\"field\",\"field\":\"x\"},\"y\":{\"type\":\"field\",\"field\":\"y\"},\"line_color\":{\"type\":\"value\",\"value\":\"#1f77b4\"},\"line_alpha\":{\"type\":\"value\",\"value\":0.1},\"fill_color\":{\"type\":\"value\",\"value\":\"green\"},\"fill_alpha\":{\"type\":\"value\",\"value\":0.1},\"hatch_alpha\":{\"type\":\"value\",\"value\":0.1}}},\"muted_glyph\":{\"type\":\"object\",\"name\":\"Circle\",\"id\":\"p1341\",\"attributes\":{\"x\":{\"type\":\"field\",\"field\":\"x\"},\"y\":{\"type\":\"field\",\"field\":\"y\"},\"line_color\":{\"type\":\"value\",\"value\":\"#1f77b4\"},\"line_alpha\":{\"type\":\"value\",\"value\":0.2},\"fill_color\":{\"type\":\"value\",\"value\":\"green\"},\"fill_alpha\":{\"type\":\"value\",\"value\":0.2},\"hatch_alpha\":{\"type\":\"value\",\"value\":0.2}}}}}],\"toolbar\":{\"type\":\"object\",\"name\":\"Toolbar\",\"id\":\"p1294\",\"attributes\":{\"tools\":[{\"type\":\"object\",\"name\":\"PanTool\",\"id\":\"p1321\"},{\"type\":\"object\",\"name\":\"WheelZoomTool\",\"id\":\"p1322\"},{\"type\":\"object\",\"name\":\"BoxSelectTool\",\"id\":\"p1323\",\"attributes\":{\"renderers\":\"auto\",\"dimensions\":\"width\",\"overlay\":{\"type\":\"object\",\"name\":\"BoxAnnotation\",\"id\":\"p1324\",\"attributes\":{\"syncable\":false,\"level\":\"overlay\",\"visible\":false,\"editable\":true,\"line_color\":\"black\",\"line_alpha\":1.0,\"line_width\":2,\"line_dash\":[4,4],\"fill_color\":\"lightgrey\",\"fill_alpha\":0.5}}}},{\"type\":\"object\",\"name\":\"LassoSelectTool\",\"id\":\"p1325\",\"attributes\":{\"renderers\":\"auto\",\"overlay\":{\"type\":\"object\",\"name\":\"PolyAnnotation\",\"id\":\"p1326\",\"attributes\":{\"syncable\":false,\"level\":\"overlay\",\"visible\":false,\"xs\":[],\"ys\":[],\"editable\":true,\"line_color\":\"black\",\"line_alpha\":1.0,\"line_width\":2,\"line_dash\":[4,4],\"fill_color\":\"lightgrey\",\"fill_alpha\":0.5}}}},{\"type\":\"object\",\"name\":\"ResetTool\",\"id\":\"p1327\"}],\"active_drag\":null}},\"left\":[{\"type\":\"object\",\"name\":\"LinearAxis\",\"id\":\"p1314\",\"attributes\":{\"ticker\":{\"type\":\"object\",\"name\":\"BasicTicker\",\"id\":\"p1315\",\"attributes\":{\"mantissas\":[1,2,5]}},\"formatter\":{\"type\":\"object\",\"name\":\"BasicTickFormatter\",\"id\":\"p1316\"},\"major_label_policy\":{\"type\":\"object\",\"name\":\"AllLabels\",\"id\":\"p1317\"}}}],\"below\":[{\"type\":\"object\",\"name\":\"CategoricalAxis\",\"id\":\"p1308\",\"attributes\":{\"ticker\":{\"type\":\"object\",\"name\":\"CategoricalTicker\",\"id\":\"p1309\"},\"formatter\":{\"type\":\"object\",\"name\":\"CategoricalTickFormatter\",\"id\":\"p1310\"},\"major_label_policy\":{\"type\":\"object\",\"name\":\"AllLabels\",\"id\":\"p1311\"},\"axis_line_color\":\"red\"}}],\"center\":[{\"type\":\"object\",\"name\":\"Grid\",\"id\":\"p1313\",\"attributes\":{\"axis\":{\"id\":\"p1308\"}}},{\"type\":\"object\",\"name\":\"Grid\",\"id\":\"p1320\",\"attributes\":{\"dimension\":1,\"axis\":{\"id\":\"p1314\"}}}]}},{\"type\":\"object\",\"name\":\"Figure\",\"id\":\"p1345\",\"attributes\":{\"width\":800,\"height\":300,\"x_range\":{\"type\":\"object\",\"name\":\"FactorRange\",\"id\":\"p1354\",\"attributes\":{\"factors\":[\"Chocolate Chip\",\" Chocolate Chip \",\" Fortune Cookie \",\" Oatmeal Raisin \",\" Snickerdoodle \",\" Sugar \",\" White Chocolate Macadamia Nut \"]}},\"y_range\":{\"type\":\"object\",\"name\":\"DataRange1d\",\"id\":\"p1347\"},\"x_scale\":{\"type\":\"object\",\"name\":\"CategoricalScale\",\"id\":\"p1358\"},\"y_scale\":{\"type\":\"object\",\"name\":\"LinearScale\",\"id\":\"p1360\"},\"title\":{\"type\":\"object\",\"name\":\"Title\",\"id\":\"p1353\"},\"renderers\":[{\"type\":\"object\",\"name\":\"GlyphRenderer\",\"id\":\"p1396\",\"attributes\":{\"data_source\":{\"id\":\"p1002\"},\"view\":{\"type\":\"object\",\"name\":\"CDSView\",\"id\":\"p1397\",\"attributes\":{\"filter\":{\"type\":\"object\",\"name\":\"AllIndices\",\"id\":\"p1398\"}}},\"glyph\":{\"type\":\"object\",\"name\":\"Circle\",\"id\":\"p1393\",\"attributes\":{\"x\":{\"type\":\"field\",\"field\":\"b\"},\"y\":{\"type\":\"field\",\"field\":\"y\"},\"line_color\":{\"type\":\"value\",\"value\":\"#1f77b4\"},\"fill_color\":{\"type\":\"value\",\"value\":\"blue\"}}},\"nonselection_glyph\":{\"type\":\"object\",\"name\":\"Circle\",\"id\":\"p1394\",\"attributes\":{\"x\":{\"type\":\"field\",\"field\":\"b\"},\"y\":{\"type\":\"field\",\"field\":\"y\"},\"line_color\":{\"type\":\"value\",\"value\":\"#1f77b4\"},\"line_alpha\":{\"type\":\"value\",\"value\":0.1},\"fill_color\":{\"type\":\"value\",\"value\":\"blue\"},\"fill_alpha\":{\"type\":\"value\",\"value\":0.1},\"hatch_alpha\":{\"type\":\"value\",\"value\":0.1}}},\"muted_glyph\":{\"type\":\"object\",\"name\":\"Circle\",\"id\":\"p1395\",\"attributes\":{\"x\":{\"type\":\"field\",\"field\":\"b\"},\"y\":{\"type\":\"field\",\"field\":\"y\"},\"line_color\":{\"type\":\"value\",\"value\":\"#1f77b4\"},\"line_alpha\":{\"type\":\"value\",\"value\":0.2},\"fill_color\":{\"type\":\"value\",\"value\":\"blue\"},\"fill_alpha\":{\"type\":\"value\",\"value\":0.2},\"hatch_alpha\":{\"type\":\"value\",\"value\":0.2}}}}}],\"toolbar\":{\"type\":\"object\",\"name\":\"Toolbar\",\"id\":\"p1348\",\"attributes\":{\"tools\":[{\"type\":\"object\",\"name\":\"PanTool\",\"id\":\"p1375\"},{\"type\":\"object\",\"name\":\"WheelZoomTool\",\"id\":\"p1376\"},{\"type\":\"object\",\"name\":\"BoxSelectTool\",\"id\":\"p1377\",\"attributes\":{\"renderers\":\"auto\",\"dimensions\":\"width\",\"overlay\":{\"type\":\"object\",\"name\":\"BoxAnnotation\",\"id\":\"p1378\",\"attributes\":{\"syncable\":false,\"level\":\"overlay\",\"visible\":false,\"editable\":true,\"line_color\":\"black\",\"line_alpha\":1.0,\"line_width\":2,\"line_dash\":[4,4],\"fill_color\":\"lightgrey\",\"fill_alpha\":0.5}}}},{\"type\":\"object\",\"name\":\"LassoSelectTool\",\"id\":\"p1379\",\"attributes\":{\"renderers\":\"auto\",\"overlay\":{\"type\":\"object\",\"name\":\"PolyAnnotation\",\"id\":\"p1380\",\"attributes\":{\"syncable\":false,\"level\":\"overlay\",\"visible\":false,\"xs\":[],\"ys\":[],\"editable\":true,\"line_color\":\"black\",\"line_alpha\":1.0,\"line_width\":2,\"line_dash\":[4,4],\"fill_color\":\"lightgrey\",\"fill_alpha\":0.5}}}},{\"type\":\"object\",\"name\":\"ResetTool\",\"id\":\"p1381\"}],\"active_drag\":null}},\"left\":[{\"type\":\"object\",\"name\":\"LinearAxis\",\"id\":\"p1368\",\"attributes\":{\"ticker\":{\"type\":\"object\",\"name\":\"BasicTicker\",\"id\":\"p1369\",\"attributes\":{\"mantissas\":[1,2,5]}},\"formatter\":{\"type\":\"object\",\"name\":\"BasicTickFormatter\",\"id\":\"p1370\"},\"major_label_policy\":{\"type\":\"object\",\"name\":\"AllLabels\",\"id\":\"p1371\"},\"major_label_text_color\":\"magenta\",\"axis_line_color\":\"orange\"}}],\"below\":[{\"type\":\"object\",\"name\":\"CategoricalAxis\",\"id\":\"p1362\",\"attributes\":{\"ticker\":{\"type\":\"object\",\"name\":\"CategoricalTicker\",\"id\":\"p1363\"},\"formatter\":{\"type\":\"object\",\"name\":\"CategoricalTickFormatter\",\"id\":\"p1364\"},\"major_label_policy\":{\"type\":\"object\",\"name\":\"AllLabels\",\"id\":\"p1365\"}}}],\"center\":[{\"type\":\"object\",\"name\":\"Grid\",\"id\":\"p1367\",\"attributes\":{\"axis\":{\"id\":\"p1362\"}}},{\"type\":\"object\",\"name\":\"Grid\",\"id\":\"p1374\",\"attributes\":{\"dimension\":1,\"axis\":{\"id\":\"p1368\"}}}]}}]}}],\"callbacks\":{\"type\":\"map\"}}};\n",
       "  const render_items = [{\"docid\":\"e99240e4-8389-4991-84d2-0553f24b3790\",\"roots\":{\"p1399\":\"4f0f6e0f-4984-4d2d-b75c-f0d877aaa3f0\"},\"root_ids\":[\"p1399\"]}];\n",
       "  root.Bokeh.embed.embed_items_notebook(docs_json, render_items);\n",
       "  }\n",
       "  if (root.Bokeh !== undefined) {\n",
       "    embed_document(root);\n",
       "  } else {\n",
       "    let attempts = 0;\n",
       "    const timer = setInterval(function(root) {\n",
       "      if (root.Bokeh !== undefined) {\n",
       "        clearInterval(timer);\n",
       "        embed_document(root);\n",
       "      } else {\n",
       "        attempts++;\n",
       "        if (attempts > 100) {\n",
       "          clearInterval(timer);\n",
       "          console.log(\"Bokeh: ERROR: Unable to run BokehJS code because BokehJS library is missing\");\n",
       "        }\n",
       "      }\n",
       "    }, 10, root)\n",
       "  }\n",
       "})(window);"
      ],
      "application/vnd.bokehjs_exec.v0+json": ""
     },
     "metadata": {
      "application/vnd.bokehjs_exec.v0+json": {
       "id": "p1399"
      }
     },
     "output_type": "display_data"
    }
   ],
   "source": [
    "p1 = figure(width = 800, height = 300, x_range = data[' February '].unique(), tools = 'pan, wheel_zoom, xbox_select, lasso_select, reset', active_drag = None)\n",
    "p1.circle(x = 'x', y = 'y', source = source, fill_color = 'green')\n",
    "p1.xaxis.axis_line_color = 'red'\n",
    "p2 = figure(width = 800, height = 300, x_range = data[' Chocolate Chip '].unique(), tools = 'pan, wheel_zoom, xbox_select, lasso_select, reset', active_drag = None)\n",
    "p2.circle(x = 'b', y = 'y', source = source, fill_color = 'blue')\n",
    "p2.yaxis.axis_line_color = 'orange'\n",
    "p2.yaxis.major_label_text_color = 'magenta'\n",
    "show(column(p1, p2))"
   ]
  }
 ],
 "metadata": {
  "kernelspec": {
   "display_name": "Python 3 (ipykernel)",
   "language": "python",
   "name": "python3"
  },
  "language_info": {
   "codemirror_mode": {
    "name": "ipython",
    "version": 3
   },
   "file_extension": ".py",
   "mimetype": "text/x-python",
   "name": "python",
   "nbconvert_exporter": "python",
   "pygments_lexer": "ipython3",
   "version": "3.10.6"
  }
 },
 "nbformat": 4,
 "nbformat_minor": 5
}
